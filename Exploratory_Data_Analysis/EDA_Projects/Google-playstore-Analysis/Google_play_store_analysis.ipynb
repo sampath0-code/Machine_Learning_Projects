{
  "cells": [
    {
      "cell_type": "code",
      "execution_count": 9,
      "metadata": {
        "id": "MyFdNKbonzFM"
      },
      "outputs": [],
      "source": [
        "# Jovian Commit Essentials\n",
        "# Please retain and execute this cell without modifying the contents for `jovian.commit` to work\n",
        "!pip install jovian --upgrade -q\n",
        "import jovian\n",
        "jovian.set_project('google-play-store-analysis')\n",
        "jovian.set_colab_id('1NhSir7A4176xuz3e-yZ0PhBBGvE67gCY')"
      ]
    },
    {
      "cell_type": "code",
      "execution_count": 111,
      "metadata": {
        "colab": {
          "base_uri": "https://localhost:8080/",
          "height": 91
        },
        "id": "ClLw__o_W6VM",
        "outputId": "4a25254f-ac6a-4437-a9c9-02fb4786f33f"
      },
      "outputs": [
        {
          "output_type": "stream",
          "name": "stdout",
          "text": [
            "[jovian] Detected Colab notebook...\u001b[0m\n",
            "[jovian] Uploading colab notebook to Jovian...\u001b[0m\n",
            "Committed successfully! https://jovian.ai/lamsampathkumar0/google-play-store-analysis\n"
          ]
        },
        {
          "output_type": "execute_result",
          "data": {
            "text/plain": [
              "'https://jovian.ai/lamsampathkumar0/google-play-store-analysis'"
            ],
            "application/vnd.google.colaboratory.intrinsic+json": {
              "type": "string"
            }
          },
          "metadata": {},
          "execution_count": 111
        }
      ],
      "source": [
        "jovian.commit()"
      ]
    },
    {
      "cell_type": "markdown",
      "metadata": {
        "id": "as4SYNnBxbyo"
      },
      "source": [
        "# **Exploratory Data Analysis** :          \n",
        "\n",
        "Exploratory data analysis (EDA) is used to analyze and investigate data sets and summarize their main characteristics, often employing data visualization methods. It helps determine how best to manipulate data sources to get the answers you need, making it easier for data scientists to discover patterns, spot anomalies, test a hypothesis, or check assumptions.\n",
        "\n",
        "---\n",
        "\n",
        "\n",
        "> Here we are using the Google Playstore dataset, which \n",
        "contains details about the Apps in playstore, there are more than 10,0000+ Apps in the playstore.The size of the dataset is 210Mb.\n",
        "\n",
        "\n",
        "\n",
        "> The main objective of this project is to deliver insights to understand customer demands better and thus help developers to popularize the product.\n",
        "\n",
        "\n",
        "\n",
        "\n",
        "\n",
        "> The dataset we are using is taken from the Kaggle, the link of the dataset is given below\n",
        "\n",
        "\n",
        "\n",
        "> ↪ *Exploratory Data Analysis on Google playstore dataset*\n",
        "\n",
        "\n",
        "> ↪ *Dataset link*🔗 [*kaggle link*](https://www.kaggle.com/datasets/gauthamp10/google-playstore-apps)\n",
        "\n",
        "\n",
        "\n",
        " \n",
        "\n",
        "\n",
        "\n"
      ]
    },
    {
      "cell_type": "markdown",
      "metadata": {
        "id": "yqxK6tzzyOgG"
      },
      "source": [
        "## Importing the dependecies"
      ]
    },
    {
      "cell_type": "code",
      "execution_count": 11,
      "metadata": {
        "id": "GO-vO6Azxbgw"
      },
      "outputs": [],
      "source": [
        "import pandas as pd\n",
        "import numpy as np\n",
        "import matplotlib.pyplot as plt\n",
        "import seaborn as sns\n",
        "%matplotlib inline"
      ]
    },
    {
      "cell_type": "markdown",
      "metadata": {
        "id": "iLtehJ6Ns8VK"
      },
      "source": [
        "## Downloading the dataset\n",
        " ↪ using opendatsets"
      ]
    },
    {
      "cell_type": "code",
      "execution_count": 12,
      "metadata": {
        "id": "777U1VPVznEu"
      },
      "outputs": [],
      "source": [
        "! pip install opendatasets --quiet"
      ]
    },
    {
      "cell_type": "code",
      "execution_count": 13,
      "metadata": {
        "colab": {
          "base_uri": "https://localhost:8080/"
        },
        "id": "W7tmvS9BwTiH",
        "outputId": "2ac70610-1494-44b3-ef1d-86abb1d3e3ab"
      },
      "outputs": [
        {
          "output_type": "stream",
          "name": "stdout",
          "text": [
            "Skipping, found downloaded files in \"./google-playstore-apps\" (use force=True to force download)\n"
          ]
        }
      ],
      "source": [
        "import opendatasets as od \n",
        "dataset_url = 'https://www.kaggle.com/datasets/gauthamp10/google-playstore-apps'\n",
        "od.download(dataset_url)"
      ]
    },
    {
      "cell_type": "markdown",
      "metadata": {
        "id": "f5qQxpYLtdZ6"
      },
      "source": [
        "# Data Preparation and Cleaing\n",
        " ↪ Load the csv file with the pandas\n",
        " \n",
        " ↪ creating the dataframe and understanding the data present in the dataset\n",
        " \n",
        " ↪ Dealing with the missing data and the incorrect records"
      ]
    },
    {
      "cell_type": "code",
      "execution_count": 14,
      "metadata": {
        "id": "nXwHWTnyzjmc"
      },
      "outputs": [],
      "source": [
        "df = pd.read_csv('/content/google-playstore-apps/Google-Playstore.csv')"
      ]
    },
    {
      "cell_type": "markdown",
      "metadata": {
        "id": "8C5sJrKSz7gU"
      },
      "source": [
        " viewing the first 5 rows of the datset"
      ]
    },
    {
      "cell_type": "code",
      "execution_count": 15,
      "metadata": {
        "id": "obAFALT01IXp",
        "colab": {
          "base_uri": "https://localhost:8080/",
          "height": 542
        },
        "outputId": "d40a3198-e3f2-48a4-bcac-f3eb3efb0efb"
      },
      "outputs": [
        {
          "output_type": "execute_result",
          "data": {
            "text/plain": [
              "                                            App Name  \\\n",
              "0                                            Gakondo   \n",
              "1                                Ampere Battery Info   \n",
              "2                                             Vibook   \n",
              "3  Smart City Trichy Public Service Vehicles 17UC...   \n",
              "4                                            GROW.me   \n",
              "\n",
              "                       App Id       Category  Rating  Rating Count Installs  \\\n",
              "0         com.ishakwe.gakondo      Adventure     0.0           0.0      10+   \n",
              "1  com.webserveis.batteryinfo          Tools     4.4          64.0   5,000+   \n",
              "2        com.doantiepvien.crm   Productivity     0.0           0.0      50+   \n",
              "3     cst.stJoseph.ug17ucs548  Communication     5.0           5.0      10+   \n",
              "4        com.horodyski.grower          Tools     0.0           0.0     100+   \n",
              "\n",
              "   Minimum Installs  Maximum Installs  Free  Price  ...  \\\n",
              "0              10.0                15  True    0.0  ...   \n",
              "1            5000.0              7662  True    0.0  ...   \n",
              "2              50.0                58  True    0.0  ...   \n",
              "3              10.0                19  True    0.0  ...   \n",
              "4             100.0               478  True    0.0  ...   \n",
              "\n",
              "                  Developer Website              Developer Email  \\\n",
              "0       https://beniyizibyose.tk/#/       jean21101999@gmail.com   \n",
              "1   https://webserveis.netlify.app/         webserveis@gmail.com   \n",
              "2                               NaN          vnacrewit@gmail.com   \n",
              "3  http://www.climatesmarttech.com/  climatesmarttech2@gmail.com   \n",
              "4       http://www.horodyski.com.pl    rmilekhorodyski@gmail.com   \n",
              "\n",
              "       Released  Last Updated Content Rating  \\\n",
              "0  Feb 26, 2020  Feb 26, 2020       Everyone   \n",
              "1  May 21, 2020  May 06, 2021       Everyone   \n",
              "2   Aug 9, 2019  Aug 19, 2019       Everyone   \n",
              "3  Sep 10, 2018  Oct 13, 2018       Everyone   \n",
              "4  Feb 21, 2020  Nov 12, 2018       Everyone   \n",
              "\n",
              "                                      Privacy Policy Ad Supported  \\\n",
              "0                 https://beniyizibyose.tk/projects/        False   \n",
              "1  https://dev4phones.wordpress.com/licencia-de-uso/         True   \n",
              "2  https://www.vietnamairlines.com/vn/en/terms-an...        False   \n",
              "3                                                NaN         True   \n",
              "4                        http://www.horodyski.com.pl        False   \n",
              "\n",
              "  In App Purchases Editors Choice         Scraped Time  \n",
              "0            False          False  2021-06-15 20:19:35  \n",
              "1            False          False  2021-06-15 20:19:35  \n",
              "2            False          False  2021-06-15 20:19:35  \n",
              "3            False          False  2021-06-15 20:19:35  \n",
              "4            False          False  2021-06-15 20:19:35  \n",
              "\n",
              "[5 rows x 24 columns]"
            ],
            "text/html": [
              "\n",
              "  <div id=\"df-3e736da8-0848-40f7-8630-f67235a0645b\">\n",
              "    <div class=\"colab-df-container\">\n",
              "      <div>\n",
              "<style scoped>\n",
              "    .dataframe tbody tr th:only-of-type {\n",
              "        vertical-align: middle;\n",
              "    }\n",
              "\n",
              "    .dataframe tbody tr th {\n",
              "        vertical-align: top;\n",
              "    }\n",
              "\n",
              "    .dataframe thead th {\n",
              "        text-align: right;\n",
              "    }\n",
              "</style>\n",
              "<table border=\"1\" class=\"dataframe\">\n",
              "  <thead>\n",
              "    <tr style=\"text-align: right;\">\n",
              "      <th></th>\n",
              "      <th>App Name</th>\n",
              "      <th>App Id</th>\n",
              "      <th>Category</th>\n",
              "      <th>Rating</th>\n",
              "      <th>Rating Count</th>\n",
              "      <th>Installs</th>\n",
              "      <th>Minimum Installs</th>\n",
              "      <th>Maximum Installs</th>\n",
              "      <th>Free</th>\n",
              "      <th>Price</th>\n",
              "      <th>...</th>\n",
              "      <th>Developer Website</th>\n",
              "      <th>Developer Email</th>\n",
              "      <th>Released</th>\n",
              "      <th>Last Updated</th>\n",
              "      <th>Content Rating</th>\n",
              "      <th>Privacy Policy</th>\n",
              "      <th>Ad Supported</th>\n",
              "      <th>In App Purchases</th>\n",
              "      <th>Editors Choice</th>\n",
              "      <th>Scraped Time</th>\n",
              "    </tr>\n",
              "  </thead>\n",
              "  <tbody>\n",
              "    <tr>\n",
              "      <th>0</th>\n",
              "      <td>Gakondo</td>\n",
              "      <td>com.ishakwe.gakondo</td>\n",
              "      <td>Adventure</td>\n",
              "      <td>0.0</td>\n",
              "      <td>0.0</td>\n",
              "      <td>10+</td>\n",
              "      <td>10.0</td>\n",
              "      <td>15</td>\n",
              "      <td>True</td>\n",
              "      <td>0.0</td>\n",
              "      <td>...</td>\n",
              "      <td>https://beniyizibyose.tk/#/</td>\n",
              "      <td>jean21101999@gmail.com</td>\n",
              "      <td>Feb 26, 2020</td>\n",
              "      <td>Feb 26, 2020</td>\n",
              "      <td>Everyone</td>\n",
              "      <td>https://beniyizibyose.tk/projects/</td>\n",
              "      <td>False</td>\n",
              "      <td>False</td>\n",
              "      <td>False</td>\n",
              "      <td>2021-06-15 20:19:35</td>\n",
              "    </tr>\n",
              "    <tr>\n",
              "      <th>1</th>\n",
              "      <td>Ampere Battery Info</td>\n",
              "      <td>com.webserveis.batteryinfo</td>\n",
              "      <td>Tools</td>\n",
              "      <td>4.4</td>\n",
              "      <td>64.0</td>\n",
              "      <td>5,000+</td>\n",
              "      <td>5000.0</td>\n",
              "      <td>7662</td>\n",
              "      <td>True</td>\n",
              "      <td>0.0</td>\n",
              "      <td>...</td>\n",
              "      <td>https://webserveis.netlify.app/</td>\n",
              "      <td>webserveis@gmail.com</td>\n",
              "      <td>May 21, 2020</td>\n",
              "      <td>May 06, 2021</td>\n",
              "      <td>Everyone</td>\n",
              "      <td>https://dev4phones.wordpress.com/licencia-de-uso/</td>\n",
              "      <td>True</td>\n",
              "      <td>False</td>\n",
              "      <td>False</td>\n",
              "      <td>2021-06-15 20:19:35</td>\n",
              "    </tr>\n",
              "    <tr>\n",
              "      <th>2</th>\n",
              "      <td>Vibook</td>\n",
              "      <td>com.doantiepvien.crm</td>\n",
              "      <td>Productivity</td>\n",
              "      <td>0.0</td>\n",
              "      <td>0.0</td>\n",
              "      <td>50+</td>\n",
              "      <td>50.0</td>\n",
              "      <td>58</td>\n",
              "      <td>True</td>\n",
              "      <td>0.0</td>\n",
              "      <td>...</td>\n",
              "      <td>NaN</td>\n",
              "      <td>vnacrewit@gmail.com</td>\n",
              "      <td>Aug 9, 2019</td>\n",
              "      <td>Aug 19, 2019</td>\n",
              "      <td>Everyone</td>\n",
              "      <td>https://www.vietnamairlines.com/vn/en/terms-an...</td>\n",
              "      <td>False</td>\n",
              "      <td>False</td>\n",
              "      <td>False</td>\n",
              "      <td>2021-06-15 20:19:35</td>\n",
              "    </tr>\n",
              "    <tr>\n",
              "      <th>3</th>\n",
              "      <td>Smart City Trichy Public Service Vehicles 17UC...</td>\n",
              "      <td>cst.stJoseph.ug17ucs548</td>\n",
              "      <td>Communication</td>\n",
              "      <td>5.0</td>\n",
              "      <td>5.0</td>\n",
              "      <td>10+</td>\n",
              "      <td>10.0</td>\n",
              "      <td>19</td>\n",
              "      <td>True</td>\n",
              "      <td>0.0</td>\n",
              "      <td>...</td>\n",
              "      <td>http://www.climatesmarttech.com/</td>\n",
              "      <td>climatesmarttech2@gmail.com</td>\n",
              "      <td>Sep 10, 2018</td>\n",
              "      <td>Oct 13, 2018</td>\n",
              "      <td>Everyone</td>\n",
              "      <td>NaN</td>\n",
              "      <td>True</td>\n",
              "      <td>False</td>\n",
              "      <td>False</td>\n",
              "      <td>2021-06-15 20:19:35</td>\n",
              "    </tr>\n",
              "    <tr>\n",
              "      <th>4</th>\n",
              "      <td>GROW.me</td>\n",
              "      <td>com.horodyski.grower</td>\n",
              "      <td>Tools</td>\n",
              "      <td>0.0</td>\n",
              "      <td>0.0</td>\n",
              "      <td>100+</td>\n",
              "      <td>100.0</td>\n",
              "      <td>478</td>\n",
              "      <td>True</td>\n",
              "      <td>0.0</td>\n",
              "      <td>...</td>\n",
              "      <td>http://www.horodyski.com.pl</td>\n",
              "      <td>rmilekhorodyski@gmail.com</td>\n",
              "      <td>Feb 21, 2020</td>\n",
              "      <td>Nov 12, 2018</td>\n",
              "      <td>Everyone</td>\n",
              "      <td>http://www.horodyski.com.pl</td>\n",
              "      <td>False</td>\n",
              "      <td>False</td>\n",
              "      <td>False</td>\n",
              "      <td>2021-06-15 20:19:35</td>\n",
              "    </tr>\n",
              "  </tbody>\n",
              "</table>\n",
              "<p>5 rows × 24 columns</p>\n",
              "</div>\n",
              "      <button class=\"colab-df-convert\" onclick=\"convertToInteractive('df-3e736da8-0848-40f7-8630-f67235a0645b')\"\n",
              "              title=\"Convert this dataframe to an interactive table.\"\n",
              "              style=\"display:none;\">\n",
              "        \n",
              "  <svg xmlns=\"http://www.w3.org/2000/svg\" height=\"24px\"viewBox=\"0 0 24 24\"\n",
              "       width=\"24px\">\n",
              "    <path d=\"M0 0h24v24H0V0z\" fill=\"none\"/>\n",
              "    <path d=\"M18.56 5.44l.94 2.06.94-2.06 2.06-.94-2.06-.94-.94-2.06-.94 2.06-2.06.94zm-11 1L8.5 8.5l.94-2.06 2.06-.94-2.06-.94L8.5 2.5l-.94 2.06-2.06.94zm10 10l.94 2.06.94-2.06 2.06-.94-2.06-.94-.94-2.06-.94 2.06-2.06.94z\"/><path d=\"M17.41 7.96l-1.37-1.37c-.4-.4-.92-.59-1.43-.59-.52 0-1.04.2-1.43.59L10.3 9.45l-7.72 7.72c-.78.78-.78 2.05 0 2.83L4 21.41c.39.39.9.59 1.41.59.51 0 1.02-.2 1.41-.59l7.78-7.78 2.81-2.81c.8-.78.8-2.07 0-2.86zM5.41 20L4 18.59l7.72-7.72 1.47 1.35L5.41 20z\"/>\n",
              "  </svg>\n",
              "      </button>\n",
              "      \n",
              "  <style>\n",
              "    .colab-df-container {\n",
              "      display:flex;\n",
              "      flex-wrap:wrap;\n",
              "      gap: 12px;\n",
              "    }\n",
              "\n",
              "    .colab-df-convert {\n",
              "      background-color: #E8F0FE;\n",
              "      border: none;\n",
              "      border-radius: 50%;\n",
              "      cursor: pointer;\n",
              "      display: none;\n",
              "      fill: #1967D2;\n",
              "      height: 32px;\n",
              "      padding: 0 0 0 0;\n",
              "      width: 32px;\n",
              "    }\n",
              "\n",
              "    .colab-df-convert:hover {\n",
              "      background-color: #E2EBFA;\n",
              "      box-shadow: 0px 1px 2px rgba(60, 64, 67, 0.3), 0px 1px 3px 1px rgba(60, 64, 67, 0.15);\n",
              "      fill: #174EA6;\n",
              "    }\n",
              "\n",
              "    [theme=dark] .colab-df-convert {\n",
              "      background-color: #3B4455;\n",
              "      fill: #D2E3FC;\n",
              "    }\n",
              "\n",
              "    [theme=dark] .colab-df-convert:hover {\n",
              "      background-color: #434B5C;\n",
              "      box-shadow: 0px 1px 3px 1px rgba(0, 0, 0, 0.15);\n",
              "      filter: drop-shadow(0px 1px 2px rgba(0, 0, 0, 0.3));\n",
              "      fill: #FFFFFF;\n",
              "    }\n",
              "  </style>\n",
              "\n",
              "      <script>\n",
              "        const buttonEl =\n",
              "          document.querySelector('#df-3e736da8-0848-40f7-8630-f67235a0645b button.colab-df-convert');\n",
              "        buttonEl.style.display =\n",
              "          google.colab.kernel.accessAllowed ? 'block' : 'none';\n",
              "\n",
              "        async function convertToInteractive(key) {\n",
              "          const element = document.querySelector('#df-3e736da8-0848-40f7-8630-f67235a0645b');\n",
              "          const dataTable =\n",
              "            await google.colab.kernel.invokeFunction('convertToInteractive',\n",
              "                                                     [key], {});\n",
              "          if (!dataTable) return;\n",
              "\n",
              "          const docLinkHtml = 'Like what you see? Visit the ' +\n",
              "            '<a target=\"_blank\" href=https://colab.research.google.com/notebooks/data_table.ipynb>data table notebook</a>'\n",
              "            + ' to learn more about interactive tables.';\n",
              "          element.innerHTML = '';\n",
              "          dataTable['output_type'] = 'display_data';\n",
              "          await google.colab.output.renderOutput(dataTable, element);\n",
              "          const docLink = document.createElement('div');\n",
              "          docLink.innerHTML = docLinkHtml;\n",
              "          element.appendChild(docLink);\n",
              "        }\n",
              "      </script>\n",
              "    </div>\n",
              "  </div>\n",
              "  "
            ]
          },
          "metadata": {},
          "execution_count": 15
        }
      ],
      "source": [
        "df.head(5)"
      ]
    },
    {
      "cell_type": "markdown",
      "metadata": {
        "id": "t6TsWwT61VDV"
      },
      "source": [
        "Let's see what are the columns were given in the Google-Playstore dataset"
      ]
    },
    {
      "cell_type": "code",
      "execution_count": 16,
      "metadata": {
        "id": "gegd0VaX1Qei",
        "colab": {
          "base_uri": "https://localhost:8080/"
        },
        "outputId": "6ec72661-17bb-4c91-a926-2985322ea142"
      },
      "outputs": [
        {
          "output_type": "execute_result",
          "data": {
            "text/plain": [
              "Index(['App Name', 'App Id', 'Category', 'Rating', 'Rating Count', 'Installs',\n",
              "       'Minimum Installs', 'Maximum Installs', 'Free', 'Price', 'Currency',\n",
              "       'Size', 'Minimum Android', 'Developer Id', 'Developer Website',\n",
              "       'Developer Email', 'Released', 'Last Updated', 'Content Rating',\n",
              "       'Privacy Policy', 'Ad Supported', 'In App Purchases', 'Editors Choice',\n",
              "       'Scraped Time'],\n",
              "      dtype='object')"
            ]
          },
          "metadata": {},
          "execution_count": 16
        }
      ],
      "source": [
        "df.columns"
      ]
    },
    {
      "cell_type": "markdown",
      "metadata": {
        "id": "kLiomWl_0MCi"
      },
      "source": [
        "let's see the shape of the dataset"
      ]
    },
    {
      "cell_type": "code",
      "execution_count": 17,
      "metadata": {
        "id": "gDrpcryE17un",
        "colab": {
          "base_uri": "https://localhost:8080/"
        },
        "outputId": "97d06751-0ceb-45e9-d6cd-cf0c2fbbe4d4"
      },
      "outputs": [
        {
          "output_type": "execute_result",
          "data": {
            "text/plain": [
              "(2312944, 24)"
            ]
          },
          "metadata": {},
          "execution_count": 17
        }
      ],
      "source": [
        "df.shape"
      ]
    },
    {
      "cell_type": "code",
      "execution_count": 18,
      "metadata": {
        "id": "bSo-UZFX2RGD",
        "colab": {
          "base_uri": "https://localhost:8080/"
        },
        "outputId": "75fbceba-be2d-4a01-e566-28cbe5c65b62"
      },
      "outputs": [
        {
          "output_type": "stream",
          "name": "stdout",
          "text": [
            "<class 'pandas.core.frame.DataFrame'>\n",
            "RangeIndex: 2312944 entries, 0 to 2312943\n",
            "Data columns (total 24 columns):\n",
            " #   Column             Dtype  \n",
            "---  ------             -----  \n",
            " 0   App Name           object \n",
            " 1   App Id             object \n",
            " 2   Category           object \n",
            " 3   Rating             float64\n",
            " 4   Rating Count       float64\n",
            " 5   Installs           object \n",
            " 6   Minimum Installs   float64\n",
            " 7   Maximum Installs   int64  \n",
            " 8   Free               bool   \n",
            " 9   Price              float64\n",
            " 10  Currency           object \n",
            " 11  Size               object \n",
            " 12  Minimum Android    object \n",
            " 13  Developer Id       object \n",
            " 14  Developer Website  object \n",
            " 15  Developer Email    object \n",
            " 16  Released           object \n",
            " 17  Last Updated       object \n",
            " 18  Content Rating     object \n",
            " 19  Privacy Policy     object \n",
            " 20  Ad Supported       bool   \n",
            " 21  In App Purchases   bool   \n",
            " 22  Editors Choice     bool   \n",
            " 23  Scraped Time       object \n",
            "dtypes: bool(4), float64(4), int64(1), object(15)\n",
            "memory usage: 361.8+ MB\n"
          ]
        }
      ],
      "source": [
        "df.info()"
      ]
    },
    {
      "cell_type": "markdown",
      "metadata": {
        "id": "kQPidhl81kQq"
      },
      "source": [
        "## Observation:\n",
        "\n",
        "---\n",
        "1. The dataset having   2312944 rows and 24 columns \n",
        "2. The columns in the dataset are:\n",
        " \n",
        "        'App Name', 'App Id', 'Category', 'Rating', 'Rating Count, Installs','Minimum Installs', 'Maximum Installs', 'Free', 'Price', \n",
        "        'Currency','Size', 'Minimum Android', 'Developer Id', 'Developer Website','Developer Email', 'Released', 'Last Updated', \n",
        "        'Content Rating','Privacy Policy', 'Ad Supported', 'In App Purchases', 'Editors Choice','Scraped Time'\n"
      ]
    },
    {
      "cell_type": "markdown",
      "metadata": {
        "id": "gQI3Ov0DbbK7"
      },
      "source": [
        "## Descriptive statistics"
      ]
    },
    {
      "cell_type": "code",
      "execution_count": 19,
      "metadata": {
        "colab": {
          "base_uri": "https://localhost:8080/",
          "height": 300
        },
        "id": "hc3px6XK1iVD",
        "outputId": "4b0153f0-4dd2-45f5-9340-c33c4af660de"
      },
      "outputs": [
        {
          "output_type": "execute_result",
          "data": {
            "text/plain": [
              "             Rating  Rating Count  Minimum Installs  Maximum Installs  \\\n",
              "count  2.290061e+06  2.290061e+06      2.312837e+06      2.312944e+06   \n",
              "mean   2.203152e+00  2.864839e+03      1.834452e+05      3.202017e+05   \n",
              "std    2.106223e+00  2.121626e+05      1.513144e+07      2.355495e+07   \n",
              "min    0.000000e+00  0.000000e+00      0.000000e+00      0.000000e+00   \n",
              "25%    0.000000e+00  0.000000e+00      5.000000e+01      8.400000e+01   \n",
              "50%    2.900000e+00  6.000000e+00      5.000000e+02      6.950000e+02   \n",
              "75%    4.300000e+00  4.200000e+01      5.000000e+03      7.354000e+03   \n",
              "max    5.000000e+00  1.385576e+08      1.000000e+10      1.205763e+10   \n",
              "\n",
              "              Price  \n",
              "count  2.312944e+06  \n",
              "mean   1.034992e-01  \n",
              "std    2.633127e+00  \n",
              "min    0.000000e+00  \n",
              "25%    0.000000e+00  \n",
              "50%    0.000000e+00  \n",
              "75%    0.000000e+00  \n",
              "max    4.000000e+02  "
            ],
            "text/html": [
              "\n",
              "  <div id=\"df-ab5c4d0c-1f3a-411e-9caf-50fce6f0dbba\">\n",
              "    <div class=\"colab-df-container\">\n",
              "      <div>\n",
              "<style scoped>\n",
              "    .dataframe tbody tr th:only-of-type {\n",
              "        vertical-align: middle;\n",
              "    }\n",
              "\n",
              "    .dataframe tbody tr th {\n",
              "        vertical-align: top;\n",
              "    }\n",
              "\n",
              "    .dataframe thead th {\n",
              "        text-align: right;\n",
              "    }\n",
              "</style>\n",
              "<table border=\"1\" class=\"dataframe\">\n",
              "  <thead>\n",
              "    <tr style=\"text-align: right;\">\n",
              "      <th></th>\n",
              "      <th>Rating</th>\n",
              "      <th>Rating Count</th>\n",
              "      <th>Minimum Installs</th>\n",
              "      <th>Maximum Installs</th>\n",
              "      <th>Price</th>\n",
              "    </tr>\n",
              "  </thead>\n",
              "  <tbody>\n",
              "    <tr>\n",
              "      <th>count</th>\n",
              "      <td>2.290061e+06</td>\n",
              "      <td>2.290061e+06</td>\n",
              "      <td>2.312837e+06</td>\n",
              "      <td>2.312944e+06</td>\n",
              "      <td>2.312944e+06</td>\n",
              "    </tr>\n",
              "    <tr>\n",
              "      <th>mean</th>\n",
              "      <td>2.203152e+00</td>\n",
              "      <td>2.864839e+03</td>\n",
              "      <td>1.834452e+05</td>\n",
              "      <td>3.202017e+05</td>\n",
              "      <td>1.034992e-01</td>\n",
              "    </tr>\n",
              "    <tr>\n",
              "      <th>std</th>\n",
              "      <td>2.106223e+00</td>\n",
              "      <td>2.121626e+05</td>\n",
              "      <td>1.513144e+07</td>\n",
              "      <td>2.355495e+07</td>\n",
              "      <td>2.633127e+00</td>\n",
              "    </tr>\n",
              "    <tr>\n",
              "      <th>min</th>\n",
              "      <td>0.000000e+00</td>\n",
              "      <td>0.000000e+00</td>\n",
              "      <td>0.000000e+00</td>\n",
              "      <td>0.000000e+00</td>\n",
              "      <td>0.000000e+00</td>\n",
              "    </tr>\n",
              "    <tr>\n",
              "      <th>25%</th>\n",
              "      <td>0.000000e+00</td>\n",
              "      <td>0.000000e+00</td>\n",
              "      <td>5.000000e+01</td>\n",
              "      <td>8.400000e+01</td>\n",
              "      <td>0.000000e+00</td>\n",
              "    </tr>\n",
              "    <tr>\n",
              "      <th>50%</th>\n",
              "      <td>2.900000e+00</td>\n",
              "      <td>6.000000e+00</td>\n",
              "      <td>5.000000e+02</td>\n",
              "      <td>6.950000e+02</td>\n",
              "      <td>0.000000e+00</td>\n",
              "    </tr>\n",
              "    <tr>\n",
              "      <th>75%</th>\n",
              "      <td>4.300000e+00</td>\n",
              "      <td>4.200000e+01</td>\n",
              "      <td>5.000000e+03</td>\n",
              "      <td>7.354000e+03</td>\n",
              "      <td>0.000000e+00</td>\n",
              "    </tr>\n",
              "    <tr>\n",
              "      <th>max</th>\n",
              "      <td>5.000000e+00</td>\n",
              "      <td>1.385576e+08</td>\n",
              "      <td>1.000000e+10</td>\n",
              "      <td>1.205763e+10</td>\n",
              "      <td>4.000000e+02</td>\n",
              "    </tr>\n",
              "  </tbody>\n",
              "</table>\n",
              "</div>\n",
              "      <button class=\"colab-df-convert\" onclick=\"convertToInteractive('df-ab5c4d0c-1f3a-411e-9caf-50fce6f0dbba')\"\n",
              "              title=\"Convert this dataframe to an interactive table.\"\n",
              "              style=\"display:none;\">\n",
              "        \n",
              "  <svg xmlns=\"http://www.w3.org/2000/svg\" height=\"24px\"viewBox=\"0 0 24 24\"\n",
              "       width=\"24px\">\n",
              "    <path d=\"M0 0h24v24H0V0z\" fill=\"none\"/>\n",
              "    <path d=\"M18.56 5.44l.94 2.06.94-2.06 2.06-.94-2.06-.94-.94-2.06-.94 2.06-2.06.94zm-11 1L8.5 8.5l.94-2.06 2.06-.94-2.06-.94L8.5 2.5l-.94 2.06-2.06.94zm10 10l.94 2.06.94-2.06 2.06-.94-2.06-.94-.94-2.06-.94 2.06-2.06.94z\"/><path d=\"M17.41 7.96l-1.37-1.37c-.4-.4-.92-.59-1.43-.59-.52 0-1.04.2-1.43.59L10.3 9.45l-7.72 7.72c-.78.78-.78 2.05 0 2.83L4 21.41c.39.39.9.59 1.41.59.51 0 1.02-.2 1.41-.59l7.78-7.78 2.81-2.81c.8-.78.8-2.07 0-2.86zM5.41 20L4 18.59l7.72-7.72 1.47 1.35L5.41 20z\"/>\n",
              "  </svg>\n",
              "      </button>\n",
              "      \n",
              "  <style>\n",
              "    .colab-df-container {\n",
              "      display:flex;\n",
              "      flex-wrap:wrap;\n",
              "      gap: 12px;\n",
              "    }\n",
              "\n",
              "    .colab-df-convert {\n",
              "      background-color: #E8F0FE;\n",
              "      border: none;\n",
              "      border-radius: 50%;\n",
              "      cursor: pointer;\n",
              "      display: none;\n",
              "      fill: #1967D2;\n",
              "      height: 32px;\n",
              "      padding: 0 0 0 0;\n",
              "      width: 32px;\n",
              "    }\n",
              "\n",
              "    .colab-df-convert:hover {\n",
              "      background-color: #E2EBFA;\n",
              "      box-shadow: 0px 1px 2px rgba(60, 64, 67, 0.3), 0px 1px 3px 1px rgba(60, 64, 67, 0.15);\n",
              "      fill: #174EA6;\n",
              "    }\n",
              "\n",
              "    [theme=dark] .colab-df-convert {\n",
              "      background-color: #3B4455;\n",
              "      fill: #D2E3FC;\n",
              "    }\n",
              "\n",
              "    [theme=dark] .colab-df-convert:hover {\n",
              "      background-color: #434B5C;\n",
              "      box-shadow: 0px 1px 3px 1px rgba(0, 0, 0, 0.15);\n",
              "      filter: drop-shadow(0px 1px 2px rgba(0, 0, 0, 0.3));\n",
              "      fill: #FFFFFF;\n",
              "    }\n",
              "  </style>\n",
              "\n",
              "      <script>\n",
              "        const buttonEl =\n",
              "          document.querySelector('#df-ab5c4d0c-1f3a-411e-9caf-50fce6f0dbba button.colab-df-convert');\n",
              "        buttonEl.style.display =\n",
              "          google.colab.kernel.accessAllowed ? 'block' : 'none';\n",
              "\n",
              "        async function convertToInteractive(key) {\n",
              "          const element = document.querySelector('#df-ab5c4d0c-1f3a-411e-9caf-50fce6f0dbba');\n",
              "          const dataTable =\n",
              "            await google.colab.kernel.invokeFunction('convertToInteractive',\n",
              "                                                     [key], {});\n",
              "          if (!dataTable) return;\n",
              "\n",
              "          const docLinkHtml = 'Like what you see? Visit the ' +\n",
              "            '<a target=\"_blank\" href=https://colab.research.google.com/notebooks/data_table.ipynb>data table notebook</a>'\n",
              "            + ' to learn more about interactive tables.';\n",
              "          element.innerHTML = '';\n",
              "          dataTable['output_type'] = 'display_data';\n",
              "          await google.colab.output.renderOutput(dataTable, element);\n",
              "          const docLink = document.createElement('div');\n",
              "          docLink.innerHTML = docLinkHtml;\n",
              "          element.appendChild(docLink);\n",
              "        }\n",
              "      </script>\n",
              "    </div>\n",
              "  </div>\n",
              "  "
            ]
          },
          "metadata": {},
          "execution_count": 19
        }
      ],
      "source": [
        "df.describe()"
      ]
    },
    {
      "cell_type": "markdown",
      "metadata": {
        "id": "4rgNuh-i4in_"
      },
      "source": [
        "## Observation :    \n",
        "\n",
        "---\n",
        "1. we have 5 numerical columns in our dataset\n"
      ]
    },
    {
      "cell_type": "markdown",
      "metadata": {
        "id": "JGdspPDn3kqb"
      },
      "source": [
        "To look the entire columns we can use pandas functon pd.set_option()"
      ]
    },
    {
      "cell_type": "code",
      "execution_count": 20,
      "metadata": {
        "id": "4lpvCohUy-a2"
      },
      "outputs": [],
      "source": [
        " pd.set_option('display.max_columns', None)"
      ]
    },
    {
      "cell_type": "code",
      "execution_count": 21,
      "metadata": {
        "id": "YwL6AaEf1wNX",
        "colab": {
          "base_uri": "https://localhost:8080/",
          "height": 530
        },
        "outputId": "49f2a080-73d6-4d9c-86ff-3000486a34a4"
      },
      "outputs": [
        {
          "output_type": "execute_result",
          "data": {
            "text/plain": [
              "                                            App Name  \\\n",
              "0                                            Gakondo   \n",
              "1                                Ampere Battery Info   \n",
              "2                                             Vibook   \n",
              "3  Smart City Trichy Public Service Vehicles 17UC...   \n",
              "4                                            GROW.me   \n",
              "\n",
              "                       App Id       Category  Rating  Rating Count Installs  \\\n",
              "0         com.ishakwe.gakondo      Adventure     0.0           0.0      10+   \n",
              "1  com.webserveis.batteryinfo          Tools     4.4          64.0   5,000+   \n",
              "2        com.doantiepvien.crm   Productivity     0.0           0.0      50+   \n",
              "3     cst.stJoseph.ug17ucs548  Communication     5.0           5.0      10+   \n",
              "4        com.horodyski.grower          Tools     0.0           0.0     100+   \n",
              "\n",
              "   Minimum Installs  Maximum Installs  Free  Price Currency  Size  \\\n",
              "0              10.0                15  True    0.0      USD   10M   \n",
              "1            5000.0              7662  True    0.0      USD  2.9M   \n",
              "2              50.0                58  True    0.0      USD  3.7M   \n",
              "3              10.0                19  True    0.0      USD  1.8M   \n",
              "4             100.0               478  True    0.0      USD  6.2M   \n",
              "\n",
              "  Minimum Android                       Developer Id  \\\n",
              "0      7.1 and up  Jean Confident Irénée NIYIZIBYOSE   \n",
              "1      5.0 and up                         Webserveis   \n",
              "2    4.0.3 and up                         Cabin Crew   \n",
              "3    4.0.3 and up                Climate Smart Tech2   \n",
              "4      4.1 and up              Rafal Milek-Horodyski   \n",
              "\n",
              "                  Developer Website              Developer Email  \\\n",
              "0       https://beniyizibyose.tk/#/       jean21101999@gmail.com   \n",
              "1   https://webserveis.netlify.app/         webserveis@gmail.com   \n",
              "2                               NaN          vnacrewit@gmail.com   \n",
              "3  http://www.climatesmarttech.com/  climatesmarttech2@gmail.com   \n",
              "4       http://www.horodyski.com.pl    rmilekhorodyski@gmail.com   \n",
              "\n",
              "       Released  Last Updated Content Rating  \\\n",
              "0  Feb 26, 2020  Feb 26, 2020       Everyone   \n",
              "1  May 21, 2020  May 06, 2021       Everyone   \n",
              "2   Aug 9, 2019  Aug 19, 2019       Everyone   \n",
              "3  Sep 10, 2018  Oct 13, 2018       Everyone   \n",
              "4  Feb 21, 2020  Nov 12, 2018       Everyone   \n",
              "\n",
              "                                      Privacy Policy  Ad Supported  \\\n",
              "0                 https://beniyizibyose.tk/projects/         False   \n",
              "1  https://dev4phones.wordpress.com/licencia-de-uso/          True   \n",
              "2  https://www.vietnamairlines.com/vn/en/terms-an...         False   \n",
              "3                                                NaN          True   \n",
              "4                        http://www.horodyski.com.pl         False   \n",
              "\n",
              "   In App Purchases  Editors Choice         Scraped Time  \n",
              "0             False           False  2021-06-15 20:19:35  \n",
              "1             False           False  2021-06-15 20:19:35  \n",
              "2             False           False  2021-06-15 20:19:35  \n",
              "3             False           False  2021-06-15 20:19:35  \n",
              "4             False           False  2021-06-15 20:19:35  "
            ],
            "text/html": [
              "\n",
              "  <div id=\"df-4bbe5e57-518a-4ef1-af17-7e056a7231b6\">\n",
              "    <div class=\"colab-df-container\">\n",
              "      <div>\n",
              "<style scoped>\n",
              "    .dataframe tbody tr th:only-of-type {\n",
              "        vertical-align: middle;\n",
              "    }\n",
              "\n",
              "    .dataframe tbody tr th {\n",
              "        vertical-align: top;\n",
              "    }\n",
              "\n",
              "    .dataframe thead th {\n",
              "        text-align: right;\n",
              "    }\n",
              "</style>\n",
              "<table border=\"1\" class=\"dataframe\">\n",
              "  <thead>\n",
              "    <tr style=\"text-align: right;\">\n",
              "      <th></th>\n",
              "      <th>App Name</th>\n",
              "      <th>App Id</th>\n",
              "      <th>Category</th>\n",
              "      <th>Rating</th>\n",
              "      <th>Rating Count</th>\n",
              "      <th>Installs</th>\n",
              "      <th>Minimum Installs</th>\n",
              "      <th>Maximum Installs</th>\n",
              "      <th>Free</th>\n",
              "      <th>Price</th>\n",
              "      <th>Currency</th>\n",
              "      <th>Size</th>\n",
              "      <th>Minimum Android</th>\n",
              "      <th>Developer Id</th>\n",
              "      <th>Developer Website</th>\n",
              "      <th>Developer Email</th>\n",
              "      <th>Released</th>\n",
              "      <th>Last Updated</th>\n",
              "      <th>Content Rating</th>\n",
              "      <th>Privacy Policy</th>\n",
              "      <th>Ad Supported</th>\n",
              "      <th>In App Purchases</th>\n",
              "      <th>Editors Choice</th>\n",
              "      <th>Scraped Time</th>\n",
              "    </tr>\n",
              "  </thead>\n",
              "  <tbody>\n",
              "    <tr>\n",
              "      <th>0</th>\n",
              "      <td>Gakondo</td>\n",
              "      <td>com.ishakwe.gakondo</td>\n",
              "      <td>Adventure</td>\n",
              "      <td>0.0</td>\n",
              "      <td>0.0</td>\n",
              "      <td>10+</td>\n",
              "      <td>10.0</td>\n",
              "      <td>15</td>\n",
              "      <td>True</td>\n",
              "      <td>0.0</td>\n",
              "      <td>USD</td>\n",
              "      <td>10M</td>\n",
              "      <td>7.1 and up</td>\n",
              "      <td>Jean Confident Irénée NIYIZIBYOSE</td>\n",
              "      <td>https://beniyizibyose.tk/#/</td>\n",
              "      <td>jean21101999@gmail.com</td>\n",
              "      <td>Feb 26, 2020</td>\n",
              "      <td>Feb 26, 2020</td>\n",
              "      <td>Everyone</td>\n",
              "      <td>https://beniyizibyose.tk/projects/</td>\n",
              "      <td>False</td>\n",
              "      <td>False</td>\n",
              "      <td>False</td>\n",
              "      <td>2021-06-15 20:19:35</td>\n",
              "    </tr>\n",
              "    <tr>\n",
              "      <th>1</th>\n",
              "      <td>Ampere Battery Info</td>\n",
              "      <td>com.webserveis.batteryinfo</td>\n",
              "      <td>Tools</td>\n",
              "      <td>4.4</td>\n",
              "      <td>64.0</td>\n",
              "      <td>5,000+</td>\n",
              "      <td>5000.0</td>\n",
              "      <td>7662</td>\n",
              "      <td>True</td>\n",
              "      <td>0.0</td>\n",
              "      <td>USD</td>\n",
              "      <td>2.9M</td>\n",
              "      <td>5.0 and up</td>\n",
              "      <td>Webserveis</td>\n",
              "      <td>https://webserveis.netlify.app/</td>\n",
              "      <td>webserveis@gmail.com</td>\n",
              "      <td>May 21, 2020</td>\n",
              "      <td>May 06, 2021</td>\n",
              "      <td>Everyone</td>\n",
              "      <td>https://dev4phones.wordpress.com/licencia-de-uso/</td>\n",
              "      <td>True</td>\n",
              "      <td>False</td>\n",
              "      <td>False</td>\n",
              "      <td>2021-06-15 20:19:35</td>\n",
              "    </tr>\n",
              "    <tr>\n",
              "      <th>2</th>\n",
              "      <td>Vibook</td>\n",
              "      <td>com.doantiepvien.crm</td>\n",
              "      <td>Productivity</td>\n",
              "      <td>0.0</td>\n",
              "      <td>0.0</td>\n",
              "      <td>50+</td>\n",
              "      <td>50.0</td>\n",
              "      <td>58</td>\n",
              "      <td>True</td>\n",
              "      <td>0.0</td>\n",
              "      <td>USD</td>\n",
              "      <td>3.7M</td>\n",
              "      <td>4.0.3 and up</td>\n",
              "      <td>Cabin Crew</td>\n",
              "      <td>NaN</td>\n",
              "      <td>vnacrewit@gmail.com</td>\n",
              "      <td>Aug 9, 2019</td>\n",
              "      <td>Aug 19, 2019</td>\n",
              "      <td>Everyone</td>\n",
              "      <td>https://www.vietnamairlines.com/vn/en/terms-an...</td>\n",
              "      <td>False</td>\n",
              "      <td>False</td>\n",
              "      <td>False</td>\n",
              "      <td>2021-06-15 20:19:35</td>\n",
              "    </tr>\n",
              "    <tr>\n",
              "      <th>3</th>\n",
              "      <td>Smart City Trichy Public Service Vehicles 17UC...</td>\n",
              "      <td>cst.stJoseph.ug17ucs548</td>\n",
              "      <td>Communication</td>\n",
              "      <td>5.0</td>\n",
              "      <td>5.0</td>\n",
              "      <td>10+</td>\n",
              "      <td>10.0</td>\n",
              "      <td>19</td>\n",
              "      <td>True</td>\n",
              "      <td>0.0</td>\n",
              "      <td>USD</td>\n",
              "      <td>1.8M</td>\n",
              "      <td>4.0.3 and up</td>\n",
              "      <td>Climate Smart Tech2</td>\n",
              "      <td>http://www.climatesmarttech.com/</td>\n",
              "      <td>climatesmarttech2@gmail.com</td>\n",
              "      <td>Sep 10, 2018</td>\n",
              "      <td>Oct 13, 2018</td>\n",
              "      <td>Everyone</td>\n",
              "      <td>NaN</td>\n",
              "      <td>True</td>\n",
              "      <td>False</td>\n",
              "      <td>False</td>\n",
              "      <td>2021-06-15 20:19:35</td>\n",
              "    </tr>\n",
              "    <tr>\n",
              "      <th>4</th>\n",
              "      <td>GROW.me</td>\n",
              "      <td>com.horodyski.grower</td>\n",
              "      <td>Tools</td>\n",
              "      <td>0.0</td>\n",
              "      <td>0.0</td>\n",
              "      <td>100+</td>\n",
              "      <td>100.0</td>\n",
              "      <td>478</td>\n",
              "      <td>True</td>\n",
              "      <td>0.0</td>\n",
              "      <td>USD</td>\n",
              "      <td>6.2M</td>\n",
              "      <td>4.1 and up</td>\n",
              "      <td>Rafal Milek-Horodyski</td>\n",
              "      <td>http://www.horodyski.com.pl</td>\n",
              "      <td>rmilekhorodyski@gmail.com</td>\n",
              "      <td>Feb 21, 2020</td>\n",
              "      <td>Nov 12, 2018</td>\n",
              "      <td>Everyone</td>\n",
              "      <td>http://www.horodyski.com.pl</td>\n",
              "      <td>False</td>\n",
              "      <td>False</td>\n",
              "      <td>False</td>\n",
              "      <td>2021-06-15 20:19:35</td>\n",
              "    </tr>\n",
              "  </tbody>\n",
              "</table>\n",
              "</div>\n",
              "      <button class=\"colab-df-convert\" onclick=\"convertToInteractive('df-4bbe5e57-518a-4ef1-af17-7e056a7231b6')\"\n",
              "              title=\"Convert this dataframe to an interactive table.\"\n",
              "              style=\"display:none;\">\n",
              "        \n",
              "  <svg xmlns=\"http://www.w3.org/2000/svg\" height=\"24px\"viewBox=\"0 0 24 24\"\n",
              "       width=\"24px\">\n",
              "    <path d=\"M0 0h24v24H0V0z\" fill=\"none\"/>\n",
              "    <path d=\"M18.56 5.44l.94 2.06.94-2.06 2.06-.94-2.06-.94-.94-2.06-.94 2.06-2.06.94zm-11 1L8.5 8.5l.94-2.06 2.06-.94-2.06-.94L8.5 2.5l-.94 2.06-2.06.94zm10 10l.94 2.06.94-2.06 2.06-.94-2.06-.94-.94-2.06-.94 2.06-2.06.94z\"/><path d=\"M17.41 7.96l-1.37-1.37c-.4-.4-.92-.59-1.43-.59-.52 0-1.04.2-1.43.59L10.3 9.45l-7.72 7.72c-.78.78-.78 2.05 0 2.83L4 21.41c.39.39.9.59 1.41.59.51 0 1.02-.2 1.41-.59l7.78-7.78 2.81-2.81c.8-.78.8-2.07 0-2.86zM5.41 20L4 18.59l7.72-7.72 1.47 1.35L5.41 20z\"/>\n",
              "  </svg>\n",
              "      </button>\n",
              "      \n",
              "  <style>\n",
              "    .colab-df-container {\n",
              "      display:flex;\n",
              "      flex-wrap:wrap;\n",
              "      gap: 12px;\n",
              "    }\n",
              "\n",
              "    .colab-df-convert {\n",
              "      background-color: #E8F0FE;\n",
              "      border: none;\n",
              "      border-radius: 50%;\n",
              "      cursor: pointer;\n",
              "      display: none;\n",
              "      fill: #1967D2;\n",
              "      height: 32px;\n",
              "      padding: 0 0 0 0;\n",
              "      width: 32px;\n",
              "    }\n",
              "\n",
              "    .colab-df-convert:hover {\n",
              "      background-color: #E2EBFA;\n",
              "      box-shadow: 0px 1px 2px rgba(60, 64, 67, 0.3), 0px 1px 3px 1px rgba(60, 64, 67, 0.15);\n",
              "      fill: #174EA6;\n",
              "    }\n",
              "\n",
              "    [theme=dark] .colab-df-convert {\n",
              "      background-color: #3B4455;\n",
              "      fill: #D2E3FC;\n",
              "    }\n",
              "\n",
              "    [theme=dark] .colab-df-convert:hover {\n",
              "      background-color: #434B5C;\n",
              "      box-shadow: 0px 1px 3px 1px rgba(0, 0, 0, 0.15);\n",
              "      filter: drop-shadow(0px 1px 2px rgba(0, 0, 0, 0.3));\n",
              "      fill: #FFFFFF;\n",
              "    }\n",
              "  </style>\n",
              "\n",
              "      <script>\n",
              "        const buttonEl =\n",
              "          document.querySelector('#df-4bbe5e57-518a-4ef1-af17-7e056a7231b6 button.colab-df-convert');\n",
              "        buttonEl.style.display =\n",
              "          google.colab.kernel.accessAllowed ? 'block' : 'none';\n",
              "\n",
              "        async function convertToInteractive(key) {\n",
              "          const element = document.querySelector('#df-4bbe5e57-518a-4ef1-af17-7e056a7231b6');\n",
              "          const dataTable =\n",
              "            await google.colab.kernel.invokeFunction('convertToInteractive',\n",
              "                                                     [key], {});\n",
              "          if (!dataTable) return;\n",
              "\n",
              "          const docLinkHtml = 'Like what you see? Visit the ' +\n",
              "            '<a target=\"_blank\" href=https://colab.research.google.com/notebooks/data_table.ipynb>data table notebook</a>'\n",
              "            + ' to learn more about interactive tables.';\n",
              "          element.innerHTML = '';\n",
              "          dataTable['output_type'] = 'display_data';\n",
              "          await google.colab.output.renderOutput(dataTable, element);\n",
              "          const docLink = document.createElement('div');\n",
              "          docLink.innerHTML = docLinkHtml;\n",
              "          element.appendChild(docLink);\n",
              "        }\n",
              "      </script>\n",
              "    </div>\n",
              "  </div>\n",
              "  "
            ]
          },
          "metadata": {},
          "execution_count": 21
        }
      ],
      "source": [
        "df.head()"
      ]
    },
    {
      "cell_type": "markdown",
      "metadata": {
        "id": "d0bV15j54q9N"
      },
      "source": [
        "## Missing values in the data\n"
      ]
    },
    {
      "cell_type": "code",
      "execution_count": 22,
      "metadata": {
        "colab": {
          "base_uri": "https://localhost:8080/"
        },
        "id": "abm62Wai3Xlv",
        "outputId": "710a16a8-1725-4e8a-8389-eca9337f3c81"
      },
      "outputs": [
        {
          "output_type": "execute_result",
          "data": {
            "text/plain": [
              "Developer Website    760835\n",
              "Privacy Policy       420953\n",
              "Released              71053\n",
              "Rating                22883\n",
              "Rating Count          22883\n",
              "Minimum Android        6530\n",
              "Size                    196\n",
              "Currency                135\n",
              "Installs                107\n",
              "Minimum Installs        107\n",
              "Developer Id             33\n",
              "Developer Email          31\n",
              "App Name                  2\n",
              "App Id                    0\n",
              "Price                     0\n",
              "Free                      0\n",
              "Maximum Installs          0\n",
              "Last Updated              0\n",
              "Content Rating            0\n",
              "Category                  0\n",
              "Ad Supported              0\n",
              "In App Purchases          0\n",
              "Editors Choice            0\n",
              "Scraped Time              0\n",
              "dtype: int64"
            ]
          },
          "metadata": {},
          "execution_count": 22
        }
      ],
      "source": [
        "df.isnull().sum().sort_values(ascending = False)"
      ]
    },
    {
      "cell_type": "markdown",
      "metadata": {
        "id": "NbA5TVMAY-rK"
      },
      "source": [
        "# **Exploratory Analysis and Visualization**"
      ]
    },
    {
      "cell_type": "markdown",
      "metadata": {
        "id": "LE9ystPMTbPO"
      },
      "source": [
        "## Let's plot the missing null values"
      ]
    },
    {
      "cell_type": "code",
      "execution_count": 23,
      "metadata": {
        "colab": {
          "base_uri": "https://localhost:8080/",
          "height": 492
        },
        "id": "Mf53xyb3Q2JX",
        "outputId": "39556d20-aaae-40c8-dd8b-bb70650299b4"
      },
      "outputs": [
        {
          "output_type": "execute_result",
          "data": {
            "text/plain": [
              "Text(0.5, 1.0, 'Missing null values')"
            ]
          },
          "metadata": {},
          "execution_count": 23
        },
        {
          "output_type": "display_data",
          "data": {
            "text/plain": [
              "<Figure size 1440x432 with 1 Axes>"
            ],
            "image/png": "[encoded data removed]"
          },
          "metadata": {
            "needs_background": "light"
          }
        }
      ],
      "source": [
        "import matplotlib\n",
        "matplotlib.rcParams['figure.figsize'] = (20,6)\n",
        "sns.heatmap(df.isnull(),yticklabels = False, cbar = False , cmap = 'viridis')\n",
        "plt.title(\"Missing null values\")"
      ]
    },
    {
      "cell_type": "markdown",
      "metadata": {
        "id": "Cp2KbbaSLY2S"
      },
      "source": [
        "Let's see the missing percentage in data"
      ]
    },
    {
      "cell_type": "code",
      "execution_count": 24,
      "metadata": {
        "id": "raZ3n6SwLckX",
        "colab": {
          "base_uri": "https://localhost:8080/"
        },
        "outputId": "3bcd25fd-db8e-4838-cfcd-925c545dfa1d"
      },
      "outputs": [
        {
          "output_type": "execute_result",
          "data": {
            "text/plain": [
              "Developer Website    3.289466e-01\n",
              "Privacy Policy       1.819988e-01\n",
              "Released             3.071972e-02\n",
              "Rating               9.893452e-03\n",
              "Rating Count         9.893452e-03\n",
              "Minimum Android      2.823242e-03\n",
              "Size                 8.474049e-05\n",
              "Currency             5.836717e-05\n",
              "Installs             4.626139e-05\n",
              "Minimum Installs     4.626139e-05\n",
              "Developer Id         1.426753e-05\n",
              "Developer Email      1.340283e-05\n",
              "App Name             8.646988e-07\n",
              "App Id               0.000000e+00\n",
              "Price                0.000000e+00\n",
              "Free                 0.000000e+00\n",
              "Maximum Installs     0.000000e+00\n",
              "Last Updated         0.000000e+00\n",
              "Content Rating       0.000000e+00\n",
              "Category             0.000000e+00\n",
              "Ad Supported         0.000000e+00\n",
              "In App Purchases     0.000000e+00\n",
              "Editors Choice       0.000000e+00\n",
              "Scraped Time         0.000000e+00\n",
              "dtype: float64"
            ]
          },
          "metadata": {},
          "execution_count": 24
        }
      ],
      "source": [
        "missing_percentage = df.isnull().sum().sort_values(ascending = False)/len(df)\n",
        "missing_percentage"
      ]
    },
    {
      "cell_type": "markdown",
      "metadata": {
        "id": "VaHcPqnhCqFP"
      },
      "source": [
        "## Let's plot the missing percentage of null values"
      ]
    },
    {
      "cell_type": "code",
      "execution_count": 25,
      "metadata": {
        "colab": {
          "base_uri": "https://localhost:8080/",
          "height": 408
        },
        "id": "kGhMk6NbMJKh",
        "outputId": "948bf242-1f9a-4136-bb1a-cd1b6e5b7288"
      },
      "outputs": [
        {
          "output_type": "execute_result",
          "data": {
            "text/plain": [
              "Text(0.5, 1.0, 'Missig percentage of null values')"
            ]
          },
          "metadata": {},
          "execution_count": 25
        },
        {
          "output_type": "display_data",
          "data": {
            "text/plain": [
              "<Figure size 1440x432 with 1 Axes>"
            ],
            "image/png": "[encoded data removed]"
          },
          "metadata": {
            "needs_background": "light"
          }
        }
      ],
      "source": [
        "missing_percentage = missing_percentage[missing_percentage != 0] # Only the missing data\n",
        "import matplotlib\n",
        "matplotlib.rcParams['figure.figsize'] = (20,6)\n",
        "missing_percentage.plot(kind = 'barh')\n",
        "plt.title(\"Missig percentage of null values\")"
      ]
    },
    {
      "cell_type": "markdown",
      "metadata": {
        "id": "wwsHcOHG7LP9"
      },
      "source": [
        "## Observation : \n",
        "\n",
        "\n",
        "Dealing with the null values\n",
        "\n",
        "\n",
        "1. The columns having highest percentage of null values are :\n",
        "* Developer Website  \n",
        "* Privacy Policy\n",
        "\n",
        "these two are not that much helpful if we want we can drop these columns and in the further steps we drop and add some features in the dataset after the Analysis.\n",
        "\n",
        "2. we can drop the small null values for the columns\n",
        "\n",
        "* Size                 \n",
        "* Currency             \n",
        "* Installs             \n",
        "* Minimum Installs     \n",
        "* Developer Id         \n",
        "* Developer Email\n",
        "\n",
        "3. Rating,Rating Count,Released are important column so it is good to fill the null values.\n",
        "\n",
        "* Rating \n",
        "* Rating count\n",
        "* Minimum Andriod \n",
        "* Released \n",
        "\n"
      ]
    },
    {
      "cell_type": "markdown",
      "metadata": {
        "id": "4aDY61PeWD4F"
      },
      "source": [
        "## from observation 2 droping the null values of the columns got selected "
      ]
    },
    {
      "cell_type": "code",
      "execution_count": 26,
      "metadata": {
        "id": "qmeL7fx69hIj"
      },
      "outputs": [],
      "source": [
        "df.dropna(subset = ['App Name','Size','Currency','Installs','Minimum Installs','Developer Id','Developer Email'], inplace = True)"
      ]
    },
    {
      "cell_type": "code",
      "execution_count": 27,
      "metadata": {
        "id": "s6KWBnQvXF1r",
        "colab": {
          "base_uri": "https://localhost:8080/"
        },
        "outputId": "82ff2b50-de40-4776-a39f-fee7b324c0a2"
      },
      "outputs": [
        {
          "output_type": "execute_result",
          "data": {
            "text/plain": [
              "App Name                  0\n",
              "App Id                    0\n",
              "Category                  0\n",
              "Rating                22572\n",
              "Rating Count          22572\n",
              "Installs                  0\n",
              "Minimum Installs          0\n",
              "Maximum Installs          0\n",
              "Free                      0\n",
              "Price                     0\n",
              "Currency                  0\n",
              "Size                      0\n",
              "Minimum Android        6530\n",
              "Developer Id              0\n",
              "Developer Website    760716\n",
              "Developer Email           0\n",
              "Released              70748\n",
              "Last Updated              0\n",
              "Content Rating            0\n",
              "Privacy Policy       420845\n",
              "Ad Supported              0\n",
              "In App Purchases          0\n",
              "Editors Choice            0\n",
              "Scraped Time              0\n",
              "dtype: int64"
            ]
          },
          "metadata": {},
          "execution_count": 27
        }
      ],
      "source": [
        "df.isnull().sum()"
      ]
    },
    {
      "cell_type": "markdown",
      "metadata": {
        "id": "pvDM-NBhseqi"
      },
      "source": [
        "## Now let's start cleaning the each row"
      ]
    },
    {
      "cell_type": "markdown",
      "metadata": {
        "id": "V6JvnnJNuvtd"
      },
      "source": [
        "checking any duplicates in the App Name"
      ]
    },
    {
      "cell_type": "code",
      "execution_count": 28,
      "metadata": {
        "colab": {
          "base_uri": "https://localhost:8080/"
        },
        "id": "gbkMxNOYu0MC",
        "outputId": "4dce6a1a-8d19-4211-e630-537441dcfd03"
      },
      "outputs": [
        {
          "output_type": "execute_result",
          "data": {
            "text/plain": [
              "True"
            ]
          },
          "metadata": {},
          "execution_count": 28
        }
      ],
      "source": [
        "boolean = df['App Name'].duplicated().any()\n",
        "boolean"
      ]
    },
    {
      "cell_type": "code",
      "execution_count": 29,
      "metadata": {
        "id": "0fCLVYC4uNdy",
        "colab": {
          "base_uri": "https://localhost:8080/"
        },
        "outputId": "5d7585ae-1885-4350-84b2-45d6af8a6d64"
      },
      "outputs": [
        {
          "output_type": "execute_result",
          "data": {
            "text/plain": [
              "Tic Tac Toe                     382\n",
              "Calculator                      261\n",
              "Flashlight                      256\n",
              "BMI Calculator                  201\n",
              "Age Calculator                  190\n",
              "                               ... \n",
              "Foodiz Resto                      1\n",
              "Astra OtoReward                   1\n",
              "MedTerm Dictionary                1\n",
              "Urban garden and sowing.          1\n",
              "Biliyor Musun - Sonsuz Yarış      1\n",
              "Name: App Name, Length: 2177593, dtype: int64"
            ]
          },
          "metadata": {},
          "execution_count": 29
        }
      ],
      "source": [
        "df['App Name'].value_counts()"
      ]
    },
    {
      "cell_type": "markdown",
      "metadata": {
        "id": "jU6uMUCPvC8n"
      },
      "source": [
        "from the above cell output we can see that App Name column has multiple rows. Let's check out that data in those rows is identical or not"
      ]
    },
    {
      "cell_type": "code",
      "execution_count": 30,
      "metadata": {
        "id": "-Dz-KOgNZggQ",
        "colab": {
          "base_uri": "https://localhost:8080/",
          "height": 852
        },
        "outputId": "41aaf640-0208-4068-961b-03291f4d22c0"
      },
      "outputs": [
        {
          "output_type": "execute_result",
          "data": {
            "text/plain": [
              "            App Name                             App Id Category  Rating  \\\n",
              "3918     Tic Tac Toe           com.dev.atte.tic_tac_toe   Puzzle     0.0   \n",
              "13758    Tic Tac Toe                   com.md.tictactoe    Board     0.0   \n",
              "25351    Tic Tac Toe        com.sthirumuru.tictactoenew    Board     4.2   \n",
              "28142    Tic Tac Toe               com.fsk00x.TicTacToe    Board     0.0   \n",
              "30962    Tic Tac Toe         net.snatchdreams.tictactoe   Puzzle     0.0   \n",
              "...              ...                                ...      ...     ...   \n",
              "2272773  Tic Tac Toe        com.tictactoe.MobileAppsPro    Board     3.8   \n",
              "2281376  Tic Tac Toe     com.erjainam.tictactoe.release    Board     0.0   \n",
              "2282023  Tic Tac Toe          com.swapworld.tic_tac_toe    Board     4.7   \n",
              "2299121  Tic Tac Toe               com.infuse.tictactoe    Board     4.8   \n",
              "2310375  Tic Tac Toe  com.justmailtoavi.avinashk.threet   Puzzle     4.7   \n",
              "\n",
              "         Rating Count  Installs  Minimum Installs  Maximum Installs  Free  \\\n",
              "3918              0.0       10+              10.0                30  True   \n",
              "13758             0.0       10+              10.0                31  True   \n",
              "25351            11.0    5,000+            5000.0              6379  True   \n",
              "28142             0.0      500+             500.0               922  True   \n",
              "30962             0.0       10+              10.0                38  True   \n",
              "...               ...       ...               ...               ...   ...   \n",
              "2272773        9269.0  500,000+          500000.0            800662  True   \n",
              "2281376           0.0       50+              50.0                50  True   \n",
              "2282023           7.0       10+              10.0                34  True   \n",
              "2299121          20.0      100+             100.0               462  True   \n",
              "2310375          10.0      100+             100.0               173  True   \n",
              "\n",
              "         Price Currency  Size Minimum Android             Developer Id  \\\n",
              "3918       0.0      USD  3.4M      4.0 and up        ATTE AKA FRANCOIS   \n",
              "13758      0.0      USD   34M      4.3 and up      Smart Digital Tools   \n",
              "25351      0.0      USD  7.4M      7.0 and up  Sundeep Reddy Thirumuru   \n",
              "28142      0.0      USD  8.6M      4.1 and up          SteadFast Games   \n",
              "30962      0.0      USD  927k      4.0 and up             SnatchDreams   \n",
              "...        ...      ...   ...             ...                      ...   \n",
              "2272773    0.0      USD  2.3M      2.3 and up          Mobile Apps Pro   \n",
              "2281376    0.0      USD  3.5M      5.0 and up           Jainam Jhaveri   \n",
              "2282023    0.0      USD  5.3M      4.1 and up     Cybertron's Hogwarts   \n",
              "2299121    0.0      USD  2.1M      2.2 and up              Infuse Apps   \n",
              "2310375    0.0      USD  1.7M      4.4 and up               RentMyTent   \n",
              "\n",
              "                                      Developer Website  \\\n",
              "3918                  https://ne2ad32ee.app-ads-txt.com   \n",
              "13758                                               NaN   \n",
              "25351                                               NaN   \n",
              "28142                                               NaN   \n",
              "30962                      https://www.snatchdreams.net   \n",
              "...                                                 ...   \n",
              "2272773                                             NaN   \n",
              "2281376                            https://erjainam.com   \n",
              "2282023  http://prudhvikchirunomula.pythonanywhere.com/   \n",
              "2299121                       http://www.infuseapps.com   \n",
              "2310375                                             NaN   \n",
              "\n",
              "                     Developer Email      Released  Last Updated  \\\n",
              "3918     dev.atte.francois@gmail.com  May 18, 2018  May 18, 2018   \n",
              "13758           msms.zaman@gmail.com   Nov 2, 2020  Nov 18, 2020   \n",
              "25351    sundeep.thirumuru@gmail.com  Apr 13, 2021  Jun 03, 2021   \n",
              "28142          devmethyl@outlook.com  Feb 13, 2020  Feb 13, 2020   \n",
              "30962         snatchdreams@gmail.com  Jul 16, 2017  Oct 16, 2019   \n",
              "...                              ...           ...           ...   \n",
              "2272773           smartyka@gmail.com   Jan 9, 2015  May 20, 2015   \n",
              "2281376     engineerjainam@gmail.com   Sep 2, 2018  Sep 02, 2018   \n",
              "2282023      prudhvik.1996@gmail.com   Sep 4, 2019  Sep 17, 2019   \n",
              "2299121  infuseandroidapps@gmail.com  Jan 18, 2015  Jan 18, 2015   \n",
              "2310375      justmailtoavi@gmail.com  Mar 30, 2016  Apr 01, 2016   \n",
              "\n",
              "        Content Rating                                     Privacy Policy  \\\n",
              "3918          Everyone                                                NaN   \n",
              "13758         Everyone  https://smartdailytools.blogspot.com/2020/09/p...   \n",
              "25351         Everyone                                                NaN   \n",
              "28142         Everyone                                                NaN   \n",
              "30962         Everyone  https://www.snatchdreams.net/privacy/tic-tac-toe/   \n",
              "...                ...                                                ...   \n",
              "2272773       Everyone                  http://mobileappspro.yolasite.com   \n",
              "2281376       Everyone  https://docs.google.com/document/d/1Tyi5D3VxZu...   \n",
              "2282023       Everyone                                                NaN   \n",
              "2299121       Everyone                                                NaN   \n",
              "2310375       Everyone                                                NaN   \n",
              "\n",
              "         Ad Supported  In App Purchases  Editors Choice         Scraped Time  \n",
              "3918             True             False           False  2021-06-15 20:23:22  \n",
              "13758            True             False           False  2021-06-15 20:32:58  \n",
              "25351            True             False           False  2021-06-15 20:44:27  \n",
              "28142            True             False           False  2021-06-15 20:47:17  \n",
              "30962            True             False           False  2021-06-15 20:50:12  \n",
              "...               ...               ...             ...                  ...  \n",
              "2272773          True             False           False  2021-06-16 12:23:56  \n",
              "2281376          True             False           False  2021-06-16 12:31:30  \n",
              "2282023         False             False           False  2021-06-16 12:32:05  \n",
              "2299121          True             False           False  2021-06-16 12:47:11  \n",
              "2310375         False             False           False  2021-06-16 12:57:05  \n",
              "\n",
              "[382 rows x 24 columns]"
            ],
            "text/html": [
              "\n",
              "  <div id=\"df-d211f88b-8b3e-4090-90be-70bbe4cca782\">\n",
              "    <div class=\"colab-df-container\">\n",
              "      <div>\n",
              "<style scoped>\n",
              "    .dataframe tbody tr th:only-of-type {\n",
              "        vertical-align: middle;\n",
              "    }\n",
              "\n",
              "    .dataframe tbody tr th {\n",
              "        vertical-align: top;\n",
              "    }\n",
              "\n",
              "    .dataframe thead th {\n",
              "        text-align: right;\n",
              "    }\n",
              "</style>\n",
              "<table border=\"1\" class=\"dataframe\">\n",
              "  <thead>\n",
              "    <tr style=\"text-align: right;\">\n",
              "      <th></th>\n",
              "      <th>App Name</th>\n",
              "      <th>App Id</th>\n",
              "      <th>Category</th>\n",
              "      <th>Rating</th>\n",
              "      <th>Rating Count</th>\n",
              "      <th>Installs</th>\n",
              "      <th>Minimum Installs</th>\n",
              "      <th>Maximum Installs</th>\n",
              "      <th>Free</th>\n",
              "      <th>Price</th>\n",
              "      <th>Currency</th>\n",
              "      <th>Size</th>\n",
              "      <th>Minimum Android</th>\n",
              "      <th>Developer Id</th>\n",
              "      <th>Developer Website</th>\n",
              "      <th>Developer Email</th>\n",
              "      <th>Released</th>\n",
              "      <th>Last Updated</th>\n",
              "      <th>Content Rating</th>\n",
              "      <th>Privacy Policy</th>\n",
              "      <th>Ad Supported</th>\n",
              "      <th>In App Purchases</th>\n",
              "      <th>Editors Choice</th>\n",
              "      <th>Scraped Time</th>\n",
              "    </tr>\n",
              "  </thead>\n",
              "  <tbody>\n",
              "    <tr>\n",
              "      <th>3918</th>\n",
              "      <td>Tic Tac Toe</td>\n",
              "      <td>com.dev.atte.tic_tac_toe</td>\n",
              "      <td>Puzzle</td>\n",
              "      <td>0.0</td>\n",
              "      <td>0.0</td>\n",
              "      <td>10+</td>\n",
              "      <td>10.0</td>\n",
              "      <td>30</td>\n",
              "      <td>True</td>\n",
              "      <td>0.0</td>\n",
              "      <td>USD</td>\n",
              "      <td>3.4M</td>\n",
              "      <td>4.0 and up</td>\n",
              "      <td>ATTE AKA FRANCOIS</td>\n",
              "      <td>https://ne2ad32ee.app-ads-txt.com</td>\n",
              "      <td>dev.atte.francois@gmail.com</td>\n",
              "      <td>May 18, 2018</td>\n",
              "      <td>May 18, 2018</td>\n",
              "      <td>Everyone</td>\n",
              "      <td>NaN</td>\n",
              "      <td>True</td>\n",
              "      <td>False</td>\n",
              "      <td>False</td>\n",
              "      <td>2021-06-15 20:23:22</td>\n",
              "    </tr>\n",
              "    <tr>\n",
              "      <th>13758</th>\n",
              "      <td>Tic Tac Toe</td>\n",
              "      <td>com.md.tictactoe</td>\n",
              "      <td>Board</td>\n",
              "      <td>0.0</td>\n",
              "      <td>0.0</td>\n",
              "      <td>10+</td>\n",
              "      <td>10.0</td>\n",
              "      <td>31</td>\n",
              "      <td>True</td>\n",
              "      <td>0.0</td>\n",
              "      <td>USD</td>\n",
              "      <td>34M</td>\n",
              "      <td>4.3 and up</td>\n",
              "      <td>Smart Digital Tools</td>\n",
              "      <td>NaN</td>\n",
              "      <td>msms.zaman@gmail.com</td>\n",
              "      <td>Nov 2, 2020</td>\n",
              "      <td>Nov 18, 2020</td>\n",
              "      <td>Everyone</td>\n",
              "      <td>https://smartdailytools.blogspot.com/2020/09/p...</td>\n",
              "      <td>True</td>\n",
              "      <td>False</td>\n",
              "      <td>False</td>\n",
              "      <td>2021-06-15 20:32:58</td>\n",
              "    </tr>\n",
              "    <tr>\n",
              "      <th>25351</th>\n",
              "      <td>Tic Tac Toe</td>\n",
              "      <td>com.sthirumuru.tictactoenew</td>\n",
              "      <td>Board</td>\n",
              "      <td>4.2</td>\n",
              "      <td>11.0</td>\n",
              "      <td>5,000+</td>\n",
              "      <td>5000.0</td>\n",
              "      <td>6379</td>\n",
              "      <td>True</td>\n",
              "      <td>0.0</td>\n",
              "      <td>USD</td>\n",
              "      <td>7.4M</td>\n",
              "      <td>7.0 and up</td>\n",
              "      <td>Sundeep Reddy Thirumuru</td>\n",
              "      <td>NaN</td>\n",
              "      <td>sundeep.thirumuru@gmail.com</td>\n",
              "      <td>Apr 13, 2021</td>\n",
              "      <td>Jun 03, 2021</td>\n",
              "      <td>Everyone</td>\n",
              "      <td>NaN</td>\n",
              "      <td>True</td>\n",
              "      <td>False</td>\n",
              "      <td>False</td>\n",
              "      <td>2021-06-15 20:44:27</td>\n",
              "    </tr>\n",
              "    <tr>\n",
              "      <th>28142</th>\n",
              "      <td>Tic Tac Toe</td>\n",
              "      <td>com.fsk00x.TicTacToe</td>\n",
              "      <td>Board</td>\n",
              "      <td>0.0</td>\n",
              "      <td>0.0</td>\n",
              "      <td>500+</td>\n",
              "      <td>500.0</td>\n",
              "      <td>922</td>\n",
              "      <td>True</td>\n",
              "      <td>0.0</td>\n",
              "      <td>USD</td>\n",
              "      <td>8.6M</td>\n",
              "      <td>4.1 and up</td>\n",
              "      <td>SteadFast Games</td>\n",
              "      <td>NaN</td>\n",
              "      <td>devmethyl@outlook.com</td>\n",
              "      <td>Feb 13, 2020</td>\n",
              "      <td>Feb 13, 2020</td>\n",
              "      <td>Everyone</td>\n",
              "      <td>NaN</td>\n",
              "      <td>True</td>\n",
              "      <td>False</td>\n",
              "      <td>False</td>\n",
              "      <td>2021-06-15 20:47:17</td>\n",
              "    </tr>\n",
              "    <tr>\n",
              "      <th>30962</th>\n",
              "      <td>Tic Tac Toe</td>\n",
              "      <td>net.snatchdreams.tictactoe</td>\n",
              "      <td>Puzzle</td>\n",
              "      <td>0.0</td>\n",
              "      <td>0.0</td>\n",
              "      <td>10+</td>\n",
              "      <td>10.0</td>\n",
              "      <td>38</td>\n",
              "      <td>True</td>\n",
              "      <td>0.0</td>\n",
              "      <td>USD</td>\n",
              "      <td>927k</td>\n",
              "      <td>4.0 and up</td>\n",
              "      <td>SnatchDreams</td>\n",
              "      <td>https://www.snatchdreams.net</td>\n",
              "      <td>snatchdreams@gmail.com</td>\n",
              "      <td>Jul 16, 2017</td>\n",
              "      <td>Oct 16, 2019</td>\n",
              "      <td>Everyone</td>\n",
              "      <td>https://www.snatchdreams.net/privacy/tic-tac-toe/</td>\n",
              "      <td>True</td>\n",
              "      <td>False</td>\n",
              "      <td>False</td>\n",
              "      <td>2021-06-15 20:50:12</td>\n",
              "    </tr>\n",
              "    <tr>\n",
              "      <th>...</th>\n",
              "      <td>...</td>\n",
              "      <td>...</td>\n",
              "      <td>...</td>\n",
              "      <td>...</td>\n",
              "      <td>...</td>\n",
              "      <td>...</td>\n",
              "      <td>...</td>\n",
              "      <td>...</td>\n",
              "      <td>...</td>\n",
              "      <td>...</td>\n",
              "      <td>...</td>\n",
              "      <td>...</td>\n",
              "      <td>...</td>\n",
              "      <td>...</td>\n",
              "      <td>...</td>\n",
              "      <td>...</td>\n",
              "      <td>...</td>\n",
              "      <td>...</td>\n",
              "      <td>...</td>\n",
              "      <td>...</td>\n",
              "      <td>...</td>\n",
              "      <td>...</td>\n",
              "      <td>...</td>\n",
              "      <td>...</td>\n",
              "    </tr>\n",
              "    <tr>\n",
              "      <th>2272773</th>\n",
              "      <td>Tic Tac Toe</td>\n",
              "      <td>com.tictactoe.MobileAppsPro</td>\n",
              "      <td>Board</td>\n",
              "      <td>3.8</td>\n",
              "      <td>9269.0</td>\n",
              "      <td>500,000+</td>\n",
              "      <td>500000.0</td>\n",
              "      <td>800662</td>\n",
              "      <td>True</td>\n",
              "      <td>0.0</td>\n",
              "      <td>USD</td>\n",
              "      <td>2.3M</td>\n",
              "      <td>2.3 and up</td>\n",
              "      <td>Mobile Apps Pro</td>\n",
              "      <td>NaN</td>\n",
              "      <td>smartyka@gmail.com</td>\n",
              "      <td>Jan 9, 2015</td>\n",
              "      <td>May 20, 2015</td>\n",
              "      <td>Everyone</td>\n",
              "      <td>http://mobileappspro.yolasite.com</td>\n",
              "      <td>True</td>\n",
              "      <td>False</td>\n",
              "      <td>False</td>\n",
              "      <td>2021-06-16 12:23:56</td>\n",
              "    </tr>\n",
              "    <tr>\n",
              "      <th>2281376</th>\n",
              "      <td>Tic Tac Toe</td>\n",
              "      <td>com.erjainam.tictactoe.release</td>\n",
              "      <td>Board</td>\n",
              "      <td>0.0</td>\n",
              "      <td>0.0</td>\n",
              "      <td>50+</td>\n",
              "      <td>50.0</td>\n",
              "      <td>50</td>\n",
              "      <td>True</td>\n",
              "      <td>0.0</td>\n",
              "      <td>USD</td>\n",
              "      <td>3.5M</td>\n",
              "      <td>5.0 and up</td>\n",
              "      <td>Jainam Jhaveri</td>\n",
              "      <td>https://erjainam.com</td>\n",
              "      <td>engineerjainam@gmail.com</td>\n",
              "      <td>Sep 2, 2018</td>\n",
              "      <td>Sep 02, 2018</td>\n",
              "      <td>Everyone</td>\n",
              "      <td>https://docs.google.com/document/d/1Tyi5D3VxZu...</td>\n",
              "      <td>True</td>\n",
              "      <td>False</td>\n",
              "      <td>False</td>\n",
              "      <td>2021-06-16 12:31:30</td>\n",
              "    </tr>\n",
              "    <tr>\n",
              "      <th>2282023</th>\n",
              "      <td>Tic Tac Toe</td>\n",
              "      <td>com.swapworld.tic_tac_toe</td>\n",
              "      <td>Board</td>\n",
              "      <td>4.7</td>\n",
              "      <td>7.0</td>\n",
              "      <td>10+</td>\n",
              "      <td>10.0</td>\n",
              "      <td>34</td>\n",
              "      <td>True</td>\n",
              "      <td>0.0</td>\n",
              "      <td>USD</td>\n",
              "      <td>5.3M</td>\n",
              "      <td>4.1 and up</td>\n",
              "      <td>Cybertron's Hogwarts</td>\n",
              "      <td>http://prudhvikchirunomula.pythonanywhere.com/</td>\n",
              "      <td>prudhvik.1996@gmail.com</td>\n",
              "      <td>Sep 4, 2019</td>\n",
              "      <td>Sep 17, 2019</td>\n",
              "      <td>Everyone</td>\n",
              "      <td>NaN</td>\n",
              "      <td>False</td>\n",
              "      <td>False</td>\n",
              "      <td>False</td>\n",
              "      <td>2021-06-16 12:32:05</td>\n",
              "    </tr>\n",
              "    <tr>\n",
              "      <th>2299121</th>\n",
              "      <td>Tic Tac Toe</td>\n",
              "      <td>com.infuse.tictactoe</td>\n",
              "      <td>Board</td>\n",
              "      <td>4.8</td>\n",
              "      <td>20.0</td>\n",
              "      <td>100+</td>\n",
              "      <td>100.0</td>\n",
              "      <td>462</td>\n",
              "      <td>True</td>\n",
              "      <td>0.0</td>\n",
              "      <td>USD</td>\n",
              "      <td>2.1M</td>\n",
              "      <td>2.2 and up</td>\n",
              "      <td>Infuse Apps</td>\n",
              "      <td>http://www.infuseapps.com</td>\n",
              "      <td>infuseandroidapps@gmail.com</td>\n",
              "      <td>Jan 18, 2015</td>\n",
              "      <td>Jan 18, 2015</td>\n",
              "      <td>Everyone</td>\n",
              "      <td>NaN</td>\n",
              "      <td>True</td>\n",
              "      <td>False</td>\n",
              "      <td>False</td>\n",
              "      <td>2021-06-16 12:47:11</td>\n",
              "    </tr>\n",
              "    <tr>\n",
              "      <th>2310375</th>\n",
              "      <td>Tic Tac Toe</td>\n",
              "      <td>com.justmailtoavi.avinashk.threet</td>\n",
              "      <td>Puzzle</td>\n",
              "      <td>4.7</td>\n",
              "      <td>10.0</td>\n",
              "      <td>100+</td>\n",
              "      <td>100.0</td>\n",
              "      <td>173</td>\n",
              "      <td>True</td>\n",
              "      <td>0.0</td>\n",
              "      <td>USD</td>\n",
              "      <td>1.7M</td>\n",
              "      <td>4.4 and up</td>\n",
              "      <td>RentMyTent</td>\n",
              "      <td>NaN</td>\n",
              "      <td>justmailtoavi@gmail.com</td>\n",
              "      <td>Mar 30, 2016</td>\n",
              "      <td>Apr 01, 2016</td>\n",
              "      <td>Everyone</td>\n",
              "      <td>NaN</td>\n",
              "      <td>False</td>\n",
              "      <td>False</td>\n",
              "      <td>False</td>\n",
              "      <td>2021-06-16 12:57:05</td>\n",
              "    </tr>\n",
              "  </tbody>\n",
              "</table>\n",
              "<p>382 rows × 24 columns</p>\n",
              "</div>\n",
              "      <button class=\"colab-df-convert\" onclick=\"convertToInteractive('df-d211f88b-8b3e-4090-90be-70bbe4cca782')\"\n",
              "              title=\"Convert this dataframe to an interactive table.\"\n",
              "              style=\"display:none;\">\n",
              "        \n",
              "  <svg xmlns=\"http://www.w3.org/2000/svg\" height=\"24px\"viewBox=\"0 0 24 24\"\n",
              "       width=\"24px\">\n",
              "    <path d=\"M0 0h24v24H0V0z\" fill=\"none\"/>\n",
              "    <path d=\"M18.56 5.44l.94 2.06.94-2.06 2.06-.94-2.06-.94-.94-2.06-.94 2.06-2.06.94zm-11 1L8.5 8.5l.94-2.06 2.06-.94-2.06-.94L8.5 2.5l-.94 2.06-2.06.94zm10 10l.94 2.06.94-2.06 2.06-.94-2.06-.94-.94-2.06-.94 2.06-2.06.94z\"/><path d=\"M17.41 7.96l-1.37-1.37c-.4-.4-.92-.59-1.43-.59-.52 0-1.04.2-1.43.59L10.3 9.45l-7.72 7.72c-.78.78-.78 2.05 0 2.83L4 21.41c.39.39.9.59 1.41.59.51 0 1.02-.2 1.41-.59l7.78-7.78 2.81-2.81c.8-.78.8-2.07 0-2.86zM5.41 20L4 18.59l7.72-7.72 1.47 1.35L5.41 20z\"/>\n",
              "  </svg>\n",
              "      </button>\n",
              "      \n",
              "  <style>\n",
              "    .colab-df-container {\n",
              "      display:flex;\n",
              "      flex-wrap:wrap;\n",
              "      gap: 12px;\n",
              "    }\n",
              "\n",
              "    .colab-df-convert {\n",
              "      background-color: #E8F0FE;\n",
              "      border: none;\n",
              "      border-radius: 50%;\n",
              "      cursor: pointer;\n",
              "      display: none;\n",
              "      fill: #1967D2;\n",
              "      height: 32px;\n",
              "      padding: 0 0 0 0;\n",
              "      width: 32px;\n",
              "    }\n",
              "\n",
              "    .colab-df-convert:hover {\n",
              "      background-color: #E2EBFA;\n",
              "      box-shadow: 0px 1px 2px rgba(60, 64, 67, 0.3), 0px 1px 3px 1px rgba(60, 64, 67, 0.15);\n",
              "      fill: #174EA6;\n",
              "    }\n",
              "\n",
              "    [theme=dark] .colab-df-convert {\n",
              "      background-color: #3B4455;\n",
              "      fill: #D2E3FC;\n",
              "    }\n",
              "\n",
              "    [theme=dark] .colab-df-convert:hover {\n",
              "      background-color: #434B5C;\n",
              "      box-shadow: 0px 1px 3px 1px rgba(0, 0, 0, 0.15);\n",
              "      filter: drop-shadow(0px 1px 2px rgba(0, 0, 0, 0.3));\n",
              "      fill: #FFFFFF;\n",
              "    }\n",
              "  </style>\n",
              "\n",
              "      <script>\n",
              "        const buttonEl =\n",
              "          document.querySelector('#df-d211f88b-8b3e-4090-90be-70bbe4cca782 button.colab-df-convert');\n",
              "        buttonEl.style.display =\n",
              "          google.colab.kernel.accessAllowed ? 'block' : 'none';\n",
              "\n",
              "        async function convertToInteractive(key) {\n",
              "          const element = document.querySelector('#df-d211f88b-8b3e-4090-90be-70bbe4cca782');\n",
              "          const dataTable =\n",
              "            await google.colab.kernel.invokeFunction('convertToInteractive',\n",
              "                                                     [key], {});\n",
              "          if (!dataTable) return;\n",
              "\n",
              "          const docLinkHtml = 'Like what you see? Visit the ' +\n",
              "            '<a target=\"_blank\" href=https://colab.research.google.com/notebooks/data_table.ipynb>data table notebook</a>'\n",
              "            + ' to learn more about interactive tables.';\n",
              "          element.innerHTML = '';\n",
              "          dataTable['output_type'] = 'display_data';\n",
              "          await google.colab.output.renderOutput(dataTable, element);\n",
              "          const docLink = document.createElement('div');\n",
              "          docLink.innerHTML = docLinkHtml;\n",
              "          element.appendChild(docLink);\n",
              "        }\n",
              "      </script>\n",
              "    </div>\n",
              "  </div>\n",
              "  "
            ]
          },
          "metadata": {},
          "execution_count": 30
        }
      ],
      "source": [
        "df[df['App Name'] == 'Tic Tac Toe']"
      ]
    },
    {
      "cell_type": "code",
      "execution_count": 31,
      "metadata": {
        "colab": {
          "base_uri": "https://localhost:8080/"
        },
        "id": "qF5RNNo4wqZ7",
        "outputId": "95656a19-56d8-4915-d90e-27647af0864c"
      },
      "outputs": [
        {
          "output_type": "execute_result",
          "data": {
            "text/plain": [
              "False"
            ]
          },
          "metadata": {},
          "execution_count": 31
        }
      ],
      "source": [
        "df['App Id'].duplicated().any()"
      ]
    },
    {
      "cell_type": "code",
      "execution_count": 32,
      "metadata": {
        "id": "xIeyV2p8w5Gi",
        "colab": {
          "base_uri": "https://localhost:8080/"
        },
        "outputId": "f316b63c-75e3-491a-d2b8-3968c3028256"
      },
      "outputs": [
        {
          "output_type": "execute_result",
          "data": {
            "text/plain": [
              "com.ishakwe.gakondo                    1\n",
              "com.avai.amp.dewtour                   1\n",
              "com.myhomebuy                          1\n",
              "com.apocalipseescatologia.app          1\n",
              "com.puzzlegame.wordconnect             1\n",
              "                                      ..\n",
              "id.compro.virtualcompetition           1\n",
              "com.fitivity.basketball_point_guard    1\n",
              "smartgr.gardenshower.ideas             1\n",
              "com.euroland.mobiletools.ae_nbad       1\n",
              "com.yyazilim.biliyormusun              1\n",
              "Name: App Id, Length: 2312548, dtype: int64"
            ]
          },
          "metadata": {},
          "execution_count": 32
        }
      ],
      "source": [
        "df['App Id'].value_counts()"
      ]
    },
    {
      "cell_type": "markdown",
      "metadata": {
        "id": "lHojgL8nwbR9"
      },
      "source": [
        "   \n",
        "1. we have the Apps with the same names but with the unique App IDs so the Apps are differed based on the App IDs"
      ]
    },
    {
      "cell_type": "markdown",
      "metadata": {
        "id": "NpXmyR9uy13H"
      },
      "source": [
        "## let's Explore the numerical columns\n",
        "\n",
        "\n",
        "\n"
      ]
    },
    {
      "cell_type": "code",
      "execution_count": 33,
      "metadata": {
        "colab": {
          "base_uri": "https://localhost:8080/"
        },
        "id": "UgIK7q_3v704",
        "outputId": "394437cd-e63b-4ae3-f70e-4521c8276a1b"
      },
      "outputs": [
        {
          "output_type": "execute_result",
          "data": {
            "text/plain": [
              "array(['10+', '5,000+', '50+', '100+', '1,000+', '500+', '50,000+',\n",
              "       '10,000+', '1+', '500,000+', '100,000+', '5+', '10,000,000+',\n",
              "       '1,000,000+', '5,000,000+', '0+', '100,000,000+', '50,000,000+',\n",
              "       '1,000,000,000+', '500,000,000+', '5,000,000,000+',\n",
              "       '10,000,000,000+'], dtype=object)"
            ]
          },
          "metadata": {},
          "execution_count": 33
        }
      ],
      "source": [
        "df['Installs'].unique()"
      ]
    },
    {
      "cell_type": "markdown",
      "metadata": {
        "id": "cxLofEG3fV9j"
      },
      "source": [
        "It is in the object type, we need to change it into the int type"
      ]
    },
    {
      "cell_type": "code",
      "execution_count": 34,
      "metadata": {
        "id": "KQZRz-pSyH39"
      },
      "outputs": [],
      "source": [
        "df['Installs'] = df['Installs'].str.split('+').str[0]    # reomoves the + symbol\n",
        "df['Installs'].replace(',','', regex=True, inplace=True) #replace the commas ',' in the install column\n",
        "df['Installs'] = df['Installs'].astype(int)              # converting it to the int type"
      ]
    },
    {
      "cell_type": "code",
      "execution_count": 35,
      "metadata": {
        "id": "qEH-b4Wd0oYg",
        "colab": {
          "base_uri": "https://localhost:8080/"
        },
        "outputId": "66364d65-9648-4f82-8d36-79f098bf99ab"
      },
      "outputs": [
        {
          "output_type": "execute_result",
          "data": {
            "text/plain": [
              "array([         10,        5000,          50,         100,        1000,\n",
              "               500,       50000,       10000,           1,      500000,\n",
              "            100000,           5,    10000000,     1000000,     5000000,\n",
              "                 0,   100000000,    50000000,  1000000000,   500000000,\n",
              "        5000000000, 10000000000])"
            ]
          },
          "metadata": {},
          "execution_count": 35
        }
      ],
      "source": [
        "df['Installs'].unique()"
      ]
    },
    {
      "cell_type": "code",
      "execution_count": 36,
      "metadata": {
        "id": "iAFyZytO4HsD",
        "colab": {
          "base_uri": "https://localhost:8080/"
        },
        "outputId": "c53cf07f-c24e-41de-f6a8-a6ea5d77a8bb"
      },
      "outputs": [
        {
          "output_type": "execute_result",
          "data": {
            "text/plain": [
              "array(['USD', 'XXX', 'CAD', 'EUR', 'INR', 'VND', 'GBP', 'BRL', 'KRW',\n",
              "       'TRY', 'RUB', 'SGD', 'AUD', 'PKR', 'ZAR'], dtype=object)"
            ]
          },
          "metadata": {},
          "execution_count": 36
        }
      ],
      "source": [
        "df['Currency'].unique()"
      ]
    },
    {
      "cell_type": "code",
      "execution_count": 37,
      "metadata": {
        "colab": {
          "base_uri": "https://localhost:8080/"
        },
        "id": "ZKLG6yzq457o",
        "outputId": "9eac64a4-3145-420f-c2dc-02f0629d0185"
      },
      "outputs": [
        {
          "output_type": "execute_result",
          "data": {
            "text/plain": [
              "array(['10M', '2.9M', '3.7M', ..., '405M', '3.2k', '512M'], dtype=object)"
            ]
          },
          "metadata": {},
          "execution_count": 37
        }
      ],
      "source": [
        "df['Size'].unique()"
      ]
    },
    {
      "cell_type": "markdown",
      "metadata": {
        "id": "YrxU4VHXF6lu"
      },
      "source": [
        "The Size of data can be in GB, MB and KB let's convert the data into the size in MB"
      ]
    },
    {
      "cell_type": "code",
      "execution_count": 38,
      "metadata": {
        "id": "eegy_rmGCp-O"
      },
      "outputs": [],
      "source": [
        "df['Size'] = df['Size'].apply(lambda x: str(x).replace('M', '') if 'M' in str(x) else x)"
      ]
    },
    {
      "cell_type": "code",
      "execution_count": 39,
      "metadata": {
        "id": "yjMEy9PAjaCa"
      },
      "outputs": [],
      "source": [
        "#df['Size'] = df['Size'].apply(lambda x: float(str(x).replace('k', '')) / 1000 if 'k' in str(x) else x)"
      ]
    },
    {
      "cell_type": "markdown",
      "metadata": {
        "id": "n_QbzbT3G9Nr"
      },
      "source": [
        "here we get a missmatched value with the data\n",
        "we got the value 1,018 we can drop it or we can assume as it may be a '.' (dot) the would incorrectly added to the dataset. so let assume it as dot for now and repalce the ',' with the dot '.'"
      ]
    },
    {
      "cell_type": "code",
      "execution_count": 40,
      "metadata": {
        "id": "CMlwii5PDdLZ"
      },
      "outputs": [],
      "source": [
        "df['Size'] = df['Size'].apply(lambda x: str(x).replace(',', '.') if ',' in str(x) else x)"
      ]
    },
    {
      "cell_type": "markdown",
      "metadata": {
        "id": "SvU2F1n-ISz9"
      },
      "source": [
        "conversion of kbs to mb"
      ]
    },
    {
      "cell_type": "code",
      "execution_count": 41,
      "metadata": {
        "id": "x1i0PAmjDJ8R"
      },
      "outputs": [],
      "source": [
        "df['Size'] = df['Size'].apply(lambda x: float(str(x).replace('k', '')) / 1000 if 'k' in str(x) else x)"
      ]
    },
    {
      "cell_type": "code",
      "execution_count": 42,
      "metadata": {
        "id": "bn3flkzsjX5L"
      },
      "outputs": [],
      "source": [
        "#df['Size'] = df['Size'].apply(lambda x: float(x))"
      ]
    },
    {
      "cell_type": "markdown",
      "metadata": {
        "id": "uIbnE8ULHd_5"
      },
      "source": [
        "we get an another missmatch value in the data set which is 'Varies with device' it means the size of the App may vaies with the device---> but here I am assuming it as 0"
      ]
    },
    {
      "cell_type": "code",
      "execution_count": 43,
      "metadata": {
        "id": "1UklmUziEEz9"
      },
      "outputs": [],
      "source": [
        "df['Size'] = df['Size'].apply(lambda x: str(x).replace('Varies with device', '0') if 'Varies with device' in str(x) else x)"
      ]
    },
    {
      "cell_type": "code",
      "execution_count": 44,
      "metadata": {
        "id": "TL0gjS5CEbxP"
      },
      "outputs": [],
      "source": [
        "#df['Size'] = df['Size'].apply(lambda x: float(x))"
      ]
    },
    {
      "cell_type": "markdown",
      "metadata": {
        "id": "SfVe6H2rIX3D"
      },
      "source": [
        "conversion of data Gbs to Mb"
      ]
    },
    {
      "cell_type": "code",
      "execution_count": 45,
      "metadata": {
        "id": "omd4DHcYEh8e"
      },
      "outputs": [],
      "source": [
        "df['Size'] = df['Size'].apply(lambda x: float(str(x).replace('G', '')) * 1000 if 'G' in str(x) else x)"
      ]
    },
    {
      "cell_type": "code",
      "execution_count": 46,
      "metadata": {
        "id": "boLBFi1ZEnLW"
      },
      "outputs": [],
      "source": [
        "df['Size'] = df['Size'].apply(lambda x: float(x))"
      ]
    },
    {
      "cell_type": "code",
      "execution_count": 47,
      "metadata": {
        "id": "-Ij4GSSiDqF6",
        "colab": {
          "base_uri": "https://localhost:8080/"
        },
        "outputId": "d323803f-e518-45ac-f393-65bb7f40a40a"
      },
      "outputs": [
        {
          "output_type": "execute_result",
          "data": {
            "text/plain": [
              "dtype('float64')"
            ]
          },
          "metadata": {},
          "execution_count": 47
        }
      ],
      "source": [
        "df.dtypes['Size']"
      ]
    },
    {
      "cell_type": "code",
      "execution_count": 48,
      "metadata": {
        "id": "OjRQZcpJJxaH",
        "colab": {
          "base_uri": "https://localhost:8080/"
        },
        "outputId": "785d3246-9133-4219-ef51-e8c69bf96fd8"
      },
      "outputs": [
        {
          "output_type": "execute_result",
          "data": {
            "text/plain": [
              "0            7.1 and up\n",
              "1            5.0 and up\n",
              "2          4.0.3 and up\n",
              "3          4.0.3 and up\n",
              "4            4.1 and up\n",
              "               ...     \n",
              "2312939      4.1 and up\n",
              "2312940      4.1 and up\n",
              "2312941      5.0 and up\n",
              "2312942      5.0 and up\n",
              "2312943      5.0 and up\n",
              "Name: Minimum Android, Length: 2312548, dtype: object"
            ]
          },
          "metadata": {},
          "execution_count": 48
        }
      ],
      "source": [
        "df['Minimum Android']"
      ]
    },
    {
      "cell_type": "code",
      "execution_count": 49,
      "metadata": {
        "id": "e-GqJ8Jd6uIC",
        "colab": {
          "base_uri": "https://localhost:8080/"
        },
        "outputId": "27f85d78-3a21-401f-8b0f-920159cb74ed"
      },
      "outputs": [
        {
          "output_type": "execute_result",
          "data": {
            "text/plain": [
              "0          Everyone\n",
              "1          Everyone\n",
              "2          Everyone\n",
              "3          Everyone\n",
              "4          Everyone\n",
              "             ...   \n",
              "2312939        Teen\n",
              "2312940    Everyone\n",
              "2312941    Everyone\n",
              "2312942    Everyone\n",
              "2312943    Everyone\n",
              "Name: Content Rating, Length: 2312548, dtype: object"
            ]
          },
          "metadata": {},
          "execution_count": 49
        }
      ],
      "source": [
        "df['Content Rating']"
      ]
    },
    {
      "cell_type": "code",
      "execution_count": 50,
      "metadata": {
        "id": "-QSoos6x-5iS",
        "colab": {
          "base_uri": "https://localhost:8080/"
        },
        "outputId": "0af0a524-7fc1-448f-fe1a-740ca8f36894"
      },
      "outputs": [
        {
          "output_type": "execute_result",
          "data": {
            "text/plain": [
              "0          Feb 26, 2020\n",
              "1          May 21, 2020\n",
              "2           Aug 9, 2019\n",
              "3          Sep 10, 2018\n",
              "4          Feb 21, 2020\n",
              "               ...     \n",
              "2312939             NaN\n",
              "2312940    Jan 17, 2018\n",
              "2312941    Aug 19, 2018\n",
              "2312942     Aug 1, 2016\n",
              "2312943     Aug 9, 2019\n",
              "Name: Released, Length: 2312548, dtype: object"
            ]
          },
          "metadata": {},
          "execution_count": 50
        }
      ],
      "source": [
        "df['Released']"
      ]
    },
    {
      "cell_type": "code",
      "execution_count": 51,
      "metadata": {
        "id": "P6zNsCDGJOqd",
        "colab": {
          "base_uri": "https://localhost:8080/"
        },
        "outputId": "aca94191-8261-4500-8bc8-6b205b1dad64"
      },
      "outputs": [
        {
          "output_type": "execute_result",
          "data": {
            "text/plain": [
              "0          Feb 26, 2020\n",
              "1          May 06, 2021\n",
              "2          Aug 19, 2019\n",
              "3          Oct 13, 2018\n",
              "4          Nov 12, 2018\n",
              "               ...     \n",
              "2312939    Jun 01, 2021\n",
              "2312940    Feb 02, 2018\n",
              "2312941    Aug 19, 2018\n",
              "2312942    May 05, 2021\n",
              "2312943    Aug 19, 2019\n",
              "Name: Last Updated, Length: 2312548, dtype: object"
            ]
          },
          "metadata": {},
          "execution_count": 51
        }
      ],
      "source": [
        "df['Last Updated']"
      ]
    },
    {
      "cell_type": "code",
      "execution_count": 52,
      "metadata": {
        "id": "IhX85BoqKbxq",
        "colab": {
          "base_uri": "https://localhost:8080/"
        },
        "outputId": "ae50dcb4-286f-4c81-c5ac-22461e4dae30"
      },
      "outputs": [
        {
          "output_type": "execute_result",
          "data": {
            "text/plain": [
              "0                         https://beniyizibyose.tk/projects/\n",
              "1          https://dev4phones.wordpress.com/licencia-de-uso/\n",
              "2          https://www.vietnamairlines.com/vn/en/terms-an...\n",
              "3                                                        NaN\n",
              "4                                http://www.horodyski.com.pl\n",
              "                                 ...                        \n",
              "2312939               http://a.4399sy.com.hk/user/aggreement\n",
              "2312940      http://www.oru.edu/about-oru/privacy-policy.php\n",
              "2312941    https://appoworld.000webhostapp.com/datastruct...\n",
              "2312942    https://docs.google.com/document/d/1x-9reZuLRX...\n",
              "2312943    https://biliyor-musun-sons.flycricket.io/priva...\n",
              "Name: Privacy Policy, Length: 2312548, dtype: object"
            ]
          },
          "metadata": {},
          "execution_count": 52
        }
      ],
      "source": [
        "df['Privacy Policy']"
      ]
    },
    {
      "cell_type": "code",
      "execution_count": 53,
      "metadata": {
        "id": "zCWg8fYcKqNR",
        "colab": {
          "base_uri": "https://localhost:8080/"
        },
        "outputId": "d671cd67-3011-428b-c81c-b0a57d66907e"
      },
      "outputs": [
        {
          "output_type": "execute_result",
          "data": {
            "text/plain": [
              "0          2021-06-15 20:19:35\n",
              "1          2021-06-15 20:19:35\n",
              "2          2021-06-15 20:19:35\n",
              "3          2021-06-15 20:19:35\n",
              "4          2021-06-15 20:19:35\n",
              "                  ...         \n",
              "2312939    2021-06-16 12:59:18\n",
              "2312940    2021-06-16 12:59:19\n",
              "2312941    2021-06-16 12:59:19\n",
              "2312942    2021-06-16 12:59:19\n",
              "2312943    2021-06-16 12:59:19\n",
              "Name: Scraped Time, Length: 2312548, dtype: object"
            ]
          },
          "metadata": {},
          "execution_count": 53
        }
      ],
      "source": [
        "df['Scraped Time']"
      ]
    },
    {
      "cell_type": "code",
      "execution_count": 54,
      "metadata": {
        "colab": {
          "base_uri": "https://localhost:8080/"
        },
        "id": "0HslnU9ejCaz",
        "outputId": "c1e86ed5-e6de-4f4b-d6ce-dfc41ce18651"
      },
      "outputs": [
        {
          "output_type": "execute_result",
          "data": {
            "text/plain": [
              "0          True\n",
              "1          True\n",
              "2          True\n",
              "3          True\n",
              "4          True\n",
              "           ... \n",
              "2312939    True\n",
              "2312940    True\n",
              "2312941    True\n",
              "2312942    True\n",
              "2312943    True\n",
              "Name: Free, Length: 2312548, dtype: bool"
            ]
          },
          "metadata": {},
          "execution_count": 54
        }
      ],
      "source": [
        "df['Free']"
      ]
    },
    {
      "cell_type": "markdown",
      "metadata": {
        "id": "x6qL6TV_1lHl"
      },
      "source": [
        "Creataing the column type for free and paid Apps by using the Free column, it's helpfull while dealing with the paid and Free Apps"
      ]
    },
    {
      "cell_type": "code",
      "execution_count": 55,
      "metadata": {
        "id": "FnMHGkHP1Nry"
      },
      "outputs": [],
      "source": [
        "df['Type'] = np.where(df['Free'] == True,'Free','Paid')\n",
        "df.drop(['Free'],axis=1, inplace= True )"
      ]
    },
    {
      "cell_type": "markdown",
      "metadata": {
        "id": "PfM4a8IiLoNu"
      },
      "source": [
        "let's clean the Content Rating column"
      ]
    },
    {
      "cell_type": "code",
      "execution_count": 56,
      "metadata": {
        "id": "I-Zmx5DCK6w0",
        "colab": {
          "base_uri": "https://localhost:8080/"
        },
        "outputId": "5445df15-d411-45e5-ca4c-0c17e049a8fb"
      },
      "outputs": [
        {
          "output_type": "execute_result",
          "data": {
            "text/plain": [
              "array(['Everyone', 'Teen', 'Mature 17+', 'Everyone 10+',\n",
              "       'Adults only 18+', 'Unrated'], dtype=object)"
            ]
          },
          "metadata": {},
          "execution_count": 56
        }
      ],
      "source": [
        "df['Content Rating'].unique()"
      ]
    },
    {
      "cell_type": "code",
      "execution_count": 57,
      "metadata": {
        "id": "5W0lvkvVLyzd",
        "colab": {
          "base_uri": "https://localhost:8080/"
        },
        "outputId": "88be1ffd-3bae-45ba-e001-837a618d48fb"
      },
      "outputs": [
        {
          "output_type": "execute_result",
          "data": {
            "text/plain": [
              "Everyone           2021788\n",
              "Teen                196311\n",
              "Mature 17+           60278\n",
              "Everyone 10+         33881\n",
              "Unrated                154\n",
              "Adults only 18+        136\n",
              "Name: Content Rating, dtype: int64"
            ]
          },
          "metadata": {},
          "execution_count": 57
        }
      ],
      "source": [
        "df['Content Rating'].value_counts()"
      ]
    },
    {
      "cell_type": "markdown",
      "metadata": {
        "id": "HsHRUnkTMOol"
      },
      "source": [
        "## Observation :     \n",
        "1. we have varies Categories in the content Rating column :    \n",
        "   * Everyone\n",
        "   * Teen\n",
        "   * Mature 17+\n",
        "   * Everyone 10+\n",
        "   * Unrated\n",
        "   * Adults only 18+             \n",
        "\n",
        "Now, we makes this Categories to a simple 3 Categories for better understanding :     \n",
        "   Everyone, Teen, Adults\n",
        "    \n",
        "   * Mature 17+   ----> to Adults\n",
        "   * Everyone 10+ ----> to Teen\n",
        "   * Unrated      ----> to Everyone\n",
        "   * Adults only 18+ -> to Adults "
      ]
    },
    {
      "cell_type": "code",
      "execution_count": 58,
      "metadata": {
        "id": "Q98ypU5iOZHO"
      },
      "outputs": [],
      "source": [
        "df[\"Content Rating\"]=df[\"Content Rating\"].replace(\"Unrated\",\"Everyone\")\n",
        "df[\"Content Rating\"]=df[\"Content Rating\"].replace(\"Everyone 10+\",\"Teen\")\n",
        "df[\"Content Rating\"]=df[\"Content Rating\"].replace(\"Mature 17+\",\"Adults\")\n",
        "df[\"Content Rating\"]=df[\"Content Rating\"].replace(\"Adults only 18+\",\"Adults\")"
      ]
    },
    {
      "cell_type": "code",
      "execution_count": 59,
      "metadata": {
        "id": "ZXZVWgtiOgxE",
        "colab": {
          "base_uri": "https://localhost:8080/"
        },
        "outputId": "fdff2453-2b53-4967-e78c-bf775980c78d"
      },
      "outputs": [
        {
          "output_type": "execute_result",
          "data": {
            "text/plain": [
              "array(['Everyone', 'Teen', 'Adults'], dtype=object)"
            ]
          },
          "metadata": {},
          "execution_count": 59
        }
      ],
      "source": [
        "df['Content Rating'].unique()"
      ]
    },
    {
      "cell_type": "code",
      "execution_count": 60,
      "metadata": {
        "id": "UvBmY5v6MFWa",
        "colab": {
          "base_uri": "https://localhost:8080/"
        },
        "outputId": "2f3e87eb-3b55-4fe8-8801-5a36ed36b1fd"
      },
      "outputs": [
        {
          "output_type": "stream",
          "name": "stdout",
          "text": [
            "<class 'pandas.core.frame.DataFrame'>\n",
            "Int64Index: 2312548 entries, 0 to 2312943\n",
            "Data columns (total 24 columns):\n",
            " #   Column             Dtype  \n",
            "---  ------             -----  \n",
            " 0   App Name           object \n",
            " 1   App Id             object \n",
            " 2   Category           object \n",
            " 3   Rating             float64\n",
            " 4   Rating Count       float64\n",
            " 5   Installs           int64  \n",
            " 6   Minimum Installs   float64\n",
            " 7   Maximum Installs   int64  \n",
            " 8   Price              float64\n",
            " 9   Currency           object \n",
            " 10  Size               float64\n",
            " 11  Minimum Android    object \n",
            " 12  Developer Id       object \n",
            " 13  Developer Website  object \n",
            " 14  Developer Email    object \n",
            " 15  Released           object \n",
            " 16  Last Updated       object \n",
            " 17  Content Rating     object \n",
            " 18  Privacy Policy     object \n",
            " 19  Ad Supported       bool   \n",
            " 20  In App Purchases   bool   \n",
            " 21  Editors Choice     bool   \n",
            " 22  Scraped Time       object \n",
            " 23  Type               object \n",
            "dtypes: bool(3), float64(5), int64(2), object(14)\n",
            "memory usage: 394.8+ MB\n"
          ]
        }
      ],
      "source": [
        "df.info()"
      ]
    },
    {
      "cell_type": "code",
      "execution_count": 61,
      "metadata": {
        "id": "U0l0KuhiT6ZT",
        "colab": {
          "base_uri": "https://localhost:8080/"
        },
        "outputId": "4492bd02-6c6c-4199-b0a5-37d1e683ea30"
      },
      "outputs": [
        {
          "output_type": "execute_result",
          "data": {
            "text/plain": [
              "array([0. , 4.4, 5. , 4.5, 2. , 4.7, 4.9, 3.9, 3.7, 4.2, 3.4, 3.8, 4.6,\n",
              "       4.1, 2.5, 2.3, 2.1, 2.7, 4.3, 3.1, 4.8, 3.3, 4. , 2.4, 3.2, 3.6,\n",
              "       2.6, nan, 1.5, 3.5, 2.9, 1.3, 2.8, 3. , 2.2, 1.8, 1.4, 1.2, 1.9,\n",
              "       1.7, 1.6, 1. , 1.1])"
            ]
          },
          "metadata": {},
          "execution_count": 61
        }
      ],
      "source": [
        "df['Rating'].unique()"
      ]
    },
    {
      "cell_type": "code",
      "execution_count": 62,
      "metadata": {
        "id": "ZyMZ9goSUXdx",
        "colab": {
          "base_uri": "https://localhost:8080/"
        },
        "outputId": "dc5c7488-a40d-42d9-c5d7-627286366e41"
      },
      "outputs": [
        {
          "output_type": "execute_result",
          "data": {
            "text/plain": [
              "array([0.0000e+00, 6.4000e+01, 5.0000e+00, ..., 8.7553e+04, 7.5960e+04,\n",
              "       7.8351e+04])"
            ]
          },
          "metadata": {},
          "execution_count": 62
        }
      ],
      "source": [
        "df['Rating Count'].unique()"
      ]
    },
    {
      "cell_type": "markdown",
      "metadata": {
        "id": "hXoRl5y8VWEl"
      },
      "source": [
        "let's change the Rating Count to certain ranges for the better understanding the data"
      ]
    },
    {
      "cell_type": "code",
      "execution_count": 63,
      "metadata": {
        "id": "f2g7PSKHV_6p",
        "colab": {
          "base_uri": "https://localhost:8080/"
        },
        "outputId": "71774cf9-b671-4760-9271-cfaeee89d5b5"
      },
      "outputs": [
        {
          "output_type": "execute_result",
          "data": {
            "text/plain": [
              "138557570.0"
            ]
          },
          "metadata": {},
          "execution_count": 63
        }
      ],
      "source": [
        "df['Rating Count'].max()"
      ]
    },
    {
      "cell_type": "code",
      "execution_count": 64,
      "metadata": {
        "id": "bQ3BkWO4UjLP",
        "colab": {
          "base_uri": "https://localhost:8080/"
        },
        "outputId": "0aad1523-28b4-49f4-93ba-77230e42f3a1"
      },
      "outputs": [
        {
          "output_type": "execute_result",
          "data": {
            "text/plain": [
              "Less than 10K           1192801\n",
              "NoRatingProvided        1082303\n",
              "Between 10K and 500K      35779\n",
              "More than 500K             1665\n",
              "Name: Rating Type, dtype: int64"
            ]
          },
          "metadata": {},
          "execution_count": 64
        }
      ],
      "source": [
        "df['Rating Type'] = 'NoRatingProvided'\n",
        "df.loc[(df['Rating Count'] > 0) & (df['Rating Count'] <= 10000.0),'Rating Type'] = 'Less than 10K'\n",
        "df.loc[(df['Rating Count'] > 10000) & (df['Rating Count'] <= 500000.0),'Rating Type'] = 'Between 10K and 500K'\n",
        "df.loc[(df['Rating Count'] > 500000) & (df['Rating Count'] <= 138557570.0),'Rating Type'] = 'More than 500K'\n",
        "df['Rating Type'].value_counts()"
      ]
    },
    {
      "cell_type": "code",
      "source": [
        "df['Rating Type']"
      ],
      "metadata": {
        "colab": {
          "base_uri": "https://localhost:8080/"
        },
        "id": "wlMIJP6Xr-8c",
        "outputId": "199abfcc-006b-421c-ee49-306e27202a52"
      },
      "execution_count": 65,
      "outputs": [
        {
          "output_type": "execute_result",
          "data": {
            "text/plain": [
              "0              NoRatingProvided\n",
              "1                 Less than 10K\n",
              "2              NoRatingProvided\n",
              "3                 Less than 10K\n",
              "4              NoRatingProvided\n",
              "                   ...         \n",
              "2312939    Between 10K and 500K\n",
              "2312940        NoRatingProvided\n",
              "2312941        NoRatingProvided\n",
              "2312942           Less than 10K\n",
              "2312943           Less than 10K\n",
              "Name: Rating Type, Length: 2312548, dtype: object"
            ]
          },
          "metadata": {},
          "execution_count": 65
        }
      ]
    },
    {
      "cell_type": "code",
      "execution_count": 66,
      "metadata": {
        "id": "HDeoZ7cMWW4b",
        "colab": {
          "base_uri": "https://localhost:8080/"
        },
        "outputId": "4a5fedd2-9288-4d50-d5d0-30953b886b02"
      },
      "outputs": [
        {
          "output_type": "stream",
          "name": "stdout",
          "text": [
            "<class 'pandas.core.frame.DataFrame'>\n",
            "Int64Index: 2312548 entries, 0 to 2312943\n",
            "Data columns (total 25 columns):\n",
            " #   Column             Dtype  \n",
            "---  ------             -----  \n",
            " 0   App Name           object \n",
            " 1   App Id             object \n",
            " 2   Category           object \n",
            " 3   Rating             float64\n",
            " 4   Rating Count       float64\n",
            " 5   Installs           int64  \n",
            " 6   Minimum Installs   float64\n",
            " 7   Maximum Installs   int64  \n",
            " 8   Price              float64\n",
            " 9   Currency           object \n",
            " 10  Size               float64\n",
            " 11  Minimum Android    object \n",
            " 12  Developer Id       object \n",
            " 13  Developer Website  object \n",
            " 14  Developer Email    object \n",
            " 15  Released           object \n",
            " 16  Last Updated       object \n",
            " 17  Content Rating     object \n",
            " 18  Privacy Policy     object \n",
            " 19  Ad Supported       bool   \n",
            " 20  In App Purchases   bool   \n",
            " 21  Editors Choice     bool   \n",
            " 22  Scraped Time       object \n",
            " 23  Type               object \n",
            " 24  Rating Type        object \n",
            "dtypes: bool(3), float64(5), int64(2), object(15)\n",
            "memory usage: 412.4+ MB\n"
          ]
        }
      ],
      "source": [
        "df.info()"
      ]
    },
    {
      "cell_type": "markdown",
      "metadata": {
        "id": "c7tZVuBKZRZh"
      },
      "source": [
        "# Question and Aswers :              \n",
        "\n",
        "\n",
        "*  What are the top 10 Categories that are installed from the Google Play Store ?\n",
        "*  Which are the Categories that are getting installed the most in top 10 Categories?\n",
        "*  What is the higest rated Category ?\n",
        "\n",
        "*  Which Category has the highest Paid and Free apps ?\n",
        "*  How does the size of the Application impacts the Installation ?\n",
        "\n",
        "*  What are the Top 5 Paid Apps based With highest ratings and installs ?\n",
        "*  What are the Top 5 Free Apps based With highest      ratings and installs ?\n",
        "\n"
      ]
    },
    {
      "cell_type": "markdown",
      "metadata": {
        "id": "KIvGBRqsaHIE"
      },
      "source": [
        "## Q - What are the top 10 Categories that are installed from the Google Play Store ?"
      ]
    },
    {
      "cell_type": "code",
      "execution_count": 67,
      "metadata": {
        "id": "qRoA5P33ZRI2",
        "colab": {
          "base_uri": "https://localhost:8080/"
        },
        "outputId": "809a31ec-f269-4c77-9a89-1f9d19eae874"
      },
      "outputs": [
        {
          "output_type": "execute_result",
          "data": {
            "text/plain": [
              "array(['Adventure', 'Tools', 'Productivity', 'Communication', 'Social',\n",
              "       'Libraries & Demo', 'Lifestyle', 'Personalization', 'Racing',\n",
              "       'Maps & Navigation', 'Travel & Local', 'Food & Drink',\n",
              "       'Books & Reference', 'Medical', 'Puzzle', 'Entertainment',\n",
              "       'Arcade', 'Auto & Vehicles', 'Photography', 'Health & Fitness',\n",
              "       'Education', 'Shopping', 'Board', 'Music & Audio', 'Sports',\n",
              "       'Beauty', 'Business', 'Educational', 'Finance', 'News & Magazines',\n",
              "       'Casual', 'Art & Design', 'House & Home', 'Card', 'Events',\n",
              "       'Trivia', 'Weather', 'Strategy', 'Word', 'Video Players & Editors',\n",
              "       'Action', 'Simulation', 'Music', 'Dating', 'Role Playing',\n",
              "       'Casino', 'Comics', 'Parenting'], dtype=object)"
            ]
          },
          "metadata": {},
          "execution_count": 67
        }
      ],
      "source": [
        "df['Category'].unique()"
      ]
    },
    {
      "cell_type": "code",
      "execution_count": 68,
      "metadata": {
        "id": "EW2VwnEIZRGB"
      },
      "outputs": [],
      "source": [
        "top_Category = df.Category.value_counts().reset_index().rename(columns={'Category':'Count','index':'Category'})"
      ]
    },
    {
      "cell_type": "code",
      "execution_count": 69,
      "metadata": {
        "id": "Ia9Ce1jTZRDn",
        "colab": {
          "base_uri": "https://localhost:8080/",
          "height": 1000
        },
        "outputId": "c43879bc-ebd4-430a-f525-1592d140a38b"
      },
      "outputs": [
        {
          "output_type": "execute_result",
          "data": {
            "text/plain": [
              "                   Category   Count\n",
              "0                 Education  241068\n",
              "1             Music & Audio  154897\n",
              "2                     Tools  143971\n",
              "3                  Business  143749\n",
              "4             Entertainment  138261\n",
              "5                 Lifestyle  118321\n",
              "6         Books & Reference  116716\n",
              "7           Personalization   89207\n",
              "8          Health & Fitness   83497\n",
              "9              Productivity   79681\n",
              "10                 Shopping   75240\n",
              "11             Food & Drink   73918\n",
              "12           Travel & Local   67279\n",
              "13                  Finance   65450\n",
              "14                   Arcade   53779\n",
              "15                   Puzzle   51151\n",
              "16                   Casual   50790\n",
              "17            Communication   48157\n",
              "18                   Sports   47473\n",
              "19                   Social   44724\n",
              "20         News & Magazines   42799\n",
              "21              Photography   35552\n",
              "22                  Medical   32063\n",
              "23                   Action   27539\n",
              "24        Maps & Navigation   26721\n",
              "25               Simulation   23268\n",
              "26                Adventure   23193\n",
              "27              Educational   21302\n",
              "28             Art & Design   18536\n",
              "29          Auto & Vehicles   18276\n",
              "30             House & Home   14368\n",
              "31  Video Players & Editors   14014\n",
              "32                   Events   12839\n",
              "33                   Trivia   11793\n",
              "34                   Beauty   11771\n",
              "35                    Board   10587\n",
              "36                   Racing   10360\n",
              "37             Role Playing   10008\n",
              "38                     Word    8627\n",
              "39                 Strategy    8517\n",
              "40                     Card    8175\n",
              "41                  Weather    7244\n",
              "42                   Dating    6522\n",
              "43         Libraries & Demo    5196\n",
              "44                   Casino    5076\n",
              "45                    Music    4201\n",
              "46                Parenting    3810\n",
              "47                   Comics    2862"
            ],
            "text/html": [
              "\n",
              "  <div id=\"df-f2c63323-ac28-47ac-8d0b-a7e3882f8ede\">\n",
              "    <div class=\"colab-df-container\">\n",
              "      <div>\n",
              "<style scoped>\n",
              "    .dataframe tbody tr th:only-of-type {\n",
              "        vertical-align: middle;\n",
              "    }\n",
              "\n",
              "    .dataframe tbody tr th {\n",
              "        vertical-align: top;\n",
              "    }\n",
              "\n",
              "    .dataframe thead th {\n",
              "        text-align: right;\n",
              "    }\n",
              "</style>\n",
              "<table border=\"1\" class=\"dataframe\">\n",
              "  <thead>\n",
              "    <tr style=\"text-align: right;\">\n",
              "      <th></th>\n",
              "      <th>Category</th>\n",
              "      <th>Count</th>\n",
              "    </tr>\n",
              "  </thead>\n",
              "  <tbody>\n",
              "    <tr>\n",
              "      <th>0</th>\n",
              "      <td>Education</td>\n",
              "      <td>241068</td>\n",
              "    </tr>\n",
              "    <tr>\n",
              "      <th>1</th>\n",
              "      <td>Music &amp; Audio</td>\n",
              "      <td>154897</td>\n",
              "    </tr>\n",
              "    <tr>\n",
              "      <th>2</th>\n",
              "      <td>Tools</td>\n",
              "      <td>143971</td>\n",
              "    </tr>\n",
              "    <tr>\n",
              "      <th>3</th>\n",
              "      <td>Business</td>\n",
              "      <td>143749</td>\n",
              "    </tr>\n",
              "    <tr>\n",
              "      <th>4</th>\n",
              "      <td>Entertainment</td>\n",
              "      <td>138261</td>\n",
              "    </tr>\n",
              "    <tr>\n",
              "      <th>5</th>\n",
              "      <td>Lifestyle</td>\n",
              "      <td>118321</td>\n",
              "    </tr>\n",
              "    <tr>\n",
              "      <th>6</th>\n",
              "      <td>Books &amp; Reference</td>\n",
              "      <td>116716</td>\n",
              "    </tr>\n",
              "    <tr>\n",
              "      <th>7</th>\n",
              "      <td>Personalization</td>\n",
              "      <td>89207</td>\n",
              "    </tr>\n",
              "    <tr>\n",
              "      <th>8</th>\n",
              "      <td>Health &amp; Fitness</td>\n",
              "      <td>83497</td>\n",
              "    </tr>\n",
              "    <tr>\n",
              "      <th>9</th>\n",
              "      <td>Productivity</td>\n",
              "      <td>79681</td>\n",
              "    </tr>\n",
              "    <tr>\n",
              "      <th>10</th>\n",
              "      <td>Shopping</td>\n",
              "      <td>75240</td>\n",
              "    </tr>\n",
              "    <tr>\n",
              "      <th>11</th>\n",
              "      <td>Food &amp; Drink</td>\n",
              "      <td>73918</td>\n",
              "    </tr>\n",
              "    <tr>\n",
              "      <th>12</th>\n",
              "      <td>Travel &amp; Local</td>\n",
              "      <td>67279</td>\n",
              "    </tr>\n",
              "    <tr>\n",
              "      <th>13</th>\n",
              "      <td>Finance</td>\n",
              "      <td>65450</td>\n",
              "    </tr>\n",
              "    <tr>\n",
              "      <th>14</th>\n",
              "      <td>Arcade</td>\n",
              "      <td>53779</td>\n",
              "    </tr>\n",
              "    <tr>\n",
              "      <th>15</th>\n",
              "      <td>Puzzle</td>\n",
              "      <td>51151</td>\n",
              "    </tr>\n",
              "    <tr>\n",
              "      <th>16</th>\n",
              "      <td>Casual</td>\n",
              "      <td>50790</td>\n",
              "    </tr>\n",
              "    <tr>\n",
              "      <th>17</th>\n",
              "      <td>Communication</td>\n",
              "      <td>48157</td>\n",
              "    </tr>\n",
              "    <tr>\n",
              "      <th>18</th>\n",
              "      <td>Sports</td>\n",
              "      <td>47473</td>\n",
              "    </tr>\n",
              "    <tr>\n",
              "      <th>19</th>\n",
              "      <td>Social</td>\n",
              "      <td>44724</td>\n",
              "    </tr>\n",
              "    <tr>\n",
              "      <th>20</th>\n",
              "      <td>News &amp; Magazines</td>\n",
              "      <td>42799</td>\n",
              "    </tr>\n",
              "    <tr>\n",
              "      <th>21</th>\n",
              "      <td>Photography</td>\n",
              "      <td>35552</td>\n",
              "    </tr>\n",
              "    <tr>\n",
              "      <th>22</th>\n",
              "      <td>Medical</td>\n",
              "      <td>32063</td>\n",
              "    </tr>\n",
              "    <tr>\n",
              "      <th>23</th>\n",
              "      <td>Action</td>\n",
              "      <td>27539</td>\n",
              "    </tr>\n",
              "    <tr>\n",
              "      <th>24</th>\n",
              "      <td>Maps &amp; Navigation</td>\n",
              "      <td>26721</td>\n",
              "    </tr>\n",
              "    <tr>\n",
              "      <th>25</th>\n",
              "      <td>Simulation</td>\n",
              "      <td>23268</td>\n",
              "    </tr>\n",
              "    <tr>\n",
              "      <th>26</th>\n",
              "      <td>Adventure</td>\n",
              "      <td>23193</td>\n",
              "    </tr>\n",
              "    <tr>\n",
              "      <th>27</th>\n",
              "      <td>Educational</td>\n",
              "      <td>21302</td>\n",
              "    </tr>\n",
              "    <tr>\n",
              "      <th>28</th>\n",
              "      <td>Art &amp; Design</td>\n",
              "      <td>18536</td>\n",
              "    </tr>\n",
              "    <tr>\n",
              "      <th>29</th>\n",
              "      <td>Auto &amp; Vehicles</td>\n",
              "      <td>18276</td>\n",
              "    </tr>\n",
              "    <tr>\n",
              "      <th>30</th>\n",
              "      <td>House &amp; Home</td>\n",
              "      <td>14368</td>\n",
              "    </tr>\n",
              "    <tr>\n",
              "      <th>31</th>\n",
              "      <td>Video Players &amp; Editors</td>\n",
              "      <td>14014</td>\n",
              "    </tr>\n",
              "    <tr>\n",
              "      <th>32</th>\n",
              "      <td>Events</td>\n",
              "      <td>12839</td>\n",
              "    </tr>\n",
              "    <tr>\n",
              "      <th>33</th>\n",
              "      <td>Trivia</td>\n",
              "      <td>11793</td>\n",
              "    </tr>\n",
              "    <tr>\n",
              "      <th>34</th>\n",
              "      <td>Beauty</td>\n",
              "      <td>11771</td>\n",
              "    </tr>\n",
              "    <tr>\n",
              "      <th>35</th>\n",
              "      <td>Board</td>\n",
              "      <td>10587</td>\n",
              "    </tr>\n",
              "    <tr>\n",
              "      <th>36</th>\n",
              "      <td>Racing</td>\n",
              "      <td>10360</td>\n",
              "    </tr>\n",
              "    <tr>\n",
              "      <th>37</th>\n",
              "      <td>Role Playing</td>\n",
              "      <td>10008</td>\n",
              "    </tr>\n",
              "    <tr>\n",
              "      <th>38</th>\n",
              "      <td>Word</td>\n",
              "      <td>8627</td>\n",
              "    </tr>\n",
              "    <tr>\n",
              "      <th>39</th>\n",
              "      <td>Strategy</td>\n",
              "      <td>8517</td>\n",
              "    </tr>\n",
              "    <tr>\n",
              "      <th>40</th>\n",
              "      <td>Card</td>\n",
              "      <td>8175</td>\n",
              "    </tr>\n",
              "    <tr>\n",
              "      <th>41</th>\n",
              "      <td>Weather</td>\n",
              "      <td>7244</td>\n",
              "    </tr>\n",
              "    <tr>\n",
              "      <th>42</th>\n",
              "      <td>Dating</td>\n",
              "      <td>6522</td>\n",
              "    </tr>\n",
              "    <tr>\n",
              "      <th>43</th>\n",
              "      <td>Libraries &amp; Demo</td>\n",
              "      <td>5196</td>\n",
              "    </tr>\n",
              "    <tr>\n",
              "      <th>44</th>\n",
              "      <td>Casino</td>\n",
              "      <td>5076</td>\n",
              "    </tr>\n",
              "    <tr>\n",
              "      <th>45</th>\n",
              "      <td>Music</td>\n",
              "      <td>4201</td>\n",
              "    </tr>\n",
              "    <tr>\n",
              "      <th>46</th>\n",
              "      <td>Parenting</td>\n",
              "      <td>3810</td>\n",
              "    </tr>\n",
              "    <tr>\n",
              "      <th>47</th>\n",
              "      <td>Comics</td>\n",
              "      <td>2862</td>\n",
              "    </tr>\n",
              "  </tbody>\n",
              "</table>\n",
              "</div>\n",
              "      <button class=\"colab-df-convert\" onclick=\"convertToInteractive('df-f2c63323-ac28-47ac-8d0b-a7e3882f8ede')\"\n",
              "              title=\"Convert this dataframe to an interactive table.\"\n",
              "              style=\"display:none;\">\n",
              "        \n",
              "  <svg xmlns=\"http://www.w3.org/2000/svg\" height=\"24px\"viewBox=\"0 0 24 24\"\n",
              "       width=\"24px\">\n",
              "    <path d=\"M0 0h24v24H0V0z\" fill=\"none\"/>\n",
              "    <path d=\"M18.56 5.44l.94 2.06.94-2.06 2.06-.94-2.06-.94-.94-2.06-.94 2.06-2.06.94zm-11 1L8.5 8.5l.94-2.06 2.06-.94-2.06-.94L8.5 2.5l-.94 2.06-2.06.94zm10 10l.94 2.06.94-2.06 2.06-.94-2.06-.94-.94-2.06-.94 2.06-2.06.94z\"/><path d=\"M17.41 7.96l-1.37-1.37c-.4-.4-.92-.59-1.43-.59-.52 0-1.04.2-1.43.59L10.3 9.45l-7.72 7.72c-.78.78-.78 2.05 0 2.83L4 21.41c.39.39.9.59 1.41.59.51 0 1.02-.2 1.41-.59l7.78-7.78 2.81-2.81c.8-.78.8-2.07 0-2.86zM5.41 20L4 18.59l7.72-7.72 1.47 1.35L5.41 20z\"/>\n",
              "  </svg>\n",
              "      </button>\n",
              "      \n",
              "  <style>\n",
              "    .colab-df-container {\n",
              "      display:flex;\n",
              "      flex-wrap:wrap;\n",
              "      gap: 12px;\n",
              "    }\n",
              "\n",
              "    .colab-df-convert {\n",
              "      background-color: #E8F0FE;\n",
              "      border: none;\n",
              "      border-radius: 50%;\n",
              "      cursor: pointer;\n",
              "      display: none;\n",
              "      fill: #1967D2;\n",
              "      height: 32px;\n",
              "      padding: 0 0 0 0;\n",
              "      width: 32px;\n",
              "    }\n",
              "\n",
              "    .colab-df-convert:hover {\n",
              "      background-color: #E2EBFA;\n",
              "      box-shadow: 0px 1px 2px rgba(60, 64, 67, 0.3), 0px 1px 3px 1px rgba(60, 64, 67, 0.15);\n",
              "      fill: #174EA6;\n",
              "    }\n",
              "\n",
              "    [theme=dark] .colab-df-convert {\n",
              "      background-color: #3B4455;\n",
              "      fill: #D2E3FC;\n",
              "    }\n",
              "\n",
              "    [theme=dark] .colab-df-convert:hover {\n",
              "      background-color: #434B5C;\n",
              "      box-shadow: 0px 1px 3px 1px rgba(0, 0, 0, 0.15);\n",
              "      filter: drop-shadow(0px 1px 2px rgba(0, 0, 0, 0.3));\n",
              "      fill: #FFFFFF;\n",
              "    }\n",
              "  </style>\n",
              "\n",
              "      <script>\n",
              "        const buttonEl =\n",
              "          document.querySelector('#df-f2c63323-ac28-47ac-8d0b-a7e3882f8ede button.colab-df-convert');\n",
              "        buttonEl.style.display =\n",
              "          google.colab.kernel.accessAllowed ? 'block' : 'none';\n",
              "\n",
              "        async function convertToInteractive(key) {\n",
              "          const element = document.querySelector('#df-f2c63323-ac28-47ac-8d0b-a7e3882f8ede');\n",
              "          const dataTable =\n",
              "            await google.colab.kernel.invokeFunction('convertToInteractive',\n",
              "                                                     [key], {});\n",
              "          if (!dataTable) return;\n",
              "\n",
              "          const docLinkHtml = 'Like what you see? Visit the ' +\n",
              "            '<a target=\"_blank\" href=https://colab.research.google.com/notebooks/data_table.ipynb>data table notebook</a>'\n",
              "            + ' to learn more about interactive tables.';\n",
              "          element.innerHTML = '';\n",
              "          dataTable['output_type'] = 'display_data';\n",
              "          await google.colab.output.renderOutput(dataTable, element);\n",
              "          const docLink = document.createElement('div');\n",
              "          docLink.innerHTML = docLinkHtml;\n",
              "          element.appendChild(docLink);\n",
              "        }\n",
              "      </script>\n",
              "    </div>\n",
              "  </div>\n",
              "  "
            ]
          },
          "metadata": {},
          "execution_count": 69
        }
      ],
      "source": [
        "top_Category"
      ]
    },
    {
      "cell_type": "code",
      "execution_count": 70,
      "metadata": {
        "id": "LfPK4kvfZRBk"
      },
      "outputs": [],
      "source": [
        "Category_installs = df.groupby(['Category'])[['Installs']].sum()"
      ]
    },
    {
      "cell_type": "code",
      "execution_count": 71,
      "metadata": {
        "id": "scpi8Vpbfzc5",
        "colab": {
          "base_uri": "https://localhost:8080/",
          "height": 1000
        },
        "outputId": "39a818e4-183d-4b6f-eabb-986a8e933e50"
      },
      "outputs": [
        {
          "output_type": "execute_result",
          "data": {
            "text/plain": [
              "                            Installs\n",
              "Category                            \n",
              "Action                   17399855328\n",
              "Adventure                 5390108856\n",
              "Arcade                   14501230855\n",
              "Art & Design              1116398902\n",
              "Auto & Vehicles           1594745418\n",
              "Beauty                     404328787\n",
              "Board                     3290826164\n",
              "Books & Reference         4819175179\n",
              "Business                  5236661902\n",
              "Card                      1989318718\n",
              "Casino                    1249613989\n",
              "Casual                   16836783725\n",
              "Comics                     397602344\n",
              "Communication            43216592414\n",
              "Dating                     643267317\n",
              "Education                 5983815847\n",
              "Educational               4730801093\n",
              "Entertainment            17108397933\n",
              "Events                      73016139\n",
              "Finance                   6158477105\n",
              "Food & Drink              1623441588\n",
              "Health & Fitness          4586600201\n",
              "House & Home               463801748\n",
              "Libraries & Demo           289118035\n",
              "Lifestyle                 5997921096\n",
              "Maps & Navigation         2683038830\n",
              "Medical                    657119650\n",
              "Music                     1630600862\n",
              "Music & Audio            14239401798\n",
              "News & Magazines          4548786357\n",
              "Parenting                  244133966\n",
              "Personalization           9252971243\n",
              "Photography              18998958963\n",
              "Productivity             28313922253\n",
              "Puzzle                   10796411002\n",
              "Racing                    9208081547\n",
              "Role Playing              4765977334\n",
              "Shopping                  7108586169\n",
              "Simulation               11689990564\n",
              "Social                   17165994565\n",
              "Sports                    7954121388\n",
              "Strategy                  4156174163\n",
              "Tools                    71440271217\n",
              "Travel & Local            9726222850\n",
              "Trivia                    1188962483\n",
              "Video Players & Editors  18591154109\n",
              "Weather                   2773800062\n",
              "Word                      2029143957"
            ],
            "text/html": [
              "\n",
              "  <div id=\"df-0b126b0d-ade7-4b5a-9f0d-ea0c498c56bc\">\n",
              "    <div class=\"colab-df-container\">\n",
              "      <div>\n",
              "<style scoped>\n",
              "    .dataframe tbody tr th:only-of-type {\n",
              "        vertical-align: middle;\n",
              "    }\n",
              "\n",
              "    .dataframe tbody tr th {\n",
              "        vertical-align: top;\n",
              "    }\n",
              "\n",
              "    .dataframe thead th {\n",
              "        text-align: right;\n",
              "    }\n",
              "</style>\n",
              "<table border=\"1\" class=\"dataframe\">\n",
              "  <thead>\n",
              "    <tr style=\"text-align: right;\">\n",
              "      <th></th>\n",
              "      <th>Installs</th>\n",
              "    </tr>\n",
              "    <tr>\n",
              "      <th>Category</th>\n",
              "      <th></th>\n",
              "    </tr>\n",
              "  </thead>\n",
              "  <tbody>\n",
              "    <tr>\n",
              "      <th>Action</th>\n",
              "      <td>17399855328</td>\n",
              "    </tr>\n",
              "    <tr>\n",
              "      <th>Adventure</th>\n",
              "      <td>5390108856</td>\n",
              "    </tr>\n",
              "    <tr>\n",
              "      <th>Arcade</th>\n",
              "      <td>14501230855</td>\n",
              "    </tr>\n",
              "    <tr>\n",
              "      <th>Art &amp; Design</th>\n",
              "      <td>1116398902</td>\n",
              "    </tr>\n",
              "    <tr>\n",
              "      <th>Auto &amp; Vehicles</th>\n",
              "      <td>1594745418</td>\n",
              "    </tr>\n",
              "    <tr>\n",
              "      <th>Beauty</th>\n",
              "      <td>404328787</td>\n",
              "    </tr>\n",
              "    <tr>\n",
              "      <th>Board</th>\n",
              "      <td>3290826164</td>\n",
              "    </tr>\n",
              "    <tr>\n",
              "      <th>Books &amp; Reference</th>\n",
              "      <td>4819175179</td>\n",
              "    </tr>\n",
              "    <tr>\n",
              "      <th>Business</th>\n",
              "      <td>5236661902</td>\n",
              "    </tr>\n",
              "    <tr>\n",
              "      <th>Card</th>\n",
              "      <td>1989318718</td>\n",
              "    </tr>\n",
              "    <tr>\n",
              "      <th>Casino</th>\n",
              "      <td>1249613989</td>\n",
              "    </tr>\n",
              "    <tr>\n",
              "      <th>Casual</th>\n",
              "      <td>16836783725</td>\n",
              "    </tr>\n",
              "    <tr>\n",
              "      <th>Comics</th>\n",
              "      <td>397602344</td>\n",
              "    </tr>\n",
              "    <tr>\n",
              "      <th>Communication</th>\n",
              "      <td>43216592414</td>\n",
              "    </tr>\n",
              "    <tr>\n",
              "      <th>Dating</th>\n",
              "      <td>643267317</td>\n",
              "    </tr>\n",
              "    <tr>\n",
              "      <th>Education</th>\n",
              "      <td>5983815847</td>\n",
              "    </tr>\n",
              "    <tr>\n",
              "      <th>Educational</th>\n",
              "      <td>4730801093</td>\n",
              "    </tr>\n",
              "    <tr>\n",
              "      <th>Entertainment</th>\n",
              "      <td>17108397933</td>\n",
              "    </tr>\n",
              "    <tr>\n",
              "      <th>Events</th>\n",
              "      <td>73016139</td>\n",
              "    </tr>\n",
              "    <tr>\n",
              "      <th>Finance</th>\n",
              "      <td>6158477105</td>\n",
              "    </tr>\n",
              "    <tr>\n",
              "      <th>Food &amp; Drink</th>\n",
              "      <td>1623441588</td>\n",
              "    </tr>\n",
              "    <tr>\n",
              "      <th>Health &amp; Fitness</th>\n",
              "      <td>4586600201</td>\n",
              "    </tr>\n",
              "    <tr>\n",
              "      <th>House &amp; Home</th>\n",
              "      <td>463801748</td>\n",
              "    </tr>\n",
              "    <tr>\n",
              "      <th>Libraries &amp; Demo</th>\n",
              "      <td>289118035</td>\n",
              "    </tr>\n",
              "    <tr>\n",
              "      <th>Lifestyle</th>\n",
              "      <td>5997921096</td>\n",
              "    </tr>\n",
              "    <tr>\n",
              "      <th>Maps &amp; Navigation</th>\n",
              "      <td>2683038830</td>\n",
              "    </tr>\n",
              "    <tr>\n",
              "      <th>Medical</th>\n",
              "      <td>657119650</td>\n",
              "    </tr>\n",
              "    <tr>\n",
              "      <th>Music</th>\n",
              "      <td>1630600862</td>\n",
              "    </tr>\n",
              "    <tr>\n",
              "      <th>Music &amp; Audio</th>\n",
              "      <td>14239401798</td>\n",
              "    </tr>\n",
              "    <tr>\n",
              "      <th>News &amp; Magazines</th>\n",
              "      <td>4548786357</td>\n",
              "    </tr>\n",
              "    <tr>\n",
              "      <th>Parenting</th>\n",
              "      <td>244133966</td>\n",
              "    </tr>\n",
              "    <tr>\n",
              "      <th>Personalization</th>\n",
              "      <td>9252971243</td>\n",
              "    </tr>\n",
              "    <tr>\n",
              "      <th>Photography</th>\n",
              "      <td>18998958963</td>\n",
              "    </tr>\n",
              "    <tr>\n",
              "      <th>Productivity</th>\n",
              "      <td>28313922253</td>\n",
              "    </tr>\n",
              "    <tr>\n",
              "      <th>Puzzle</th>\n",
              "      <td>10796411002</td>\n",
              "    </tr>\n",
              "    <tr>\n",
              "      <th>Racing</th>\n",
              "      <td>9208081547</td>\n",
              "    </tr>\n",
              "    <tr>\n",
              "      <th>Role Playing</th>\n",
              "      <td>4765977334</td>\n",
              "    </tr>\n",
              "    <tr>\n",
              "      <th>Shopping</th>\n",
              "      <td>7108586169</td>\n",
              "    </tr>\n",
              "    <tr>\n",
              "      <th>Simulation</th>\n",
              "      <td>11689990564</td>\n",
              "    </tr>\n",
              "    <tr>\n",
              "      <th>Social</th>\n",
              "      <td>17165994565</td>\n",
              "    </tr>\n",
              "    <tr>\n",
              "      <th>Sports</th>\n",
              "      <td>7954121388</td>\n",
              "    </tr>\n",
              "    <tr>\n",
              "      <th>Strategy</th>\n",
              "      <td>4156174163</td>\n",
              "    </tr>\n",
              "    <tr>\n",
              "      <th>Tools</th>\n",
              "      <td>71440271217</td>\n",
              "    </tr>\n",
              "    <tr>\n",
              "      <th>Travel &amp; Local</th>\n",
              "      <td>9726222850</td>\n",
              "    </tr>\n",
              "    <tr>\n",
              "      <th>Trivia</th>\n",
              "      <td>1188962483</td>\n",
              "    </tr>\n",
              "    <tr>\n",
              "      <th>Video Players &amp; Editors</th>\n",
              "      <td>18591154109</td>\n",
              "    </tr>\n",
              "    <tr>\n",
              "      <th>Weather</th>\n",
              "      <td>2773800062</td>\n",
              "    </tr>\n",
              "    <tr>\n",
              "      <th>Word</th>\n",
              "      <td>2029143957</td>\n",
              "    </tr>\n",
              "  </tbody>\n",
              "</table>\n",
              "</div>\n",
              "      <button class=\"colab-df-convert\" onclick=\"convertToInteractive('df-0b126b0d-ade7-4b5a-9f0d-ea0c498c56bc')\"\n",
              "              title=\"Convert this dataframe to an interactive table.\"\n",
              "              style=\"display:none;\">\n",
              "        \n",
              "  <svg xmlns=\"http://www.w3.org/2000/svg\" height=\"24px\"viewBox=\"0 0 24 24\"\n",
              "       width=\"24px\">\n",
              "    <path d=\"M0 0h24v24H0V0z\" fill=\"none\"/>\n",
              "    <path d=\"M18.56 5.44l.94 2.06.94-2.06 2.06-.94-2.06-.94-.94-2.06-.94 2.06-2.06.94zm-11 1L8.5 8.5l.94-2.06 2.06-.94-2.06-.94L8.5 2.5l-.94 2.06-2.06.94zm10 10l.94 2.06.94-2.06 2.06-.94-2.06-.94-.94-2.06-.94 2.06-2.06.94z\"/><path d=\"M17.41 7.96l-1.37-1.37c-.4-.4-.92-.59-1.43-.59-.52 0-1.04.2-1.43.59L10.3 9.45l-7.72 7.72c-.78.78-.78 2.05 0 2.83L4 21.41c.39.39.9.59 1.41.59.51 0 1.02-.2 1.41-.59l7.78-7.78 2.81-2.81c.8-.78.8-2.07 0-2.86zM5.41 20L4 18.59l7.72-7.72 1.47 1.35L5.41 20z\"/>\n",
              "  </svg>\n",
              "      </button>\n",
              "      \n",
              "  <style>\n",
              "    .colab-df-container {\n",
              "      display:flex;\n",
              "      flex-wrap:wrap;\n",
              "      gap: 12px;\n",
              "    }\n",
              "\n",
              "    .colab-df-convert {\n",
              "      background-color: #E8F0FE;\n",
              "      border: none;\n",
              "      border-radius: 50%;\n",
              "      cursor: pointer;\n",
              "      display: none;\n",
              "      fill: #1967D2;\n",
              "      height: 32px;\n",
              "      padding: 0 0 0 0;\n",
              "      width: 32px;\n",
              "    }\n",
              "\n",
              "    .colab-df-convert:hover {\n",
              "      background-color: #E2EBFA;\n",
              "      box-shadow: 0px 1px 2px rgba(60, 64, 67, 0.3), 0px 1px 3px 1px rgba(60, 64, 67, 0.15);\n",
              "      fill: #174EA6;\n",
              "    }\n",
              "\n",
              "    [theme=dark] .colab-df-convert {\n",
              "      background-color: #3B4455;\n",
              "      fill: #D2E3FC;\n",
              "    }\n",
              "\n",
              "    [theme=dark] .colab-df-convert:hover {\n",
              "      background-color: #434B5C;\n",
              "      box-shadow: 0px 1px 3px 1px rgba(0, 0, 0, 0.15);\n",
              "      filter: drop-shadow(0px 1px 2px rgba(0, 0, 0, 0.3));\n",
              "      fill: #FFFFFF;\n",
              "    }\n",
              "  </style>\n",
              "\n",
              "      <script>\n",
              "        const buttonEl =\n",
              "          document.querySelector('#df-0b126b0d-ade7-4b5a-9f0d-ea0c498c56bc button.colab-df-convert');\n",
              "        buttonEl.style.display =\n",
              "          google.colab.kernel.accessAllowed ? 'block' : 'none';\n",
              "\n",
              "        async function convertToInteractive(key) {\n",
              "          const element = document.querySelector('#df-0b126b0d-ade7-4b5a-9f0d-ea0c498c56bc');\n",
              "          const dataTable =\n",
              "            await google.colab.kernel.invokeFunction('convertToInteractive',\n",
              "                                                     [key], {});\n",
              "          if (!dataTable) return;\n",
              "\n",
              "          const docLinkHtml = 'Like what you see? Visit the ' +\n",
              "            '<a target=\"_blank\" href=https://colab.research.google.com/notebooks/data_table.ipynb>data table notebook</a>'\n",
              "            + ' to learn more about interactive tables.';\n",
              "          element.innerHTML = '';\n",
              "          dataTable['output_type'] = 'display_data';\n",
              "          await google.colab.output.renderOutput(dataTable, element);\n",
              "          const docLink = document.createElement('div');\n",
              "          docLink.innerHTML = docLinkHtml;\n",
              "          element.appendChild(docLink);\n",
              "        }\n",
              "      </script>\n",
              "    </div>\n",
              "  </div>\n",
              "  "
            ]
          },
          "metadata": {},
          "execution_count": 71
        }
      ],
      "source": [
        "Category_installs"
      ]
    },
    {
      "cell_type": "code",
      "execution_count": 72,
      "metadata": {
        "id": "kpbM5UnFZQ9i",
        "colab": {
          "base_uri": "https://localhost:8080/",
          "height": 206
        },
        "outputId": "cd14cc4d-9d81-47a6-f800-6fb775cc2aa3"
      },
      "outputs": [
        {
          "output_type": "execute_result",
          "data": {
            "text/plain": [
              "        Category   Count     Installs\n",
              "0      Education  241068   5983815847\n",
              "1  Music & Audio  154897  14239401798\n",
              "2          Tools  143971  71440271217\n",
              "3       Business  143749   5236661902\n",
              "4  Entertainment  138261  17108397933"
            ],
            "text/html": [
              "\n",
              "  <div id=\"df-67b78675-39fe-40c8-b5e2-f22a7e3822bc\">\n",
              "    <div class=\"colab-df-container\">\n",
              "      <div>\n",
              "<style scoped>\n",
              "    .dataframe tbody tr th:only-of-type {\n",
              "        vertical-align: middle;\n",
              "    }\n",
              "\n",
              "    .dataframe tbody tr th {\n",
              "        vertical-align: top;\n",
              "    }\n",
              "\n",
              "    .dataframe thead th {\n",
              "        text-align: right;\n",
              "    }\n",
              "</style>\n",
              "<table border=\"1\" class=\"dataframe\">\n",
              "  <thead>\n",
              "    <tr style=\"text-align: right;\">\n",
              "      <th></th>\n",
              "      <th>Category</th>\n",
              "      <th>Count</th>\n",
              "      <th>Installs</th>\n",
              "    </tr>\n",
              "  </thead>\n",
              "  <tbody>\n",
              "    <tr>\n",
              "      <th>0</th>\n",
              "      <td>Education</td>\n",
              "      <td>241068</td>\n",
              "      <td>5983815847</td>\n",
              "    </tr>\n",
              "    <tr>\n",
              "      <th>1</th>\n",
              "      <td>Music &amp; Audio</td>\n",
              "      <td>154897</td>\n",
              "      <td>14239401798</td>\n",
              "    </tr>\n",
              "    <tr>\n",
              "      <th>2</th>\n",
              "      <td>Tools</td>\n",
              "      <td>143971</td>\n",
              "      <td>71440271217</td>\n",
              "    </tr>\n",
              "    <tr>\n",
              "      <th>3</th>\n",
              "      <td>Business</td>\n",
              "      <td>143749</td>\n",
              "      <td>5236661902</td>\n",
              "    </tr>\n",
              "    <tr>\n",
              "      <th>4</th>\n",
              "      <td>Entertainment</td>\n",
              "      <td>138261</td>\n",
              "      <td>17108397933</td>\n",
              "    </tr>\n",
              "  </tbody>\n",
              "</table>\n",
              "</div>\n",
              "      <button class=\"colab-df-convert\" onclick=\"convertToInteractive('df-67b78675-39fe-40c8-b5e2-f22a7e3822bc')\"\n",
              "              title=\"Convert this dataframe to an interactive table.\"\n",
              "              style=\"display:none;\">\n",
              "        \n",
              "  <svg xmlns=\"http://www.w3.org/2000/svg\" height=\"24px\"viewBox=\"0 0 24 24\"\n",
              "       width=\"24px\">\n",
              "    <path d=\"M0 0h24v24H0V0z\" fill=\"none\"/>\n",
              "    <path d=\"M18.56 5.44l.94 2.06.94-2.06 2.06-.94-2.06-.94-.94-2.06-.94 2.06-2.06.94zm-11 1L8.5 8.5l.94-2.06 2.06-.94-2.06-.94L8.5 2.5l-.94 2.06-2.06.94zm10 10l.94 2.06.94-2.06 2.06-.94-2.06-.94-.94-2.06-.94 2.06-2.06.94z\"/><path d=\"M17.41 7.96l-1.37-1.37c-.4-.4-.92-.59-1.43-.59-.52 0-1.04.2-1.43.59L10.3 9.45l-7.72 7.72c-.78.78-.78 2.05 0 2.83L4 21.41c.39.39.9.59 1.41.59.51 0 1.02-.2 1.41-.59l7.78-7.78 2.81-2.81c.8-.78.8-2.07 0-2.86zM5.41 20L4 18.59l7.72-7.72 1.47 1.35L5.41 20z\"/>\n",
              "  </svg>\n",
              "      </button>\n",
              "      \n",
              "  <style>\n",
              "    .colab-df-container {\n",
              "      display:flex;\n",
              "      flex-wrap:wrap;\n",
              "      gap: 12px;\n",
              "    }\n",
              "\n",
              "    .colab-df-convert {\n",
              "      background-color: #E8F0FE;\n",
              "      border: none;\n",
              "      border-radius: 50%;\n",
              "      cursor: pointer;\n",
              "      display: none;\n",
              "      fill: #1967D2;\n",
              "      height: 32px;\n",
              "      padding: 0 0 0 0;\n",
              "      width: 32px;\n",
              "    }\n",
              "\n",
              "    .colab-df-convert:hover {\n",
              "      background-color: #E2EBFA;\n",
              "      box-shadow: 0px 1px 2px rgba(60, 64, 67, 0.3), 0px 1px 3px 1px rgba(60, 64, 67, 0.15);\n",
              "      fill: #174EA6;\n",
              "    }\n",
              "\n",
              "    [theme=dark] .colab-df-convert {\n",
              "      background-color: #3B4455;\n",
              "      fill: #D2E3FC;\n",
              "    }\n",
              "\n",
              "    [theme=dark] .colab-df-convert:hover {\n",
              "      background-color: #434B5C;\n",
              "      box-shadow: 0px 1px 3px 1px rgba(0, 0, 0, 0.15);\n",
              "      filter: drop-shadow(0px 1px 2px rgba(0, 0, 0, 0.3));\n",
              "      fill: #FFFFFF;\n",
              "    }\n",
              "  </style>\n",
              "\n",
              "      <script>\n",
              "        const buttonEl =\n",
              "          document.querySelector('#df-67b78675-39fe-40c8-b5e2-f22a7e3822bc button.colab-df-convert');\n",
              "        buttonEl.style.display =\n",
              "          google.colab.kernel.accessAllowed ? 'block' : 'none';\n",
              "\n",
              "        async function convertToInteractive(key) {\n",
              "          const element = document.querySelector('#df-67b78675-39fe-40c8-b5e2-f22a7e3822bc');\n",
              "          const dataTable =\n",
              "            await google.colab.kernel.invokeFunction('convertToInteractive',\n",
              "                                                     [key], {});\n",
              "          if (!dataTable) return;\n",
              "\n",
              "          const docLinkHtml = 'Like what you see? Visit the ' +\n",
              "            '<a target=\"_blank\" href=https://colab.research.google.com/notebooks/data_table.ipynb>data table notebook</a>'\n",
              "            + ' to learn more about interactive tables.';\n",
              "          element.innerHTML = '';\n",
              "          dataTable['output_type'] = 'display_data';\n",
              "          await google.colab.output.renderOutput(dataTable, element);\n",
              "          const docLink = document.createElement('div');\n",
              "          docLink.innerHTML = docLinkHtml;\n",
              "          element.appendChild(docLink);\n",
              "        }\n",
              "      </script>\n",
              "    </div>\n",
              "  </div>\n",
              "  "
            ]
          },
          "metadata": {},
          "execution_count": 72
        }
      ],
      "source": [
        "top_Category_installs = pd.merge(top_Category, Category_installs, on='Category')\n",
        "top_Category_installs.head(5)"
      ]
    },
    {
      "cell_type": "code",
      "source": [
        "top_10_Categories_installs = top_Category_installs.head(10).sort_values(by = ['Installs'],ascending = False)"
      ],
      "metadata": {
        "id": "09MtfIvKjcg4"
      },
      "execution_count": 78,
      "outputs": []
    },
    {
      "cell_type": "code",
      "execution_count": 79,
      "metadata": {
        "colab": {
          "base_uri": "https://localhost:8080/",
          "height": 553
        },
        "id": "UJkgz61AZQ4S",
        "outputId": "1749363b-e7dc-40b5-f1f0-640248c8a7f1"
      },
      "outputs": [
        {
          "output_type": "execute_result",
          "data": {
            "text/plain": [
              "<matplotlib.axes._subplots.AxesSubplot at 0x7fdd4e2f0b10>"
            ]
          },
          "metadata": {},
          "execution_count": 79
        },
        {
          "output_type": "display_data",
          "data": {
            "text/plain": [
              "<Figure size 1008x504 with 1 Axes>"
            ],
            "image/png": "[encoded data removed]"
          },
          "metadata": {
            "needs_background": "light"
          }
        }
      ],
      "source": [
        "plt.figure(figsize=(14,7))\n",
        "plt.xticks(rotation=60)\n",
        "plt.xlabel(\"Category\")\n",
        "plt.ylabel(\"Number of applications\")\n",
        "plt.title(\"Top 10 Installed Categories\")\n",
        "sns.barplot(x = top_10_Categories_installs.Category,y= top_10_Categories_installs.Installs)"
      ]
    },
    {
      "cell_type": "markdown",
      "metadata": {
        "id": "sLSF5wozHegk"
      },
      "source": [
        "## Ans - Tools, Productivity,Education, Music & Audio, Personalization, Lifestyle, Education, Business, Books & Reference, Health & Fitness "
      ]
    },
    {
      "cell_type": "markdown",
      "metadata": {
        "id": "clJv_Ug65y14"
      },
      "source": [
        "## Q -  What are the 10 Categories in playstore as per the count?"
      ]
    },
    {
      "cell_type": "code",
      "source": [
        "plt.figure(figsize=(14,7))\n",
        "plt.xticks(rotation=60)\n",
        "plt.xlabel(\"Category\")\n",
        "plt.ylabel(\"Number of applications\")\n",
        "plt.title(\"Top 10 Categories\")\n",
        "sns.barplot(x = top_10_Categories_installs.Category, y = top_10_Categories_installs.Count)"
      ],
      "metadata": {
        "colab": {
          "base_uri": "https://localhost:8080/",
          "height": 553
        },
        "id": "GAFB-r3jjtJP",
        "outputId": "4faf8dc6-3818-491e-e724-b5802f55dd97"
      },
      "execution_count": 83,
      "outputs": [
        {
          "output_type": "execute_result",
          "data": {
            "text/plain": [
              "<matplotlib.axes._subplots.AxesSubplot at 0x7fdd4d4d7b10>"
            ]
          },
          "metadata": {},
          "execution_count": 83
        },
        {
          "output_type": "display_data",
          "data": {
            "text/plain": [
              "<Figure size 1008x504 with 1 Axes>"
            ],
            "image/png": "[encoded data removed]"
          },
          "metadata": {
            "needs_background": "light"
          }
        }
      ]
    },
    {
      "cell_type": "markdown",
      "metadata": {
        "id": "ApwHLFBWM2Ft"
      },
      "source": [
        "##Ans - Education, Music & Audio, Tools, Business, Entertainment, Lifestyle, Books & Reference, Personalization, Health & Fitness, Productivity. "
      ]
    },
    {
      "cell_type": "markdown",
      "metadata": {
        "id": "pusKgQBYIo88"
      },
      "source": [
        "## Observation :\n",
        "As we can see from the above two plots: Maxinum number of apps present in google play store comes under Education Tools, Business and Entertainment etc., Categories but as per the installation scenario it is different. Maximum installed apps comes under Tools, Productivity,Entertainment, Music & Audio etc.,"
      ]
    },
    {
      "cell_type": "markdown",
      "metadata": {
        "id": "ki-i5ED7FgD-"
      },
      "source": [
        "## visualize Total Categories and the count of Apps in each category "
      ]
    },
    {
      "cell_type": "code",
      "execution_count": 84,
      "metadata": {
        "colab": {
          "base_uri": "https://localhost:8080/",
          "height": 583
        },
        "id": "ObVxwRl_ZQ1M",
        "outputId": "25362f6d-433c-4aee-8296-eb926c84285f"
      },
      "outputs": [
        {
          "output_type": "execute_result",
          "data": {
            "text/plain": [
              "<matplotlib.axes._subplots.AxesSubplot at 0x7fdd4d4a7cd0>"
            ]
          },
          "metadata": {},
          "execution_count": 84
        },
        {
          "output_type": "display_data",
          "data": {
            "text/plain": [
              "<Figure size 1008x504 with 1 Axes>"
            ],
            "image/png": "[encoded data removed]"
          },
          "metadata": {
            "needs_background": "light"
          }
        }
      ],
      "source": [
        "plt.figure(figsize=(14,7))\n",
        "plt.xticks(rotation=90)\n",
        "plt.xlabel(\"Category\")\n",
        "plt.ylabel(\"Number of applications\")\n",
        "plt.title(\"Total Categories and count of Applications in each category \")\n",
        "sns.barplot(x = top_Category_installs.Category, y = top_Category_installs.Count)\n"
      ]
    },
    {
      "cell_type": "markdown",
      "metadata": {
        "id": "psp8_yGULDsd"
      },
      "source": [
        "## Visualize Total Categories and installed Applications in each category"
      ]
    },
    {
      "cell_type": "code",
      "execution_count": 85,
      "metadata": {
        "colab": {
          "base_uri": "https://localhost:8080/",
          "height": 583
        },
        "id": "lz3tKdm3ZQzQ",
        "outputId": "cc9f70f0-1c1a-4536-a7e6-e25416773b13"
      },
      "outputs": [
        {
          "output_type": "execute_result",
          "data": {
            "text/plain": [
              "<matplotlib.axes._subplots.AxesSubplot at 0x7fdd4d988390>"
            ]
          },
          "metadata": {},
          "execution_count": 85
        },
        {
          "output_type": "display_data",
          "data": {
            "text/plain": [
              "<Figure size 1008x504 with 1 Axes>"
            ],
            "image/png": "[encoded data removed]"
          },
          "metadata": {
            "needs_background": "light"
          }
        }
      ],
      "source": [
        "plt.figure(figsize=(14,7))\n",
        "plt.xticks(rotation=90)\n",
        "plt.xlabel(\"Category\")\n",
        "plt.ylabel(\"Number of applications\")\n",
        "plt.title(\"Total Categories and Installation of Applications in each category \")\n",
        "sns.barplot(x = top_Category_installs.Category,y = top_Category_installs.Installs)\n"
      ]
    },
    {
      "cell_type": "markdown",
      "metadata": {
        "id": "Uturd4cZL5Me"
      },
      "source": [
        "Rating distribution"
      ]
    },
    {
      "cell_type": "code",
      "execution_count": 86,
      "metadata": {
        "colab": {
          "base_uri": "https://localhost:8080/",
          "height": 481
        },
        "id": "YIEITAyCUQHl",
        "outputId": "eb617b3c-3e47-4611-8562-11b05db4c8f9"
      },
      "outputs": [
        {
          "output_type": "execute_result",
          "data": {
            "text/plain": [
              "Text(0.5, 1.0, 'Distribution of Rating')"
            ]
          },
          "metadata": {},
          "execution_count": 86
        },
        {
          "output_type": "display_data",
          "data": {
            "text/plain": [
              "<Figure size 1008x504 with 1 Axes>"
            ],
            "image/png": "[encoded data removed]"
          },
          "metadata": {
            "needs_background": "light"
          }
        }
      ],
      "source": [
        "plt.figure(figsize=(14,7))\n",
        "g = sns.kdeplot(df.Rating, color=\"Blue\", shade = True)\n",
        "g.set_xlabel(\"Rating\")\n",
        "g.set_ylabel(\"Frequency\")\n",
        "plt.title('Distribution of Rating',size = 20)"
      ]
    },
    {
      "cell_type": "code",
      "execution_count": 87,
      "metadata": {
        "colab": {
          "base_uri": "https://localhost:8080/",
          "height": 422
        },
        "id": "XG1VAMLLZQxM",
        "outputId": "02c711f6-a79a-4f6f-d9d8-b9ce941a75ba"
      },
      "outputs": [
        {
          "output_type": "execute_result",
          "data": {
            "text/plain": [
              "<matplotlib.axes._subplots.AxesSubplot at 0x7fdd4d585e10>"
            ]
          },
          "metadata": {},
          "execution_count": 87
        },
        {
          "output_type": "display_data",
          "data": {
            "text/plain": [
              "<Figure size 1440x432 with 1 Axes>"
            ],
            "image/png": "[encoded data removed]"
          },
          "metadata": {
            "needs_background": "light"
          }
        }
      ],
      "source": [
        "plt.title(\"Rating\")\n",
        "sns.histplot(df.Rating,kde=True,bins=5)"
      ]
    },
    {
      "cell_type": "markdown",
      "metadata": {
        "id": "TAkDh-cVVIq6"
      },
      "source": [
        "## Observation : \n",
        "From the above two plots we can see that most people does not give a rating,But one more thing that comes out from this graph as well is that people tend to give 4+ rating the most."
      ]
    },
    {
      "cell_type": "markdown",
      "metadata": {
        "id": "xNkZYDZzVv4w"
      },
      "source": [
        "##Q - What is the highest rated Category?"
      ]
    },
    {
      "cell_type": "code",
      "execution_count": 88,
      "metadata": {
        "colab": {
          "base_uri": "https://localhost:8080/",
          "height": 583
        },
        "id": "xgiQuJeYSNFq",
        "outputId": "6bd3fd4e-1e08-491a-dd87-e9a41a4e755e"
      },
      "outputs": [
        {
          "output_type": "execute_result",
          "data": {
            "text/plain": [
              "<matplotlib.axes._subplots.AxesSubplot at 0x7fdd4d058b90>"
            ]
          },
          "metadata": {},
          "execution_count": 88
        },
        {
          "output_type": "display_data",
          "data": {
            "text/plain": [
              "<Figure size 1008x504 with 1 Axes>"
            ],
            "image/png": "[encoded data removed]"
          },
          "metadata": {
            "needs_background": "light"
          }
        }
      ],
      "source": [
        "plt.figure(figsize=(14,7))\n",
        "plt.xticks(rotation=90)\n",
        "plt.xlabel(\"Highest Rated Category\")\n",
        "plt.ylabel(\"Number of applications\")\n",
        "plt.title(\"All Categories Rating \")\n",
        "sns.barplot(x = df.Category,y = df.Rating)"
      ]
    },
    {
      "cell_type": "markdown",
      "metadata": {
        "id": "moql2ChsPLL5"
      },
      "source": [
        "## Ans - From the above plot we can see that Role Playing is the highest Rated category\n"
      ]
    },
    {
      "cell_type": "code",
      "execution_count": 89,
      "metadata": {
        "id": "TXU_5C4fYKMM",
        "colab": {
          "base_uri": "https://localhost:8080/"
        },
        "outputId": "1ae7c921-4e0f-4843-9ba6-c6da39016764"
      },
      "outputs": [
        {
          "output_type": "execute_result",
          "data": {
            "text/plain": [
              "array(['Everyone', 'Teen', 'Adults'], dtype=object)"
            ]
          },
          "metadata": {},
          "execution_count": 89
        }
      ],
      "source": [
        "df['Content Rating'].unique()"
      ]
    },
    {
      "cell_type": "code",
      "execution_count": 90,
      "metadata": {
        "colab": {
          "base_uri": "https://localhost:8080/",
          "height": 531
        },
        "id": "U00get-Ma_BP",
        "outputId": "89523e32-25db-44d7-c5af-435ae3fa1f9c"
      },
      "outputs": [
        {
          "output_type": "execute_result",
          "data": {
            "text/plain": [
              "<matplotlib.axes._subplots.AxesSubplot at 0x7fdd53b02a90>"
            ]
          },
          "metadata": {},
          "execution_count": 90
        },
        {
          "output_type": "display_data",
          "data": {
            "text/plain": [
              "<Figure size 576x576 with 1 Axes>"
            ],
            "image/png": "[encoded data removed]"
          },
          "metadata": {
            "needs_background": "light"
          }
        }
      ],
      "source": [
        "plt.figure(figsize=(8,8))\n",
        "plt.title(\"Content Rating and Maximum installations \")\n",
        "sns.scatterplot(x='Maximum Installs',y='Rating Count',data=df,hue='Content Rating')"
      ]
    },
    {
      "cell_type": "markdown",
      "metadata": {
        "id": "cRBY7rAXZNey"
      },
      "source": [
        "## Observation :\n",
        "This scatterplot shows us that:\n",
        " If we exclude everyone from the plot and when focus on Teen and Adults we can see that teens have much engagement in terms of download and rating count."
      ]
    },
    {
      "cell_type": "markdown",
      "metadata": {
        "id": "QHREBuARcajj"
      },
      "source": [
        "##Q - Which Category has the highest Paid and Free apps ?"
      ]
    },
    {
      "cell_type": "code",
      "execution_count": 91,
      "metadata": {
        "id": "YZ3kp375eRaz"
      },
      "outputs": [],
      "source": [
        "app_count = df.groupby(['Category','Type'])[['App Name']].count().reset_index().rename(columns={'App Name':'Count','index':'App Name'})\n",
        "df_app_count = app_count.pivot('Category', 'Type', 'Count').fillna(0).reset_index()"
      ]
    },
    {
      "cell_type": "code",
      "execution_count": 92,
      "metadata": {
        "colab": {
          "base_uri": "https://localhost:8080/",
          "height": 697
        },
        "id": "yCVYmKyzZQoA",
        "outputId": "039c8aa6-3b47-4c01-878c-18c7ea5045d0"
      },
      "outputs": [
        {
          "output_type": "execute_result",
          "data": {
            "text/plain": [
              "Text(0.5, 1.0, 'Free and Paid Apps in Category')"
            ]
          },
          "metadata": {},
          "execution_count": 92
        },
        {
          "output_type": "display_data",
          "data": {
            "text/plain": [
              "<Figure size 1296x648 with 1 Axes>"
            ],
            "image/png": "[encoded data removed]"
          },
          "metadata": {
            "needs_background": "light"
          }
        }
      ],
      "source": [
        "df_app_count.set_index('Category').plot(kind='bar', stacked=True, figsize=(18,9)) # try df_app_count.plot(kind='bar', stacked=True, figsize=(18,9))\n",
        "plt.xlabel(\"Category\", fontsize=15)\n",
        "plt.ylabel(\"Count\", fontsize=15)\n",
        "plt.title(\"Free and Paid Apps in Category\")"
      ]
    },
    {
      "cell_type": "markdown",
      "metadata": {
        "id": "OLubp2RWP4wp"
      },
      "source": [
        "## Ans - Education Category is the highest in paid apps list"
      ]
    },
    {
      "cell_type": "markdown",
      "metadata": {
        "id": "7srSEHaxRfPV"
      },
      "source": [
        "## Observation : \n",
        "It looks like certain app categories have more free apps available for download than others. In our dataset, the majority of apps in Business,Education, Music & Audio, Tools as well as Social categories were free to install. At the same time Books & References, Education, Tools and Personalization categories had the biggest number of paid apps available for Installation."
      ]
    },
    {
      "cell_type": "markdown",
      "metadata": {
        "id": "jnvQAmeNN_S6"
      },
      "source": [
        "##visualize the Installation Types in each category\n",
        "\n"
      ]
    },
    {
      "cell_type": "code",
      "execution_count": 93,
      "metadata": {
        "id": "MgL9zUKcPstV",
        "colab": {
          "base_uri": "https://localhost:8080/"
        },
        "outputId": "21d23033-f0a9-4d86-f064-6dfe802bb88c"
      },
      "outputs": [
        {
          "output_type": "execute_result",
          "data": {
            "text/plain": [
              "(0, 10000000000)"
            ]
          },
          "metadata": {},
          "execution_count": 93
        }
      ],
      "source": [
        "df['Installs'].min(),df['Installs'].max()"
      ]
    },
    {
      "cell_type": "markdown",
      "metadata": {
        "id": "LSNR5xyfQQu1"
      },
      "source": [
        "There is a high variance in the number of installs, we need to reduce it so we can use a log value for this column, otherwise it would be unable to see the data when we visualize"
      ]
    },
    {
      "cell_type": "code",
      "execution_count": 94,
      "metadata": {
        "id": "M566oJmdTIG5"
      },
      "outputs": [],
      "source": [
        "categoty_type_installs = df.groupby(['Category','Type'])[['Installs']].sum().reset_index()\n",
        "categoty_type_installs['log_Installs'] = np.log10(categoty_type_installs['Installs'])"
      ]
    },
    {
      "cell_type": "code",
      "execution_count": 95,
      "metadata": {
        "colab": {
          "base_uri": "https://localhost:8080/",
          "height": 675
        },
        "id": "6H0IE6MrTnei",
        "outputId": "7b68b178-f4a3-45fa-b4c3-596bbabdc3b9"
      },
      "outputs": [
        {
          "output_type": "execute_result",
          "data": {
            "text/plain": [
              "<matplotlib.axes._subplots.AxesSubplot at 0x7fdd6703e510>"
            ]
          },
          "metadata": {},
          "execution_count": 95
        },
        {
          "output_type": "display_data",
          "data": {
            "text/plain": [
              "<Figure size 1296x648 with 1 Axes>"
            ],
            "image/png": "[encoded data removed]"
          },
          "metadata": {
            "needs_background": "light"
          }
        }
      ],
      "source": [
        "plt.figure(figsize=(18,9))\n",
        "plt.xticks(rotation=65,fontsize=9)\n",
        "plt.xlabel(\"Category\")\n",
        "plt.ylabel(\"Installs\")\n",
        "plt.title(\"Number of installed Apps type wise according to Category\")\n",
        "sns.barplot(x = 'Category', y = 'log_Installs', hue='Type', data=categoty_type_installs)"
      ]
    },
    {
      "cell_type": "markdown",
      "metadata": {
        "id": "Pgo1Xk5PWKTF"
      },
      "source": [
        "##Q - How does the size of the Application impacts the Installation ?"
      ]
    },
    {
      "cell_type": "code",
      "execution_count": 96,
      "metadata": {
        "id": "UW3dySaVW_pP"
      },
      "outputs": [],
      "source": [
        "df['log_Installs'] = np.log10(categoty_type_installs['Installs'])"
      ]
    },
    {
      "cell_type": "code",
      "execution_count": 97,
      "metadata": {
        "colab": {
          "base_uri": "https://localhost:8080/",
          "height": 476
        },
        "id": "fdA9FPujTqlT",
        "outputId": "b923d99c-aedd-408e-d595-db89a48e7495"
      },
      "outputs": [
        {
          "output_type": "execute_result",
          "data": {
            "text/plain": [
              "<matplotlib.axes._subplots.AxesSubplot at 0x7fdd61699490>"
            ]
          },
          "metadata": {},
          "execution_count": 97
        },
        {
          "output_type": "display_data",
          "data": {
            "text/plain": [
              "<Figure size 1008x504 with 1 Axes>"
            ],
            "image/png": "[encoded data removed]"
          },
          "metadata": {
            "needs_background": "light"
          }
        }
      ],
      "source": [
        "plt.figure(figsize=(14,7))\n",
        "plt.xlabel(\"Size\")\n",
        "plt.ylabel(\"Installs\")\n",
        "plt.title(\"Impact of Application Size in Installation\")\n",
        "sns.scatterplot(x = 'Size',y = 'Installs', hue='Type', data=df)"
      ]
    },
    {
      "cell_type": "markdown",
      "metadata": {
        "id": "5CSDIFw9bP8O"
      },
      "source": [
        "##Ans - from the above plot we can see that size impacts the number of installations. Applications with large size are less installed by the user."
      ]
    },
    {
      "cell_type": "markdown",
      "metadata": {
        "id": "-m1tnM4Dc9qh"
      },
      "source": [
        "## Let's see some correlations\n"
      ]
    },
    {
      "cell_type": "code",
      "execution_count": 98,
      "metadata": {
        "colab": {
          "base_uri": "https://localhost:8080/",
          "height": 490
        },
        "id": "CobSaGnDcmQs",
        "outputId": "797b3edd-b32f-4b78-b68d-bfb9f3b4890a"
      },
      "outputs": [
        {
          "output_type": "execute_result",
          "data": {
            "text/plain": [
              "                    Rating  Rating Count  Installs  Minimum Installs  \\\n",
              "Rating            1.000000      0.013038  0.011215          0.011215   \n",
              "Rating Count      0.013038      1.000000  0.545281          0.545281   \n",
              "Installs          0.011215      0.545281  1.000000          1.000000   \n",
              "Minimum Installs  0.011215      0.545281  1.000000          1.000000   \n",
              "Maximum Installs  0.012615      0.547571  0.954037          0.954037   \n",
              "Price            -0.003674     -0.000411 -0.000461         -0.000461   \n",
              "Size              0.046099      0.013600  0.004240          0.004240   \n",
              "Ad Supported      0.160503      0.005294  0.002249          0.002249   \n",
              "In App Purchases  0.153824      0.025737  0.014178          0.014178   \n",
              "Editors Choice    0.019485      0.137311  0.059932          0.059932   \n",
              "log_Installs     -0.023632      0.076834  0.077248          0.077248   \n",
              "\n",
              "                  Maximum Installs     Price      Size  Ad Supported  \\\n",
              "Rating                    0.012615 -0.003674  0.046099      0.160503   \n",
              "Rating Count              0.547571 -0.000411  0.013600      0.005294   \n",
              "Installs                  0.954037 -0.000461  0.004240      0.002249   \n",
              "Minimum Installs          0.954037 -0.000461  0.004240      0.002249   \n",
              "Maximum Installs          1.000000 -0.000515  0.005093      0.002881   \n",
              "Price                    -0.000515  1.000000  0.004160     -0.034281   \n",
              "Size                      0.005093  0.004160  1.000000     -0.042772   \n",
              "Ad Supported              0.002881 -0.034281 -0.042772      1.000000   \n",
              "In App Purchases          0.016100 -0.002636  0.165194      0.138304   \n",
              "Editors Choice            0.064206  0.000503  0.039926      0.005701   \n",
              "log_Installs              0.079792       NaN  0.024328      0.140935   \n",
              "\n",
              "                  In App Purchases  Editors Choice  log_Installs  \n",
              "Rating                    0.153824        0.019485     -0.023632  \n",
              "Rating Count              0.025737        0.137311      0.076834  \n",
              "Installs                  0.014178        0.059932      0.077248  \n",
              "Minimum Installs          0.014178        0.059932      0.077248  \n",
              "Maximum Installs          0.016100        0.064206      0.079792  \n",
              "Price                    -0.002636        0.000503           NaN  \n",
              "Size                      0.165194        0.039926      0.024328  \n",
              "Ad Supported              0.138304        0.005701      0.140935  \n",
              "In App Purchases          1.000000        0.046078     -0.021114  \n",
              "Editors Choice            0.046078        1.000000           NaN  \n",
              "log_Installs             -0.021114             NaN      1.000000  "
            ],
            "text/html": [
              "\n",
              "  <div id=\"df-de2ebaf5-b87d-4c5d-8357-9c30be4ce07c\">\n",
              "    <div class=\"colab-df-container\">\n",
              "      <div>\n",
              "<style scoped>\n",
              "    .dataframe tbody tr th:only-of-type {\n",
              "        vertical-align: middle;\n",
              "    }\n",
              "\n",
              "    .dataframe tbody tr th {\n",
              "        vertical-align: top;\n",
              "    }\n",
              "\n",
              "    .dataframe thead th {\n",
              "        text-align: right;\n",
              "    }\n",
              "</style>\n",
              "<table border=\"1\" class=\"dataframe\">\n",
              "  <thead>\n",
              "    <tr style=\"text-align: right;\">\n",
              "      <th></th>\n",
              "      <th>Rating</th>\n",
              "      <th>Rating Count</th>\n",
              "      <th>Installs</th>\n",
              "      <th>Minimum Installs</th>\n",
              "      <th>Maximum Installs</th>\n",
              "      <th>Price</th>\n",
              "      <th>Size</th>\n",
              "      <th>Ad Supported</th>\n",
              "      <th>In App Purchases</th>\n",
              "      <th>Editors Choice</th>\n",
              "      <th>log_Installs</th>\n",
              "    </tr>\n",
              "  </thead>\n",
              "  <tbody>\n",
              "    <tr>\n",
              "      <th>Rating</th>\n",
              "      <td>1.000000</td>\n",
              "      <td>0.013038</td>\n",
              "      <td>0.011215</td>\n",
              "      <td>0.011215</td>\n",
              "      <td>0.012615</td>\n",
              "      <td>-0.003674</td>\n",
              "      <td>0.046099</td>\n",
              "      <td>0.160503</td>\n",
              "      <td>0.153824</td>\n",
              "      <td>0.019485</td>\n",
              "      <td>-0.023632</td>\n",
              "    </tr>\n",
              "    <tr>\n",
              "      <th>Rating Count</th>\n",
              "      <td>0.013038</td>\n",
              "      <td>1.000000</td>\n",
              "      <td>0.545281</td>\n",
              "      <td>0.545281</td>\n",
              "      <td>0.547571</td>\n",
              "      <td>-0.000411</td>\n",
              "      <td>0.013600</td>\n",
              "      <td>0.005294</td>\n",
              "      <td>0.025737</td>\n",
              "      <td>0.137311</td>\n",
              "      <td>0.076834</td>\n",
              "    </tr>\n",
              "    <tr>\n",
              "      <th>Installs</th>\n",
              "      <td>0.011215</td>\n",
              "      <td>0.545281</td>\n",
              "      <td>1.000000</td>\n",
              "      <td>1.000000</td>\n",
              "      <td>0.954037</td>\n",
              "      <td>-0.000461</td>\n",
              "      <td>0.004240</td>\n",
              "      <td>0.002249</td>\n",
              "      <td>0.014178</td>\n",
              "      <td>0.059932</td>\n",
              "      <td>0.077248</td>\n",
              "    </tr>\n",
              "    <tr>\n",
              "      <th>Minimum Installs</th>\n",
              "      <td>0.011215</td>\n",
              "      <td>0.545281</td>\n",
              "      <td>1.000000</td>\n",
              "      <td>1.000000</td>\n",
              "      <td>0.954037</td>\n",
              "      <td>-0.000461</td>\n",
              "      <td>0.004240</td>\n",
              "      <td>0.002249</td>\n",
              "      <td>0.014178</td>\n",
              "      <td>0.059932</td>\n",
              "      <td>0.077248</td>\n",
              "    </tr>\n",
              "    <tr>\n",
              "      <th>Maximum Installs</th>\n",
              "      <td>0.012615</td>\n",
              "      <td>0.547571</td>\n",
              "      <td>0.954037</td>\n",
              "      <td>0.954037</td>\n",
              "      <td>1.000000</td>\n",
              "      <td>-0.000515</td>\n",
              "      <td>0.005093</td>\n",
              "      <td>0.002881</td>\n",
              "      <td>0.016100</td>\n",
              "      <td>0.064206</td>\n",
              "      <td>0.079792</td>\n",
              "    </tr>\n",
              "    <tr>\n",
              "      <th>Price</th>\n",
              "      <td>-0.003674</td>\n",
              "      <td>-0.000411</td>\n",
              "      <td>-0.000461</td>\n",
              "      <td>-0.000461</td>\n",
              "      <td>-0.000515</td>\n",
              "      <td>1.000000</td>\n",
              "      <td>0.004160</td>\n",
              "      <td>-0.034281</td>\n",
              "      <td>-0.002636</td>\n",
              "      <td>0.000503</td>\n",
              "      <td>NaN</td>\n",
              "    </tr>\n",
              "    <tr>\n",
              "      <th>Size</th>\n",
              "      <td>0.046099</td>\n",
              "      <td>0.013600</td>\n",
              "      <td>0.004240</td>\n",
              "      <td>0.004240</td>\n",
              "      <td>0.005093</td>\n",
              "      <td>0.004160</td>\n",
              "      <td>1.000000</td>\n",
              "      <td>-0.042772</td>\n",
              "      <td>0.165194</td>\n",
              "      <td>0.039926</td>\n",
              "      <td>0.024328</td>\n",
              "    </tr>\n",
              "    <tr>\n",
              "      <th>Ad Supported</th>\n",
              "      <td>0.160503</td>\n",
              "      <td>0.005294</td>\n",
              "      <td>0.002249</td>\n",
              "      <td>0.002249</td>\n",
              "      <td>0.002881</td>\n",
              "      <td>-0.034281</td>\n",
              "      <td>-0.042772</td>\n",
              "      <td>1.000000</td>\n",
              "      <td>0.138304</td>\n",
              "      <td>0.005701</td>\n",
              "      <td>0.140935</td>\n",
              "    </tr>\n",
              "    <tr>\n",
              "      <th>In App Purchases</th>\n",
              "      <td>0.153824</td>\n",
              "      <td>0.025737</td>\n",
              "      <td>0.014178</td>\n",
              "      <td>0.014178</td>\n",
              "      <td>0.016100</td>\n",
              "      <td>-0.002636</td>\n",
              "      <td>0.165194</td>\n",
              "      <td>0.138304</td>\n",
              "      <td>1.000000</td>\n",
              "      <td>0.046078</td>\n",
              "      <td>-0.021114</td>\n",
              "    </tr>\n",
              "    <tr>\n",
              "      <th>Editors Choice</th>\n",
              "      <td>0.019485</td>\n",
              "      <td>0.137311</td>\n",
              "      <td>0.059932</td>\n",
              "      <td>0.059932</td>\n",
              "      <td>0.064206</td>\n",
              "      <td>0.000503</td>\n",
              "      <td>0.039926</td>\n",
              "      <td>0.005701</td>\n",
              "      <td>0.046078</td>\n",
              "      <td>1.000000</td>\n",
              "      <td>NaN</td>\n",
              "    </tr>\n",
              "    <tr>\n",
              "      <th>log_Installs</th>\n",
              "      <td>-0.023632</td>\n",
              "      <td>0.076834</td>\n",
              "      <td>0.077248</td>\n",
              "      <td>0.077248</td>\n",
              "      <td>0.079792</td>\n",
              "      <td>NaN</td>\n",
              "      <td>0.024328</td>\n",
              "      <td>0.140935</td>\n",
              "      <td>-0.021114</td>\n",
              "      <td>NaN</td>\n",
              "      <td>1.000000</td>\n",
              "    </tr>\n",
              "  </tbody>\n",
              "</table>\n",
              "</div>\n",
              "      <button class=\"colab-df-convert\" onclick=\"convertToInteractive('df-de2ebaf5-b87d-4c5d-8357-9c30be4ce07c')\"\n",
              "              title=\"Convert this dataframe to an interactive table.\"\n",
              "              style=\"display:none;\">\n",
              "        \n",
              "  <svg xmlns=\"http://www.w3.org/2000/svg\" height=\"24px\"viewBox=\"0 0 24 24\"\n",
              "       width=\"24px\">\n",
              "    <path d=\"M0 0h24v24H0V0z\" fill=\"none\"/>\n",
              "    <path d=\"M18.56 5.44l.94 2.06.94-2.06 2.06-.94-2.06-.94-.94-2.06-.94 2.06-2.06.94zm-11 1L8.5 8.5l.94-2.06 2.06-.94-2.06-.94L8.5 2.5l-.94 2.06-2.06.94zm10 10l.94 2.06.94-2.06 2.06-.94-2.06-.94-.94-2.06-.94 2.06-2.06.94z\"/><path d=\"M17.41 7.96l-1.37-1.37c-.4-.4-.92-.59-1.43-.59-.52 0-1.04.2-1.43.59L10.3 9.45l-7.72 7.72c-.78.78-.78 2.05 0 2.83L4 21.41c.39.39.9.59 1.41.59.51 0 1.02-.2 1.41-.59l7.78-7.78 2.81-2.81c.8-.78.8-2.07 0-2.86zM5.41 20L4 18.59l7.72-7.72 1.47 1.35L5.41 20z\"/>\n",
              "  </svg>\n",
              "      </button>\n",
              "      \n",
              "  <style>\n",
              "    .colab-df-container {\n",
              "      display:flex;\n",
              "      flex-wrap:wrap;\n",
              "      gap: 12px;\n",
              "    }\n",
              "\n",
              "    .colab-df-convert {\n",
              "      background-color: #E8F0FE;\n",
              "      border: none;\n",
              "      border-radius: 50%;\n",
              "      cursor: pointer;\n",
              "      display: none;\n",
              "      fill: #1967D2;\n",
              "      height: 32px;\n",
              "      padding: 0 0 0 0;\n",
              "      width: 32px;\n",
              "    }\n",
              "\n",
              "    .colab-df-convert:hover {\n",
              "      background-color: #E2EBFA;\n",
              "      box-shadow: 0px 1px 2px rgba(60, 64, 67, 0.3), 0px 1px 3px 1px rgba(60, 64, 67, 0.15);\n",
              "      fill: #174EA6;\n",
              "    }\n",
              "\n",
              "    [theme=dark] .colab-df-convert {\n",
              "      background-color: #3B4455;\n",
              "      fill: #D2E3FC;\n",
              "    }\n",
              "\n",
              "    [theme=dark] .colab-df-convert:hover {\n",
              "      background-color: #434B5C;\n",
              "      box-shadow: 0px 1px 3px 1px rgba(0, 0, 0, 0.15);\n",
              "      filter: drop-shadow(0px 1px 2px rgba(0, 0, 0, 0.3));\n",
              "      fill: #FFFFFF;\n",
              "    }\n",
              "  </style>\n",
              "\n",
              "      <script>\n",
              "        const buttonEl =\n",
              "          document.querySelector('#df-de2ebaf5-b87d-4c5d-8357-9c30be4ce07c button.colab-df-convert');\n",
              "        buttonEl.style.display =\n",
              "          google.colab.kernel.accessAllowed ? 'block' : 'none';\n",
              "\n",
              "        async function convertToInteractive(key) {\n",
              "          const element = document.querySelector('#df-de2ebaf5-b87d-4c5d-8357-9c30be4ce07c');\n",
              "          const dataTable =\n",
              "            await google.colab.kernel.invokeFunction('convertToInteractive',\n",
              "                                                     [key], {});\n",
              "          if (!dataTable) return;\n",
              "\n",
              "          const docLinkHtml = 'Like what you see? Visit the ' +\n",
              "            '<a target=\"_blank\" href=https://colab.research.google.com/notebooks/data_table.ipynb>data table notebook</a>'\n",
              "            + ' to learn more about interactive tables.';\n",
              "          element.innerHTML = '';\n",
              "          dataTable['output_type'] = 'display_data';\n",
              "          await google.colab.output.renderOutput(dataTable, element);\n",
              "          const docLink = document.createElement('div');\n",
              "          docLink.innerHTML = docLinkHtml;\n",
              "          element.appendChild(docLink);\n",
              "        }\n",
              "      </script>\n",
              "    </div>\n",
              "  </div>\n",
              "  "
            ]
          },
          "metadata": {},
          "execution_count": 98
        }
      ],
      "source": [
        "df.corr()"
      ]
    },
    {
      "cell_type": "code",
      "execution_count": 99,
      "metadata": {
        "colab": {
          "base_uri": "https://localhost:8080/",
          "height": 474
        },
        "id": "TcCirVP9Tqfy",
        "outputId": "eebc743b-47fe-4043-dac1-aefaf7efc0a2"
      },
      "outputs": [
        {
          "output_type": "execute_result",
          "data": {
            "text/plain": [
              "<matplotlib.axes._subplots.AxesSubplot at 0x7fdd61674810>"
            ]
          },
          "metadata": {},
          "execution_count": 99
        },
        {
          "output_type": "display_data",
          "data": {
            "text/plain": [
              "<Figure size 576x432 with 2 Axes>"
            ],
            "image/png": "[encoded data removed]"
          },
          "metadata": {
            "needs_background": "light"
          }
        }
      ],
      "source": [
        "plt.figure(figsize=(8,6))\n",
        "sns.heatmap(df.corr(),cbar= True, cmap='coolwarm')"
      ]
    },
    {
      "cell_type": "markdown",
      "metadata": {
        "id": "IfpnldCUgM0J"
      },
      "source": [
        "##Observation :     \n",
        " Factors like AdSupport and InappPurchases are correlated to app rating. So we can say that if the app provides customer support and have subscription plans we can engage more customers. We can also see from the same graph that the editor's choice plays a important role as well. With high editor choice we can see high ratings count and high installs.\n"
      ]
    },
    {
      "cell_type": "markdown",
      "metadata": {
        "id": "DRuWPPcrhU7l"
      },
      "source": [
        "##Q - What are the Top 5 Paid Apps based With highest ratings and installs ?"
      ]
    },
    {
      "cell_type": "code",
      "execution_count": 100,
      "metadata": {
        "id": "3QUdvcOJwmqu",
        "colab": {
          "base_uri": "https://localhost:8080/"
        },
        "outputId": "1ed9b3ca-b023-4847-ea5c-94f45d70fc7f"
      },
      "outputs": [
        {
          "output_type": "execute_result",
          "data": {
            "text/plain": [
              "10000000000"
            ]
          },
          "metadata": {},
          "execution_count": 100
        }
      ],
      "source": [
        "df['Installs'].max()"
      ]
    },
    {
      "cell_type": "code",
      "execution_count": 101,
      "metadata": {
        "id": "Ja5ATuRVM_eS"
      },
      "outputs": [],
      "source": [
        "paid_apps = df[(df.Type=='Paid') & (df.Installs >= 5000000)]\n",
        "paid_apps = paid_apps.groupby('App Name')['Rating'].max().sort_values(ascending = False)"
      ]
    },
    {
      "cell_type": "code",
      "execution_count": 102,
      "metadata": {
        "colab": {
          "base_uri": "https://localhost:8080/",
          "height": 313
        },
        "id": "iA33XHwYTqMM",
        "outputId": "addd226a-6e42-4bcf-8c6b-ba33f71fb074"
      },
      "outputs": [
        {
          "output_type": "execute_result",
          "data": {
            "text/plain": [
              "<matplotlib.axes._subplots.AxesSubplot at 0x7fdd656c75d0>"
            ]
          },
          "metadata": {},
          "execution_count": 102
        },
        {
          "output_type": "display_data",
          "data": {
            "text/plain": [
              "<Figure size 576x288 with 1 Axes>"
            ],
            "image/png": "[encoded data removed]"
          },
          "metadata": {
            "needs_background": "light"
          }
        }
      ],
      "source": [
        "plt.figure(figsize=(8,4))\n",
        "plt.xlabel(\"Rating\")\n",
        "sns.set_theme(style=\"whitegrid\")\n",
        "plt.title(\"Top 5 Paid Rated Apps\")\n",
        "sns.lineplot(x=paid_apps.values,y=paid_apps.index,color='Blue')\n"
      ]
    },
    {
      "cell_type": "markdown",
      "metadata": {
        "id": "n5ZNy7lpQiiD"
      },
      "source": [
        "## Ans - Minecraft, Hitman Sniper, True Skate, Stickman Legends-Shadow Fight Premium Offline Game, Poweramp Full Version Unlocker, League of Stickman 2020- Ninja Arena PVP(Dreamsky)"
      ]
    },
    {
      "cell_type": "markdown",
      "metadata": {
        "id": "RFEZH3g7RAdU"
      },
      "source": [
        "##Q - What are the Top 5 Free Apps based With highest ratings and installs ?"
      ]
    },
    {
      "cell_type": "code",
      "execution_count": 103,
      "metadata": {
        "id": "SowAG9V_PfXy"
      },
      "outputs": [],
      "source": [
        "free_apps = df[(df.Type=='Free') & (df.Installs >= 5000000)]\n",
        "free_apps = free_apps.groupby('App Name')['Rating'].max().sort_values(ascending = False)\n",
        "free_apps = free_apps.head(5)"
      ]
    },
    {
      "cell_type": "code",
      "execution_count": 104,
      "metadata": {
        "colab": {
          "base_uri": "https://localhost:8080/",
          "height": 319
        },
        "id": "HVI2dWhRRKAM",
        "outputId": "5cacb297-f1e4-4ba9-bd6c-9ff0ca61b9c2"
      },
      "outputs": [
        {
          "output_type": "execute_result",
          "data": {
            "text/plain": [
              "<matplotlib.axes._subplots.AxesSubplot at 0x7fdd6657c590>"
            ]
          },
          "metadata": {},
          "execution_count": 104
        },
        {
          "output_type": "display_data",
          "data": {
            "text/plain": [
              "<Figure size 576x288 with 1 Axes>"
            ],
            "image/png": "[encoded data removed]"
          },
          "metadata": {}
        }
      ],
      "source": [
        "plt.figure(figsize=(8,4))\n",
        "plt.xlabel(\"Rating\")\n",
        "sns.set_theme(style=\"whitegrid\")\n",
        "plt.title(\"Top 5 Free Rated Apps\")\n",
        "sns.lineplot(x = free_apps.values, y = free_apps.index,color = 'Blue')\n"
      ]
    },
    {
      "cell_type": "markdown",
      "metadata": {
        "id": "M4QXN1GVRH8w"
      },
      "source": [
        "## Ans - Photo Frame, Video maker with photo & music, Kuku FM - Love Stories,Audio Books & Podcasts, Plank Workout at Home."
      ]
    },
    {
      "cell_type": "markdown",
      "metadata": {
        "id": "HeMUA44DBidf"
      },
      "source": [
        "## Visualize the categories that have the Top 10  Max Installations \n"
      ]
    },
    {
      "cell_type": "code",
      "execution_count": 105,
      "metadata": {
        "colab": {
          "base_uri": "https://localhost:8080/",
          "height": 392
        },
        "id": "ScupxhqpCfiX",
        "outputId": "2a0216d5-3afa-4138-e13c-f655ccb11093"
      },
      "outputs": [
        {
          "output_type": "execute_result",
          "data": {
            "text/plain": [
              "Text(0.5, 1.0, 'Top 10 Max installations Category wise')"
            ]
          },
          "metadata": {},
          "execution_count": 105
        },
        {
          "output_type": "display_data",
          "data": {
            "text/plain": [
              "<Figure size 576x432 with 1 Axes>"
            ],
            "image/png": "[encoded data removed]"
          },
          "metadata": {}
        }
      ],
      "source": [
        "plt.figure(figsize=(8,6))\n",
        "data = df.groupby('Category')['Maximum Installs'].max().sort_values(ascending = True)\n",
        "data = data.head(10)\n",
        "labels = data.keys()\n",
        "plt.pie(data, labels= labels,autopct='%.0f%%') \n",
        "plt.title(\"Top 10 Max installations Category wise\", fontsize=14)"
      ]
    },
    {
      "cell_type": "markdown",
      "metadata": {
        "id": "BH8mw_YAzEBl"
      },
      "source": [
        "## Visualize the Top 10 installation Categories that Adults have installed the most "
      ]
    },
    {
      "cell_type": "code",
      "execution_count": 106,
      "metadata": {
        "colab": {
          "base_uri": "https://localhost:8080/"
        },
        "id": "FyeCYMnfBvK_",
        "outputId": "eb01b63b-57e0-4f58-9b8b-a84b11e8a340"
      },
      "outputs": [
        {
          "output_type": "execute_result",
          "data": {
            "text/plain": [
              "array(['Everyone', 'Teen', 'Adults'], dtype=object)"
            ]
          },
          "metadata": {},
          "execution_count": 106
        }
      ],
      "source": [
        "df['Content Rating'].unique()"
      ]
    },
    {
      "cell_type": "code",
      "execution_count": 107,
      "metadata": {
        "colab": {
          "base_uri": "https://localhost:8080/",
          "height": 392
        },
        "id": "5JHV9vKYTqIQ",
        "outputId": "c2d74dc9-2f07-4730-be06-38a4b6703324"
      },
      "outputs": [
        {
          "output_type": "execute_result",
          "data": {
            "text/plain": [
              "Text(0.5, 1.0, 'Adults Installing apps in terms of category')"
            ]
          },
          "metadata": {},
          "execution_count": 107
        },
        {
          "output_type": "display_data",
          "data": {
            "text/plain": [
              "<Figure size 576x432 with 1 Axes>"
            ],
            "image/png": "[encoded data removed]"
          },
          "metadata": {}
        }
      ],
      "source": [
        "plt.figure(figsize=(8,6))\n",
        "Adult = df[(df['Content Rating']=='Adults')]\n",
        "Adult = Adult.groupby(['Category'])['Maximum Installs'].max().sort_values(ascending=False)\n",
        "Adult = Adult.head(10)\n",
        "labels = Adult.keys()\n",
        "plt.pie(x = Adult, autopct=\"%.1f%%\", labels=labels)\n",
        "plt.title(\"Adults Installing apps in terms of category\", fontsize=14)"
      ]
    },
    {
      "cell_type": "markdown",
      "metadata": {
        "id": "mnTnPaOZ3v6k"
      },
      "source": [
        "## Observation :\n",
        "Most of the Adults showing intrest in downloading the Social, Action and Communication Category"
      ]
    },
    {
      "cell_type": "markdown",
      "source": [
        "## visualize Teens Installing the apps in terms of Category"
      ],
      "metadata": {
        "id": "YdLHiU8Hom_J"
      }
    },
    {
      "cell_type": "code",
      "execution_count": 110,
      "metadata": {
        "colab": {
          "base_uri": "https://localhost:8080/",
          "height": 392
        },
        "id": "dfkgbgtEfQCZ",
        "outputId": "a329346b-8e83-482d-817b-efe0eff2f17a"
      },
      "outputs": [
        {
          "output_type": "execute_result",
          "data": {
            "text/plain": [
              "Text(0.5, 1.0, 'Teen Installing apps in terms of category')"
            ]
          },
          "metadata": {},
          "execution_count": 110
        },
        {
          "output_type": "display_data",
          "data": {
            "text/plain": [
              "<Figure size 576x432 with 1 Axes>"
            ],
            "image/png": "[encoded data removed]"
          },
          "metadata": {}
        }
      ],
      "source": [
        "plt.figure(figsize=(8,6))\n",
        "Teen = df[(df['Content Rating']=='Teen')]\n",
        "Teen = Teen.groupby(['Category'])['Maximum Installs'].max().sort_values(ascending=False)\n",
        "Teen = Teen.head(10)\n",
        "labels = Teen.keys()\n",
        "plt.pie(x = Teen, autopct=\"%.1f%%\", labels=labels)\n",
        "plt.title(\"Teen Installing apps in terms of category\", fontsize=14)"
      ]
    },
    {
      "cell_type": "markdown",
      "metadata": {
        "id": "IVmm2--_ZI2a"
      },
      "source": [
        "# **Summary and Conclusion** :     \n",
        "* People are more intrested to install the gaming Apps, the top Rating is given to the gaming apps.\n",
        "* InAppPurchases are correlated to App rating. So we can say that if the app provides customer support and have subscription plans it will helps to engage customers.\n",
        "* most people does not gave rating, But the people who are given rating are tend to give 4+ rating the most.\n",
        "* Most of the Audlts installed the Social and communication Apps. \n",
        "* Most of the installations are done by the teens and the most are Video Players and Editors. Video Players and Editors has more demand.\n",
        "* Size of the Application varies the installations.\n",
        "* People are mostly dwonladed the free apps the installation of the free apps is high and the availabilty of the free apps also is very high.\n",
        " \n"
      ]
    },
    {
      "cell_type": "code",
      "source": [
        ""
      ],
      "metadata": {
        "id": "gBnNosxcndYc"
      },
      "execution_count": 110,
      "outputs": []
    }
  ],
  "metadata": {
    "colab": {
      "collapsed_sections": [],
      "name": "Google_play_store_analysis.ipynb",
      "provenance": [],
      "toc_visible": true
    },
    "kernelspec": {
      "display_name": "Python 3",
      "name": "python3"
    },
    "language_info": {
      "name": "python"
    }
  },
  "nbformat": 4,
  "nbformat_minor": 0
}